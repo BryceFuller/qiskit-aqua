{
 "cells": [
  {
   "cell_type": "markdown",
   "metadata": {},
   "source": [
    "## Quantum Gradients as Aqua Components\n",
    "\n",
    "In the following notebook, we illustrate the workflow of quantum gradients as Aqua components on the example of the Quantum Fisher Information."
   ]
  },
  {
   "cell_type": "code",
   "execution_count": 3,
   "metadata": {},
   "outputs": [],
   "source": [
    "# General imports\n",
    "import numpy as np\n",
    "\n",
    "# Qiskit imports\n",
    "from qiskit import BasicAer\n",
    "from qiskit import QuantumCircuit, QuantumRegister\n",
    "from qiskit.circuit import Parameter\n",
    "from qiskit.aqua import QuantumInstance, aqua_globals\n",
    "\n",
    "# Gradient imports\n",
    "from qiskit.aqua.components.gradients.qfi import QFI\n",
    "from qiskit.aqua.components.gradients.grad_utils import trim_circuit"
   ]
  },
  {
   "cell_type": "markdown",
   "metadata": {},
   "source": [
    "##### Set the quantum instance and an aqua global random seed."
   ]
  },
  {
   "cell_type": "code",
   "execution_count": 4,
   "metadata": {},
   "outputs": [],
   "source": [
    "aqua_globals.random_seed = 50\n",
    "# Set quantum instance to run the quantum generator\n",
    "qi = QuantumInstance(backend=BasicAer.get_backend('statevector_simulator'),\n",
    "                          seed_simulator=2,\n",
    "                          seed_transpiler=2)\n",
    "#qi_qasm = QuantumInstance(backend=BasicAer.get_backend('qasm_simulator'),\n",
    "#                                shots=1000,\n",
    "#                                seed_simulator=2,\n",
    "#                                seed_transpiler=2)"
   ]
  },
  {
   "cell_type": "code",
   "execution_count": 10,
   "metadata": {},
   "outputs": [],
   "source": [
    "##### Define a parameterized quantum state using a quantum circuit."
   ]
  },
  {
   "cell_type": "code",
   "execution_count": 9,
   "metadata": {},
   "outputs": [
    {
     "name": "stdout",
     "output_type": "stream",
     "text": [
      "Computed QFI [[ 1.00e+00+0.j -2.45e-16+0.j]\n",
      " [-2.45e-16+0.j  5.00e-01+0.j]]\n",
      "Target QFI [[1, 0], [0, 0.5]] \n",
      "\n",
      "Computed QFI [[ 1.00000000e+00+0.j  2.22000000e-16+0.j]\n",
      " [ 2.22000000e-16+0.j -2.22044605e-16+0.j]]\n",
      "Target QFI [[1, 0], [0, 0]] \n",
      "\n",
      "Computed QFI [[ 1.00e+00+0.j -2.78e-16+0.j]\n",
      " [-2.78e-16+0.j  1.00e+00+0.j]]\n",
      "Target QFI [[1, 0], [0, 1]]\n"
     ]
    }
   ],
   "source": [
    "\"\"\"target QFI = [[1, 0], [0, 1]] - [[0, 0], [0, cos^2(p[0])]]\"\"\"\n",
    "\n",
    "# Parameters \n",
    "p0 = Parameter('p0')\n",
    "p1 = Parameter('p1')\n",
    "p = [p0, p1]\n",
    "\n",
    "# Quantum circuit\n",
    "q = QuantumRegister(1)\n",
    "qc = QuantumCircuit(q)\n",
    "qc.h(q)\n",
    "qc.rz(p[0], q[0])\n",
    "qc.rx(p[1], q[0])\n",
    "\n",
    "# Instantiate the Quantum Fisher Information object\n",
    "qfi = QFI(circuit=qc, quantum_instance=qi)\n",
    "\n",
    "# Define parameter values\n",
    "values_dict_1 = {p[0]: np.pi / 4, p[1]: 0.1}\n",
    "values_dict_2 = {p[0]: np.pi, p[1]: 0.1}\n",
    "values_dict_3 = {p[0]: np.pi/2, p[1]: 0.1}\n",
    "\n",
    "# Compute the respective QFIs\n",
    "qfi_value=qfi.compute_qfi(p, values_dict_1)\n",
    "print('Computed QFI', qfi_value)\n",
    "print('Target QFI', [[1, 0], [0, 0.5]], '\\n')\n",
    "\n",
    "qfi_value=qfi.compute_qfi(p, values_dict_2)\n",
    "print('Computed QFI', qfi_value)\n",
    "print('Target QFI', [[1, 0], [0, 0]], '\\n')\n",
    "\n",
    "qfi_value=qfi.compute_qfi(p, values_dict_3)\n",
    "print('Computed QFI', qfi_value)\n",
    "print('Target QFI', [[1, 0], [0, 1]])"
   ]
  },
  {
   "cell_type": "code",
   "execution_count": null,
   "metadata": {},
   "outputs": [],
   "source": []
  }
 ],
 "metadata": {
  "kernelspec": {
   "display_name": "QiskitTesting",
   "language": "python",
   "name": "qiskittesting"
  },
  "language_info": {
   "codemirror_mode": {
    "name": "ipython",
    "version": 3
   },
   "file_extension": ".py",
   "mimetype": "text/x-python",
   "name": "python",
   "nbconvert_exporter": "python",
   "pygments_lexer": "ipython3",
   "version": "3.7.7"
  }
 },
 "nbformat": 4,
 "nbformat_minor": 2
}
