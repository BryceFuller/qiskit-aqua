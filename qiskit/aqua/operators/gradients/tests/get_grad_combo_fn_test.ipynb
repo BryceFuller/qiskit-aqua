{
 "cells": [
  {
   "cell_type": "code",
   "execution_count": 64,
   "metadata": {},
   "outputs": [],
   "source": [
    "from copy import deepcopy\n",
    "import numpy as np\n",
    "from functools import partial, reduce\n",
    "\n",
    "from typing import Callable\n",
    "\n",
    "from qiskit.aqua.operators.gradients.qfi import QFI\n",
    "from qiskit import BasicAer\n",
    "from qiskit.aqua.operators import X, Z, StateFn, CircuitStateFn, CircuitSampler, Zero, Plus, One\n",
    "from qiskit import QuantumCircuit, QuantumRegister\n",
    "from qiskit.circuit import Parameter\n",
    "from qiskit.aqua import QuantumInstance, aqua_globals\n",
    "from qiskit import QuantumCircuit\n",
    "from qiskit.circuit import ParameterExpression, Parameter, ParameterVector, Instruction\n",
    "from qiskit.providers import BaseBackend\n",
    "from qiskit.aqua import QuantumInstance, AquaError\n",
    "from qiskit.aqua.operators.gradients.gradient.operator_gradient import ObservableGradient\n",
    "# from qiskit.aqua.operators.gradients.gradient.prob_gradient import ProbabilityGradient\n",
    "from qiskit.aqua.operators.gradients.gradient.state_gradient import StateGradient\n",
    "from qiskit.aqua.operators import OperatorBase, ListOp, SummedOp, ComposedOp, TensoredOp"
   ]
  },
  {
   "cell_type": "code",
   "execution_count": 89,
   "metadata": {},
   "outputs": [],
   "source": [
    "def get_grad_combo_fn(operator: ListOp) -> Callable:\n",
    "        \"\"\"\n",
    "        Get the derivative of the operator combo_fn\n",
    "        Args:\n",
    "            operator: The operator for whose combo_fn we want to get the gradient.\n",
    "\n",
    "        Returns:\n",
    "            Derivative of the operator combo_fn\n",
    "\n",
    "        \"\"\"\n",
    "        if isinstance(operator, TensoredOp):\n",
    "            return operator.combo_fn\n",
    "        elif isinstance(operator, ComposedOp):\n",
    "            def grad_composed_combo_fn(x):\n",
    "                # Gradient of the doperator/dz\n",
    "                grad_combo_fn = []\n",
    "                for i in range(len(x)):\n",
    "                    y = deepcopy(x)\n",
    "                    y.pop(i)\n",
    "                    import numpy as np\n",
    "                    grad_combo_fn.append(partial(reduce, np.dot)(y))\n",
    "                return grad_combo_fn\n",
    "            return grad_composed_combo_fn\n",
    "        else:\n",
    "            from jax import grad, jit\n",
    "            import jax.numpy as np\n",
    "            try:\n",
    "                return jit(grad(operator.combo_fn)) #handles SummedOp too\n",
    "            except Exception:\n",
    "                return grad_combo_fn"
   ]
  },
  {
   "cell_type": "code",
   "execution_count": 90,
   "metadata": {},
   "outputs": [],
   "source": [
    "a = [~StateFn(X), ~StateFn(Z)]\n",
    "# op = ListOp(a, combo_fn = lambda x: (-0.5)*(x[0]*np.conjugate(x[1]) + x[1]*np.conjugate(x[0])))\n",
    "# op = TensoredOp(a)\n",
    "# op = SummedOp(a)\n",
    "op = ComposedOp(a)"
   ]
  },
  {
   "cell_type": "code",
   "execution_count": 91,
   "metadata": {},
   "outputs": [
    {
     "name": "stdout",
     "output_type": "stream",
     "text": [
      "[2, 1]\n"
     ]
    }
   ],
   "source": [
    "g = get_grad_combo_fn(op)\n",
    "print(g([1, 2]))"
   ]
  },
  {
   "cell_type": "code",
   "execution_count": null,
   "metadata": {},
   "outputs": [],
   "source": []
  }
 ],
 "metadata": {
  "kernelspec": {
   "display_name": "QiskitDevenv",
   "language": "python",
   "name": "qiskitdevenv"
  },
  "language_info": {
   "codemirror_mode": {
    "name": "ipython",
    "version": 3
   },
   "file_extension": ".py",
   "mimetype": "text/x-python",
   "name": "python",
   "nbconvert_exporter": "python",
   "pygments_lexer": "ipython3",
   "version": "3.7.3"
  }
 },
 "nbformat": 4,
 "nbformat_minor": 1
}
