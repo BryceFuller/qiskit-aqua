{
 "cells": [
  {
   "cell_type": "markdown",
   "metadata": {
    "slideshow": {
     "slide_type": "slide"
    }
   },
   "source": [
    "## Variational Quantum Boltzmann Machine - Qiskit Implementation "
   ]
  },
  {
   "cell_type": "markdown",
   "metadata": {
    "slideshow": {
     "slide_type": "slide"
    }
   },
   "source": [
    "### Imports"
   ]
  },
  {
   "cell_type": "code",
   "execution_count": 20,
   "metadata": {
    "slideshow": {
     "slide_type": "-"
    }
   },
   "outputs": [],
   "source": [
    "# General Imports\n",
    "import numpy as np\n",
    "from scipy.linalg import expm\n",
    "\n",
    "# Circuit Imports\n",
    "from qiskit.circuit.library import RealAmplitudes\n",
    "from qiskit.circuit import Parameter\n",
    "\n",
    "# Operator Imports\n",
    "from qiskit.aqua.operators import I, Z, StateFn, CircuitStateFn, SummedOp\n",
    "from qiskit.aqua.operators.gradients import NaturalGradient\n",
    "\n",
    "# Additional Imports\n",
    "from qiskit.quantum_info import state_fidelity, partial_trace, Statevector\n",
    "from qiskit.aqua.components.optimizers import SPSA"
   ]
  },
  {
   "cell_type": "markdown",
   "metadata": {
    "slideshow": {
     "slide_type": "slide"
    }
   },
   "source": [
    "## Gibbs state preparation"
   ]
  },
  {
   "cell_type": "markdown",
   "metadata": {
    "slideshow": {
     "slide_type": "subslide"
    }
   },
   "source": [
    "### Define the system parameters and initialize an Ansatz\n",
    "\n",
    "$\\rho^{Gibbs} = \\frac{e^H/{k_BT}}{Z}$"
   ]
  },
  {
   "cell_type": "code",
   "execution_count": 2,
   "metadata": {},
   "outputs": [],
   "source": [
    "# Temperature\n",
    "k_BT = 5\n",
    "\n",
    "# Evolution time\n",
    "t =  1/(2*k_BT)\n",
    "\n",
    "# Define the model Hamiltonian \n",
    "H = SummedOp([0.3 * Z^Z, 0.2 * Z^I,  0.5 * I^Z]) ^ I^I"
   ]
  },
  {
   "cell_type": "markdown",
   "metadata": {
    "slideshow": {
     "slide_type": "subslide"
    }
   },
   "source": [
    "### Define the system parameters and initialize an Ansatz\n",
    "\n",
    "$\\rho^{Gibbs} = \\frac{e^H/{k_BT}}{Z}$"
   ]
  },
  {
   "cell_type": "code",
   "execution_count": 3,
   "metadata": {},
   "outputs": [],
   "source": [
    "# Instantiate the model ansatz\n",
    "depth = 1\n",
    "ansatz = RealAmplitudes(4, reps=depth, entanglement = 'sca')\n",
    "qr = ansatz.qregs[0]\n",
    "for i in range(int(len(qr)/2)):\n",
    "    ansatz.cx(qr[i], qr[i+int(len(qr)/2)])\n",
    "    \n",
    "# Initialize the Ansatz parameters\n",
    "param_values_init = np.zeros(H.num_qubits * (depth + 1))\n",
    "for j in range(H.num_qubits * depth, int(len(param_values_init)-H.num_qubits/2)):\n",
    "    param_values_init[int(j)] = np.pi/2.\n",
    "    "
   ]
  },
  {
   "cell_type": "markdown",
   "metadata": {
    "slideshow": {
     "slide_type": "subslide"
    }
   },
   "source": [
    "#### Initial State\n",
    "\n",
    "The Ansatz $|\\psi\\left(\\omega\\left(\\tau\\right)\\right)\\rangle$ is initialized such that the first two qubits are in a maximally mixed state."
   ]
  },
  {
   "cell_type": "code",
   "execution_count": 4,
   "metadata": {
    "slideshow": {
     "slide_type": "-"
    }
   },
   "outputs": [
    {
     "name": "stdout",
     "output_type": "stream",
     "text": [
      "Initial parameters  [0.         0.         0.         0.         1.57079633 1.57079633\n",
      " 0.         0.        ]\n",
      "\n",
      " Circuit       ┌───────┐┌───┐     ┌──────────┐                               \n",
      "q_0: ┤ RY(0) ├┤ X ├──■──┤ RY(pi/2) ├───────────────────────■───────\n",
      "     ├───────┤└─┬─┘┌─┴─┐└──────────┘┌──────────┐           │       \n",
      "q_1: ┤ RY(0) ├──┼──┤ X ├─────■──────┤ RY(pi/2) ├───────────┼────■──\n",
      "     ├───────┤  │  └───┘   ┌─┴─┐    └──────────┘┌───────┐┌─┴─┐  │  \n",
      "q_2: ┤ RY(0) ├──┼──────────┤ X ├─────────■──────┤ RY(0) ├┤ X ├──┼──\n",
      "     ├───────┤  │          └───┘       ┌─┴─┐    ├───────┤└───┘┌─┴─┐\n",
      "q_3: ┤ RY(0) ├──■──────────────────────┤ X ├────┤ RY(0) ├─────┤ X ├\n",
      "     └───────┘                         └───┘    └───────┘     └───┘\n",
      "\n",
      " Full statevector  [0.5+0.j 0. +0.j 0. +0.j 0. +0.j 0. +0.j 0.5+0.j 0. +0.j 0. +0.j 0. +0.j\n",
      " 0. +0.j 0.5+0.j 0. +0.j 0. +0.j 0. +0.j 0. +0.j 0.5+0.j]\n",
      "\n",
      " Maximally mixed state [[0.25+0.j 0.  +0.j 0.  +0.j 0.  +0.j]\n",
      " [0.  +0.j 0.25+0.j 0.  +0.j 0.  +0.j]\n",
      " [0.  +0.j 0.  +0.j 0.25+0.j 0.  +0.j]\n",
      " [0.  +0.j 0.  +0.j 0.  +0.j 0.25+0.j]]\n"
     ]
    }
   ],
   "source": [
    "print('Initial parameters ', param_values_init)\n",
    "\n",
    "# Initial State\n",
    "\n",
    "print('\\n Circuit ', ansatz.assign_parameters(dict(zip(ansatz.ordered_parameters, param_values_init))))\n",
    "\n",
    "print('\\n Full statevector ', CircuitStateFn(ansatz.assign_parameters \\\n",
    "                                          (dict(zip(ansatz.ordered_parameters, param_values_init)))).eval().primitive.data)\n",
    "\n",
    "print('\\n Maximally mixed state', partial_trace(CircuitStateFn(ansatz.assign_parameters\\\n",
    "                        (dict(zip(ansatz.ordered_parameters, param_values_init)))).eval().primitive.data, [0, 1]).data)"
   ]
  },
  {
   "cell_type": "markdown",
   "metadata": {
    "slideshow": {
     "slide_type": "subslide"
    }
   },
   "source": [
    "#### Let's define the target observable consisting of the Ansatz and the Hamiltonian\n",
    "\n",
    "$$ \\langle \\psi\\left(\\omega\\left(\\tau\\right)\\right)|H|\\psi\\left(\\omega\\left(\\tau\\right)\\right)\\rangle $$"
   ]
  },
  {
   "cell_type": "code",
   "execution_count": 6,
   "metadata": {},
   "outputs": [
    {
     "name": "stdout",
     "output_type": "stream",
     "text": [
      "\n",
      " Energy expectation value of the initial state  (1.67e-16+0j)\n"
     ]
    }
   ],
   "source": [
    "# Define the Hamiltonian as observable w.r.t. the wavefunction generated by the Ansatz   \n",
    "# Use statevector simulation\n",
    "ansatz_op = CircuitStateFn(ansatz)\n",
    "op = ~StateFn(H) @ ansatz_op\n",
    "\n",
    "print('\\n Energy expectation value of the initial state ', op.assign_parameters(dict(zip(ansatz.ordered_parameters, param_values_init))).eval())"
   ]
  },
  {
   "cell_type": "markdown",
   "metadata": {
    "slideshow": {
     "slide_type": "subslide"
    }
   },
   "source": [
    "#### Target state\n",
    "\n",
    "$\\rho^{target} = \\frac{e^{H\\otimes I}/{k_BT}}{Z}$"
   ]
  },
  {
   "cell_type": "code",
   "execution_count": 24,
   "metadata": {},
   "outputs": [
    {
     "name": "stdout",
     "output_type": "stream",
     "text": [
      "Target state  [[0.22578687+0.j 0.        +0.j 0.        +0.j 0.        +0.j]\n",
      " [0.        +0.j 0.26496334+0.j 0.        +0.j 0.        +0.j]\n",
      " [0.        +0.j 0.        +0.j 0.24953308+0.j 0.        +0.j]\n",
      " [0.        +0.j 0.        +0.j 0.        +0.j 0.25971672+0.j]]\n"
     ]
    }
   ],
   "source": [
    "# Compute the density matrix corresponding to the target Gibbs state\n",
    "h_mat = H.to_matrix()\n",
    "gibbs_target = expm(-h_mat*t) / np.trace(expm(-h_mat*t))\n",
    "gibbs_target = partial_trace(gibbs_target, [0, 1]).data\n",
    "\n",
    "print('Target state ', gibbs_target)"
   ]
  },
  {
   "cell_type": "markdown",
   "metadata": {
    "slideshow": {
     "slide_type": "slide"
    }
   },
   "source": [
    "### Define the parameter propagation rule according to McLachlan's variational principle"
   ]
  },
  {
   "cell_type": "code",
   "execution_count": 8,
   "metadata": {
    "slideshow": {
     "slide_type": "-"
    }
   },
   "outputs": [],
   "source": [
    "def get_gibbs_state_params(op, ansatz, param_values, time_steps):\n",
    "    def NGconvert(\n",
    "            operator, \n",
    "            params,\n",
    "            method):\n",
    "        r\"\"\"\n",
    "        Args:\n",
    "            operator: The operator we are taking the gradient of\n",
    "            params: The parameters we are taking the gradient with respect to.\n",
    "            method: The method used to compute the state/probability gradient. Can be either\n",
    "                ``'param_shift'`` or ``'lin_comb'`` or ``'fin_diff'``. Deprecated for observable gradient.\n",
    "            regularization: Use the following regularization with an lstsq method to solve the underlying SLE\n",
    "                Can be either None or ``'ridge'`` or ``'lasso'`` or ``'perturb_diag'``\n",
    "                ``'ridge'`` and ``'lasso'`` use an automatic optimal parameter search\n",
    "                If regularization is None but the metric is ill-conditioned or singular then a lstsq solver is\n",
    "                used without regularization\n",
    "            approx: Which approximation of the QFI to use: [None, 'diagonal', 'block_diagonal']\n",
    "\n",
    "        Returns:\n",
    "            An operator whose evaluation yields the NaturalGradient.\n",
    "\n",
    "        Raises:\n",
    "            ValueError: If ``params`` contains a parameter not present in ``operator``.\n",
    "        \"\"\"\n",
    "        from qiskit.aqua.operators.gradients import QFI, Gradient\n",
    "        from qiskit.aqua.operators import ComposedOp, ListOp\n",
    "        if (not isinstance(operator, ComposedOp)) or (not isinstance(operator.oplist[-1], CircuitStateFn)):\n",
    "            raise AquaError('Please make sure that the operator for which you want to compute the natural gradient'\n",
    "                            ' represents an expectation value and that the quantum '\n",
    "                            'state is given as CircuitStateFn.')\n",
    "        grad = Gradient().convert(operator, params, method)\n",
    "        metric = QFI().convert(operator[-1], params) * 0.25\n",
    "\n",
    "        def combo_fn(x):\n",
    "            c = x[0]\n",
    "            a = x[1]\n",
    "\n",
    "\n",
    "            try:\n",
    "                nat_grad = np.linalg.solve(a, c)\n",
    "            except np.LinAlgError:\n",
    "                nat_grad = np.linalg.lstsq(a, c)\n",
    "#             print(nat_grad)\n",
    "            return nat_grad\n",
    "\n",
    "        return ListOp([grad, metric], combo_fn=combo_fn)\n",
    "\n",
    "    # Convert the operator that holds the Hamiltonian and ansatz into a NaturalGradient operator \n",
    "#     nat_grad = NaturalGradient.convert(op, ansatz.ordered_parameters, method = 'lin_comb')\n",
    "    nat_grad = NGconvert(op, ansatz.ordered_parameters, method = 'lin_comb')\n",
    "\n",
    "    # Propagate the Ansatz parameters step by step according to the explicit Euler method\n",
    "    for step in time_steps:\n",
    "        param_dict = dict(zip(ansatz.ordered_parameters, param_values))\n",
    "        nat_grad_result = nat_grad.assign_parameters(param_dict).eval()\n",
    "#         print('param values',  param_values)\n",
    "#         print('nat_grad_result', nat_grad_result)\n",
    "        param_values = list(np.subtract(param_values, t/num_time_steps * np.real(nat_grad_result)))\n",
    "#         param_values -= t/num_time_steps * nat_grad_result\n",
    "    return param_values\n"
   ]
  },
  {
   "cell_type": "markdown",
   "metadata": {
    "slideshow": {
     "slide_type": "slide"
    }
   },
   "source": [
    "### Run the parameter propagation"
   ]
  },
  {
   "cell_type": "code",
   "execution_count": 9,
   "metadata": {},
   "outputs": [
    {
     "name": "stdout",
     "output_type": "stream",
     "text": [
      "Final parameter values [3.4000000000000004e-18, 7.880000000000001e-18, 5.600000000000007e-19, 3.600000000000008e-19, 1.7657540891223833, 1.6401347143700085, 7.200000000000002e-18, -1.959999999999999e-18]\n"
     ]
    }
   ],
   "source": [
    "# Define the discretization grid of the time steps\n",
    "num_time_steps = 10\n",
    "time_steps = np.linspace(0, t, num_time_steps)\n",
    "param_values = get_gibbs_state_params(op, ansatz, param_values_init, time_steps)\n",
    "    \n",
    "print('Final parameter values', param_values)"
   ]
  },
  {
   "cell_type": "markdown",
   "metadata": {
    "slideshow": {
     "slide_type": "slide"
    }
   },
   "source": [
    "#### Check the fidelity between trained and target state"
   ]
  },
  {
   "cell_type": "code",
   "execution_count": 26,
   "metadata": {},
   "outputs": [
    {
     "name": "stdout",
     "output_type": "stream",
     "text": [
      "Gibbs state  [[ 0.188+0.j  0.   +0.j -0.   +0.j  0.   +0.j]\n",
      " [ 0.   +0.j  0.278+0.j -0.   +0.j -0.   +0.j]\n",
      " [-0.   +0.j -0.   +0.j  0.216+0.j  0.   +0.j]\n",
      " [ 0.   +0.j -0.   +0.j  0.   +0.j  0.319+0.j]]\n",
      "Target state  [[0.226+0.j 0.   +0.j 0.   +0.j 0.   +0.j]\n",
      " [0.   +0.j 0.265+0.j 0.   +0.j 0.   +0.j]\n",
      " [0.   +0.j 0.   +0.j 0.25 +0.j 0.   +0.j]\n",
      " [0.   +0.j 0.   +0.j 0.   +0.j 0.26 +0.j]]\n",
      "Fidelity between trained and target state  0.995845147830691\n"
     ]
    }
   ],
   "source": [
    "# Compute the density matrix corresponding to the final Gibbs state    \n",
    "gibbs_state = Statevector.from_instruction(ansatz.assign_parameters(dict(zip(ansatz.ordered_parameters, param_values))))\n",
    "gibbs_state = partial_trace(gibbs_state, [0, 1])\n",
    "print('Gibbs state ', np.around(gibbs_state.data, 3))\n",
    "\n",
    "print('Target state ', np.around(gibbs_target.data, 3))\n",
    "\n",
    "# Evaluate the fidelity between the trained and the target state\n",
    "fidelity = state_fidelity(np.around(gibbs_target.data, 3), np.around(gibbs_state.data, 3), validate=False)\n",
    "\n",
    "print('Fidelity between trained and target state ', fidelity)"
   ]
  },
  {
   "cell_type": "markdown",
   "metadata": {
    "slideshow": {
     "slide_type": "slide"
    }
   },
   "source": [
    "## Train a generative QBM \n",
    "More explicitly, we train here a fully visible, diagonal, generative QBM using gradient-free optimization."
   ]
  },
  {
   "cell_type": "markdown",
   "metadata": {
    "slideshow": {
     "slide_type": "slide"
    }
   },
   "source": [
    "### Initialize a parameterized Hamiltonian and the target PDF"
   ]
  },
  {
   "cell_type": "code",
   "execution_count": 37,
   "metadata": {},
   "outputs": [],
   "source": [
    "a = Parameter('a')    \n",
    "b = Parameter('b')\n",
    "c = Parameter('c')  \n",
    "\n",
    "# Define the model Hamiltonian with parameters\n",
    "H = SummedOp([a * Z^Z, b * Z^I, c * I ^ Z]) ^ I ^ I\n",
    "\n",
    "# Define the target PDF\n",
    "p_target = [0.5, 0, 0, 0.5] "
   ]
  },
  {
   "cell_type": "markdown",
   "metadata": {
    "slideshow": {
     "slide_type": "slide"
    }
   },
   "source": [
    "#### Define the loss function and the optimizer"
   ]
  },
  {
   "cell_type": "code",
   "execution_count": 44,
   "metadata": {},
   "outputs": [],
   "source": [
    "# Define the loss function\n",
    "def loss(H_coeffs):\n",
    "    op = ~StateFn(H.assign_parameters(dict(zip([a, b, c], H_coeffs)))) @ ansatz_op                                 \n",
    "    param_values = get_gibbs_state_params(op, ansatz, param_values_init, time_steps)\n",
    "    p_qbm = ansatz_op.assign_parameters(dict(zip(ansatz.ordered_parameters, param_values))).eval().primitive\n",
    "    p_qbm = np.diag(partial_trace(p_qbm, [0, 1]).data)\n",
    "    print(p_qbm)\n",
    "    print(p_target)\n",
    "    return -np.sum(np.multiply(p_target, np.log(p_qbm)))\n",
    "\n",
    "optimizer = SPSA(maxiter =  100)"
   ]
  },
  {
   "cell_type": "markdown",
   "metadata": {
    "slideshow": {
     "slide_type": "slide"
    }
   },
   "source": [
    "### Train the QBM"
   ]
  },
  {
   "cell_type": "code",
   "execution_count": null,
   "metadata": {},
   "outputs": [],
   "source": [
    "result = optimizer.optimize(3, loss, initial_point = [4. , -0.1, -2.])\n",
    "print(result)"
   ]
  },
  {
   "cell_type": "code",
   "execution_count": null,
   "metadata": {
    "slideshow": {
     "slide_type": "skip"
    }
   },
   "outputs": [],
   "source": [
    "a = Parameter('a')    \n",
    "b = Parameter('b')\n",
    "c = Parameter('c')  \n",
    "\n",
    "# Define the model Hamiltonian with parameters\n",
    "H = (a * Z^Z + b * Z^I - c * I ^ Z) ^ I ^ I\n",
    "\n",
    "# Define the target PDF\n",
    "p_target = [0.5, 0, 0, 0.5] \n",
    "\n",
    "# Use statevector simulation\n",
    "ansatz_op = CircuitStateFn(qc = ansatz)\n",
    "p_qbm = ansatz_op.assign_parameter(dict(zip(ansatz.ordered_parameters, param_values))).eval()\n",
    "\n",
    "\n",
    "loss = -np.sum(np.multiply(p_target, np.log(p_qbm)))\n",
    "\n",
    "domega_p_qbm = Gradient().convert(op = ansatz_op, params = ansatz.ordered_parameters, method = 'lin_comb')\n",
    "\n",
    "qfi = QFI().convert(op = ansatz_op, params = ansatz.ordered_parameters)\n",
    "from  qiskit.aqua.operator.gradients.gradient.natural_gradient import regularized_sle_solver\n",
    "\n",
    "dH_omega = regularized_sle_solver(qfi * 0.25, dH_C - dH_A*nat_grad_result, regularization = 'ridge')\n",
    "\n",
    "dH_p_qbm = domega_p_qbm * dH_omega\n",
    "\n",
    "dH_loss = -np.tensordot(np.divide(dH_p_qbm, p_qbm), [p_target], axes=1)"
   ]
  }
 ],
 "metadata": {
  "celltoolbar": "Slideshow",
  "kernelspec": {
   "display_name": "QiskitDevenv",
   "language": "python",
   "name": "qiskitdevenv"
  },
  "language_info": {
   "codemirror_mode": {
    "name": "ipython",
    "version": 3
   },
   "file_extension": ".py",
   "mimetype": "text/x-python",
   "name": "python",
   "nbconvert_exporter": "python",
   "pygments_lexer": "ipython3",
   "version": "3.7.3"
  }
 },
 "nbformat": 4,
 "nbformat_minor": 2
}
