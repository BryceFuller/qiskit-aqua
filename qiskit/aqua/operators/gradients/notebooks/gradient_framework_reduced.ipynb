{
 "cells": [
  {
   "cell_type": "markdown",
   "metadata": {
    "collapsed": true,
    "slideshow": {
     "slide_type": "slide"
    }
   },
   "source": [
    "## Qiskit Gradient Framework\n",
    "\n",
    "The gradient framework enables the evaluation of quantum gradients as well as functions thereof.\n",
    "Besides standard first order gradients of expectation values of the form\n",
    "$$ \\langle\\psi\\left(\\theta\\right)|\\hat{O}\\left(\\omega\\right)|\\psi\\left(\\theta\\right)\\rangle $$\n",
    "<!--- $$ \\frac{\\partial\\langle\\psi\\left(\\theta\\right)|\\hat{O}\\left(\\omega\\right)|\\psi\\left(\\theta\\right)\\rangle}{\\partial\\theta} $$\n",
    "\n",
    "$$ \\frac{\\partial^2\\langle\\psi\\left(\\theta\\right)|\\hat{O}\\left(\\omega\\right)|\\psi\\left(\\theta\\right)\\rangle}{\\partial\\theta^2}, $$\n",
    "--->\n",
    "\n",
    "the gradient also supports the evaluation of second order gradients (Hessians), and the Quantum Fisher Information (QFI) of pure quantum states $|\\psi\\left(\\theta\\right)\\rangle$."
   ]
  },
  {
   "cell_type": "markdown",
   "metadata": {
    "slideshow": {
     "slide_type": "slide"
    }
   },
   "source": [
    "### First Order Gradients\n",
    "\n",
    "Three types of first order gradients are supported by the gradient framework.\n",
    "1. Gradient of an expectation value w.r.t. a coefficient of the measurement operator respectively observable $\\hat{O}\\left(\\omega\\right)$, i.e.\n",
    " $ \\frac{\\partial\\langle\\psi\\left(\\theta\\right)|\\hat{O}\\left(\\omega\\right)|\\psi\\left(\\theta\\right)\\rangle}{\\partial\\omega} $\n",
    "2.  Gradient of an expectation value w.r.t. a state $|\\psi\\left(\\theta\\right)\\rangle$ parameter, i.e.\n",
    " $ \\frac{\\partial\\langle\\psi\\left(\\theta\\right)|\\hat{O}\\left(\\omega\\right)|\\psi\\left(\\theta\\right)\\rangle}{\\partial\\theta} $\n",
    "3.  Gradient of sampling probabilities w.r.t. a state $|\\psi\\left(\\theta\\right)\\rangle$ parameter, i.e.\n",
    " $ \\frac{\\partial p_i}{\\partial\\theta} = \\frac{\\partial\\langle\\psi\\left(\\theta\\right)|i\\rangle\\langle i|\\psi\\left(\\theta\\right)\\rangle}{\\partial\\theta} $"
   ]
  },
  {
   "cell_type": "markdown",
   "metadata": {
    "slideshow": {
     "slide_type": "slide"
    }
   },
   "source": [
    "\n",
    "\n",
    "Given a parameterized quantum state $|\\psi\\left(\\theta\\right)\\rangle = V\\left(\\theta\\right)|\\psi\\rangle$ with input state $|\\psi\\rangle$, parametrized Ansatz $V\\left(\\theta\\right)$, and observable $\\hat{O}\\left(\\omega\\right)=\\sum_{i}\\omega_i\\hat{O}_i$, we want to compute...\n",
    "\n",
    "#### Gradients w.r.t. Measurement Operator Coefficients\n",
    "$$ \\frac{\\partial\\langle\\psi\\left(\\theta\\right)|\\hat{O}\\left(\\omega\\right)|\\psi\\left(\\theta\\right)\\rangle}{\\partial\\omega_i} = \\langle\\psi\\left(\\theta\\right)|\\hat{O}_i\\left(\\omega\\right)|\\psi\\left(\\theta\\right)\\rangle. $$\n",
    "#### Gradients w.r.t. State Coefficients\n",
    "$$ \\frac{\\partial p_i}{\\partial\\theta} = \\frac{\\partial\\langle\\psi\\left(\\theta\\right)|\\hat{O}\\left(\\omega\\right)|\\psi\\left(\\theta\\right)\\rangle}{\\partial\\theta}. $$"
   ]
  },
  {
   "cell_type": "code",
   "execution_count": 1,
   "metadata": {
    "slideshow": {
     "slide_type": "subslide"
    }
   },
   "outputs": [],
   "source": [
    "import numpy as np\n",
    "from qiskit.aqua.operators import Z, X, I, StateFn, CircuitStateFn, SummedOp\n",
    "from qiskit.aqua.operators.gradients import Gradient, NaturalGradient, QFI, Hessian\n",
    "from qiskit.circuit import QuantumCircuit, QuantumRegister, Parameter, ParameterVector, ParameterExpression\n",
    "from qiskit.circuit.library import EfficientSU2"
   ]
  },
  {
   "cell_type": "code",
   "execution_count": 2,
   "metadata": {
    "slideshow": {
     "slide_type": "subslide"
    }
   },
   "outputs": [
    {
     "name": "stdout",
     "output_type": "stream",
     "text": [
      "ComposedOp([\n",
      "  OperatorMeasurement(SummedOp([\n",
      "    2.0*c_0**2 * X,\n",
      "    1.0*c_1 * Z\n",
      "  ])),\n",
      "  CircuitStateFn(\n",
      "        ┌───┐┌───────┐┌───────┐\n",
      "  q0_0: ┤ H ├┤ RZ(a) ├┤ RX(b) ├\n",
      "        └───┘└───────┘└───────┘\n",
      "  )\n",
      "])\n"
     ]
    }
   ],
   "source": [
    "a = Parameter('a')\n",
    "b = Parameter('b')\n",
    "q = QuantumRegister(1)\n",
    "qc = QuantumCircuit(q)\n",
    "qc.h(q)\n",
    "qc.rz(a, q[0])\n",
    "qc.rx(b, q[0])\n",
    "\n",
    "# Instantiate the Hamiltonian observable\n",
    "coeff_0 = Parameter('c_0')\n",
    "coeff_1 = Parameter('c_1')\n",
    "H = (coeff_0*coeff_0*2)*X + coeff_1 * Z\n",
    "\n",
    "# Combine the Hamiltonian observable and the state\n",
    "op = ~StateFn(H) @ CircuitStateFn(primitive=qc, coeff=1.)\n",
    "\n",
    "print(op)"
   ]
  },
  {
   "cell_type": "code",
   "execution_count": 3,
   "metadata": {
    "scrolled": false,
    "slideshow": {
     "slide_type": "subslide"
    }
   },
   "outputs": [
    {
     "name": "stdout",
     "output_type": "stream",
     "text": [
      "ListOp([\n",
      "  SummedOp([\n",
      "    4.0*c_0 * ComposedOp([\n",
      "      OperatorMeasurement(1.00000000000000 * Z),\n",
      "      CircuitStateFn(\n",
      "            ┌───┐┌───────┐┌───────┐┌───┐\n",
      "      q0_0: ┤ H ├┤ RZ(a) ├┤ RX(b) ├┤ H ├\n",
      "            └───┘└───────┘└───────┘└───┘\n",
      "      )\n",
      "    ]),\n",
      "    ComposedOp([\n",
      "      DictMeasurement({'0': 1}),\n",
      "      DictStateFn({'1': 1})\n",
      "    ])\n",
      "  ]),\n",
      "  SummedOp([\n",
      "    ComposedOp([\n",
      "      DictMeasurement({'0': 1}),\n",
      "      DictStateFn({'1': 1})\n",
      "    ]),\n",
      "    1.00000000000000 * ComposedOp([\n",
      "      OperatorMeasurement(1.00000000000000 * Z),\n",
      "      CircuitStateFn(\n",
      "            ┌───┐┌───────┐┌───────┐\n",
      "      q0_0: ┤ H ├┤ RZ(a) ├┤ RX(b) ├\n",
      "            └───┘└───────┘└───────┘\n",
      "      )\n",
      "    ])\n",
      "  ])\n",
      "])\n",
      "Gradient  [(1.414213562373095+1.12e-16j), 0j]\n"
     ]
    }
   ],
   "source": [
    "# Define the coefficients w.r.t. we want to compute the gradient\n",
    "obs_coeffs = [coeff_0, coeff_1]\n",
    "circ_coeffs = [a, b]\n",
    "\n",
    "# Define the values to be assigned to the parameters\n",
    "value_dict = {coeff_0: 0.5, coeff_1: -1, a: np.pi / 4, b: np.pi}\n",
    "\n",
    "# Convert the operator and the gradient target coefficients into the respective operator\n",
    "grad = Gradient().convert(operator = op, \n",
    "                          params = obs_coeffs)\n",
    "print(grad)\n",
    "\n",
    "# Assign the parameters and evaluate the gradient\n",
    "grad_result = grad.assign_parameters(value_dict).eval()\n",
    "print('Gradient ', grad_result)"
   ]
  },
  {
   "cell_type": "markdown",
   "metadata": {
    "slideshow": {
     "slide_type": "slide"
    }
   },
   "source": [
    "## Gradients wrt circuit parameters\n",
    "\n",
    "##### Parameter Shift Gradients\n",
    "<a id='param_shift_grad'></a>\n",
    "Given a Hermitian operator $g$ with two unique eigenvalues $\\pm r$ which acts as generator for a parameterized quantum gate $$G(\\theta)= e^{-i\\theta g}.$$\n",
    "Then, quantum gradients can be computed by using eigenvalue $r$ dependent shifts to parameters. All [standard, parameterized qiskit gates](https://github.com/Qiskit/qiskit-terra/tree/master/qiskit/circuit/library/standard_gates) can be shifted with $\\pi/2$, i.e.,\n",
    " $ \\frac{\\partial\\langle\\psi\\left(\\theta\\right)|\\hat{O}\\left(\\omega\\right)|\\psi\\left(\\theta\\right)\\rangle}{\\partial\\theta} = 2 \\left(\\langle\\psi\\left(\\theta+\\pi/2\\right)|\\hat{O}\\left(\\omega\\right)|\\psi\\left(\\theta+\\pi/2\\right)\\rangle - \\right.$\n",
    " $\\left.\\partial\\langle\\psi\\left(\\theta-\\pi/2\\right)|\\hat{O}\\left(\\omega\\right)|\\psi\\left(\\theta-\\pi/2\\right)\\rangle\\right).$\n",
    " Probability gradients are computed equivalently.\n",
    " \n",
    " \n",
    " ##### Finite Difference Gradients\n",
    "\n",
    "<a id='fin_diff_grad'></a>\n",
    "\n",
    "Unlike the other methods, finite difference gradients are numerical estimations rather than analytical values.\n",
    "This implementation employs a central difference approach with $\\epsilon << 1$\n",
    " $ \\frac{\\partial\\langle\\psi\\left(\\theta\\right)|\\hat{O}\\left(\\omega\\right)|\\psi\\left(\\theta\\right)\\rangle}{\\partial\\theta} \\approx \\frac{1}{2\\epsilon} \\left(\\langle\\psi\\left(\\theta+\\epsilon\\right)|\\hat{O}\\left(\\omega\\right)|\\psi\\left(\\theta+\\epsilon\\right)\\rangle - \\partial\\langle\\psi\\left(\\theta-\\epsilon\\right)|\\hat{O}\\left(\\omega\\right)|\\psi\\left(\\theta-\\epsilon\\right)\\rangle\\right).$\n",
    " Probability gradients are computed equivalently.\n",
    " \n",
    " ##### Linear Combination of Unitaries Gradients\n",
    "<a id='lin_comb_grad'></a>\n",
    "Unitaries can be written as $U\\left(\\omega\\right) = e^{iM\\left(\\omega\\right)}$, where $M\\left(\\omega\\right)$ denotes a parameterized Hermitian matrix. \n",
    "Further, Hermitian matrices can be decomposed into weighted sums of Pauli terms, i.e., $M\\left(\\omega\\right) = \\sum_pm_p\\left(\\omega\\right)h_p$ with $m_p\\left(\\omega\\right)\\in\\mathbb{R}$ and $h_p=\\bigotimes\\limits_{j=0}^{n-1}\\sigma_{j, p}$ for $\\sigma_{j, p}\\in\\left\\{I, X, Y, Z\\right\\}$ acting on the $j^{\\text{th}}$ qubit. Thus, the gradients of \n",
    "$U_k\\left(\\omega_k\\right)$ are given by\n",
    "\\begin{equation*}\n",
    "\\frac{\\partial U_k\\left(\\omega_k\\right)}{\\partial\\omega_k} = \\sum\\limits_pi \\frac{\\partial m_{k,p}\\left(\\omega_k\\right)}{\\partial\\omega_k}U_k\\left(\\omega_k\\right)h_{k_p}.\n",
    "\\end{equation*}\n",
    "\n",
    "Combining this observation with a circuit structure presented in [Simulating physical phenomena by quantum networks](https://journals.aps.org/pra/abstract/10.1103/PhysRevA.65.042323) allows us to compute the gradient with the evaluation of a single quantum circuit."
   ]
  },
  {
   "cell_type": "code",
   "execution_count": 4,
   "metadata": {
    "slideshow": {
     "slide_type": "subslide"
    }
   },
   "outputs": [
    {
     "name": "stdout",
     "output_type": "stream",
     "text": [
      "ComposedOp([\n",
      "  OperatorMeasurement(SummedOp([\n",
      "    0.5 * X,\n",
      "    -1.0 * Z\n",
      "  ])),\n",
      "  CircuitStateFn(\n",
      "        ┌───┐┌───────┐┌───────┐\n",
      "  q0_0: ┤ H ├┤ RZ(a) ├┤ RX(b) ├\n",
      "        └───┘└───────┘└───────┘\n",
      "  )\n",
      "])\n"
     ]
    }
   ],
   "source": [
    "# Define the Hamiltonian with fixed coefficients\n",
    "H = 0.5 * X - 1 * Z\n",
    "# Define the parameters w.r.t. we want to compute the gradients\n",
    "params = [a, b]\n",
    "# Define the values to be assigned to the parameters\n",
    "value_dict = { a: np.pi / 4, b: np.pi}\n",
    "\n",
    "# Combine the Hamiltonian observable and the state\n",
    "state_grad_op = ~StateFn(H) @ CircuitStateFn(primitive=qc, coeff=1.)\n",
    "print(state_grad_op)\n"
   ]
  },
  {
   "cell_type": "code",
   "execution_count": 5,
   "metadata": {
    "slideshow": {
     "slide_type": "subslide"
    }
   },
   "outputs": [
    {
     "name": "stdout",
     "output_type": "stream",
     "text": [
      "SummedOp([\n",
      "  0.5 * SummedOp([\n",
      "    0.5 * ComposedOp([\n",
      "      OperatorMeasurement(Z),\n",
      "      CircuitStateFn(\n",
      "            ┌───┐┌─────────────────────────┐┌───────┐┌───┐\n",
      "      q0_0: ┤ H ├┤ RZ(a + 1.5707963267949) ├┤ RX(b) ├┤ H ├\n",
      "            └───┘└─────────────────────────┘└───────┘└───┘\n",
      "      )\n",
      "    ]),\n",
      "    -0.5 * ComposedOp([\n",
      "      OperatorMeasurement(Z),\n",
      "      CircuitStateFn(\n",
      "            ┌───┐┌─────────────────────────┐┌───────┐┌───┐\n",
      "      q0_0: ┤ H ├┤ RZ(a - 1.5707963267949) ├┤ RX(b) ├┤ H ├\n",
      "            └───┘└─────────────────────────┘└───────┘└───┘\n",
      "      )\n",
      "    ])\n",
      "  ]),\n",
      "  -1.0 * SummedOp([\n",
      "    0.5 * ComposedOp([\n",
      "      OperatorMeasurement(Z),\n",
      "      CircuitStateFn(\n",
      "            ┌───┐┌─────────────────────────┐┌───────┐\n",
      "      q0_0: ┤ H ├┤ RZ(a + 1.5707963267949) ├┤ RX(b) ├\n",
      "            └───┘└─────────────────────────┘└───────┘\n",
      "      )\n",
      "    ]),\n",
      "    -0.5 * ComposedOp([\n",
      "      OperatorMeasurement(Z),\n",
      "      CircuitStateFn(\n",
      "            ┌───┐┌─────────────────────────┐┌───────┐\n",
      "      q0_0: ┤ H ├┤ RZ(a - 1.5707963267949) ├┤ RX(b) ├\n",
      "            └───┘└─────────────────────────┘└───────┘\n",
      "      )\n",
      "    ])\n",
      "  ])\n",
      "])\n",
      "State gradient computed with parameter shift (-0.35355339059327373-4.175e-17j)\n"
     ]
    }
   ],
   "source": [
    "state_grad = Gradient(method='param_shift').convert(operator=state_grad_op, params=a)\n",
    "print(state_grad)\n",
    "\n",
    "# Assign the parameters and evaluate the gradient\n",
    "state_grad_result = state_grad.assign_parameters(value_dict).eval()\n",
    "print('State gradient computed with parameter shift', state_grad_result)"
   ]
  },
  {
   "cell_type": "code",
   "execution_count": 6,
   "metadata": {
    "slideshow": {
     "slide_type": "subslide"
    }
   },
   "outputs": [
    {
     "name": "stdout",
     "output_type": "stream",
     "text": [
      "SummedOp([\n",
      "  0.5 * SummedOp([\n",
      "    500000.0 * ComposedOp([\n",
      "      OperatorMeasurement(Z),\n",
      "      CircuitStateFn(\n",
      "            ┌───┐┌────────────────┐┌───────┐┌───┐\n",
      "      q0_0: ┤ H ├┤ RZ(a + 1.0e-6) ├┤ RX(b) ├┤ H ├\n",
      "            └───┘└────────────────┘└───────┘└───┘\n",
      "      )\n",
      "    ]),\n",
      "    -500000.0 * ComposedOp([\n",
      "      OperatorMeasurement(Z),\n",
      "      CircuitStateFn(\n",
      "            ┌───┐┌────────────────┐┌───────┐┌───┐\n",
      "      q0_0: ┤ H ├┤ RZ(a - 1.0e-6) ├┤ RX(b) ├┤ H ├\n",
      "            └───┘└────────────────┘└───────┘└───┘\n",
      "      )\n",
      "    ])\n",
      "  ]),\n",
      "  -1.0 * SummedOp([\n",
      "    500000.0 * ComposedOp([\n",
      "      OperatorMeasurement(Z),\n",
      "      CircuitStateFn(\n",
      "            ┌───┐┌────────────────┐┌───────┐\n",
      "      q0_0: ┤ H ├┤ RZ(a + 1.0e-6) ├┤ RX(b) ├\n",
      "            └───┘└────────────────┘└───────┘\n",
      "      )\n",
      "    ]),\n",
      "    -500000.0 * ComposedOp([\n",
      "      OperatorMeasurement(Z),\n",
      "      CircuitStateFn(\n",
      "            ┌───┐┌────────────────┐┌───────┐\n",
      "      q0_0: ┤ H ├┤ RZ(a - 1.0e-6) ├┤ RX(b) ├\n",
      "            └───┘└────────────────┘└───────┘\n",
      "      )\n",
      "    ])\n",
      "  ])\n",
      "])\n",
      "State gradient computed with finite difference (-0.3535533905669581-2.775e-11j)\n"
     ]
    }
   ],
   "source": [
    "state_grad = Gradient(method='fin_diff').convert(operator=state_grad_op, params=a)\n",
    "print(state_grad)\n",
    "# Assign the parameters and evaluate the gradient\n",
    "state_grad_result = state_grad.assign_parameters(value_dict).eval()\n",
    "print('State gradient computed with finite difference', state_grad_result)"
   ]
  },
  {
   "cell_type": "code",
   "execution_count": 7,
   "metadata": {
    "slideshow": {
     "slide_type": "subslide"
    }
   },
   "outputs": [
    {
     "name": "stdout",
     "output_type": "stream",
     "text": [
      "SummedOp([\n",
      "  0.5 * ComposedOp([\n",
      "    OperatorMeasurement(ZZ),\n",
      "    CircuitStateFn(\n",
      "                  ┌───┐          ┌───────┐┌───────┐┌───┐\n",
      "            q0_0: ┤ H ├────────■─┤ RZ(a) ├┤ RX(b) ├┤ H ├\n",
      "                  ├───┤┌─────┐ │ └─┬───┬─┘└───────┘└───┘\n",
      "    work_qubit_0: ┤ H ├┤ SDG ├─■───┤ H ├────────────────\n",
      "                  └───┘└─────┘     └───┘                \n",
      "    )\n",
      "  ]),\n",
      "  -1.0 * ComposedOp([\n",
      "    OperatorMeasurement(ZZ),\n",
      "    CircuitStateFn(\n",
      "                  ┌───┐          ┌───────┐┌───────┐\n",
      "            q0_0: ┤ H ├────────■─┤ RZ(a) ├┤ RX(b) ├\n",
      "                  ├───┤┌─────┐ │ └─┬───┬─┘└───────┘\n",
      "    work_qubit_0: ┤ H ├┤ SDG ├─■───┤ H ├───────────\n",
      "                  └───┘└─────┘     └───┘           \n",
      "    )\n",
      "  ])\n",
      "])\n",
      "State gradient computed with LCU (-0.35355339059327373-2.385e-16j)\n"
     ]
    }
   ],
   "source": [
    "lcu_grad = Gradient(method='lin_comb').convert(operator=state_grad_op, params=a)\n",
    "print(lcu_grad)\n",
    "# Assign the parameters and evaluate the gradient\n",
    "lcu_grad_result = lcu_grad.assign_parameters(value_dict).eval()\n",
    "print('State gradient computed with LCU', lcu_grad_result)"
   ]
  },
  {
   "cell_type": "code",
   "execution_count": 8,
   "metadata": {},
   "outputs": [
    {
     "name": "stdout",
     "output_type": "stream",
     "text": [
      "State gradient computed with parameter shift     -0.3535533905669581\n",
      "State gradient computed with finite difference   -0.3535533905669581\n",
      "State gradient computed with LCU                 -0.35355339059327373\n"
     ]
    }
   ],
   "source": [
    "print('State gradient computed with parameter shift    ', np.real(state_grad_result))\n",
    "print('State gradient computed with finite difference  ', np.real(state_grad_result))\n",
    "print('State gradient computed with LCU                ', np.real(lcu_grad_result))"
   ]
  },
  {
   "cell_type": "markdown",
   "metadata": {
    "slideshow": {
     "slide_type": "slide"
    }
   },
   "source": [
    "## Natural Gradient\n",
    "\n",
    "A special type of first order gradient is the natural gradient which has proven itself useful in classical machine learning and is already being studied in the quantum context. This quantity represents a gradient that is 'rescaled' with the inverse Quantum Fisher Information matrix\n",
    "$$ QFI ^{-1} \\frac{\\partial\\langle\\psi\\left(\\theta\\right)|\\hat{O}\\left(\\omega\\right)|\\psi\\left(\\theta\\right)\\rangle}{\\partial\\theta}.$$"
   ]
  },
  {
   "cell_type": "markdown",
   "metadata": {
    "slideshow": {
     "slide_type": "subslide"
    }
   },
   "source": [
    "Instead of inverting the QFI, one can also use a least-square solver with or without regularization to solve\n",
    "\n",
    "$$ QFI x = \\frac{\\partial\\langle\\psi\\left(\\theta\\right)|\\hat{O}\\left(\\omega\\right)|\\psi\\left(\\theta\\right)\\rangle}{\\partial\\theta}.$$\n",
    "\n",
    "The implementation supports ridge and lasso regularization with automatic search for a good parameter using [L-curve corner search](https://arxiv.org/pdf/1608.04571.pdf) as well as two types of perturbations of the diagonal elements of the QFI.\n",
    "\n",
    "The natural gradient can be used instead of the standard gradient with any gradient-based optimizer and/or ODE solver."
   ]
  },
  {
   "cell_type": "code",
   "execution_count": 9,
   "metadata": {
    "slideshow": {
     "slide_type": "subslide"
    }
   },
   "outputs": [
    {
     "name": "stdout",
     "output_type": "stream",
     "text": [
      "Natural gradient computed with linear combination of unitaries [-2.17418416  1.90241114]\n"
     ]
    }
   ],
   "source": [
    "# A regularization method can be chosen, e.g. ridge or lasso with automatic \n",
    "# parameter search\n",
    "nat_grad = NaturalGradient(grad_method='lin_comb', regularization='ridge').convert(\n",
    "    operator=state_grad_op, params=params)\n",
    "\n",
    "# Assign the parameters and evaluate the gradient\n",
    "nat_grad_result = nat_grad.assign_parameters(value_dict).eval()\n",
    "print('Natural gradient computed with linear combination of unitaries', nat_grad_result)"
   ]
  },
  {
   "cell_type": "markdown",
   "metadata": {
    "slideshow": {
     "slide_type": "slide"
    }
   },
   "source": [
    "### Second Order Gradients\n",
    "\n",
    "Four types of second order gradients are supported by the gradient framework.\n",
    "1. Gradient of an expectation value w.r.t. a coefficient of the measurement operator respectively observable $\\hat{O}\\left(\\omega\\right)$, i.e.\n",
    " $ \\frac{\\partial^2\\langle\\psi\\left(\\theta\\right)|\\hat{O}\\left(\\omega\\right)|\\psi\\left(\\theta\\right)\\rangle}{\\partial\\omega^2} $\n",
    "2.  Gradient of an expectation value w.r.t. a state $|\\psi\\left(\\theta\\right)\\rangle$ parameter, i.e.\n",
    " $ \\frac{\\partial^2\\langle\\psi\\left(\\theta\\right)|\\hat{O}\\left(\\omega\\right)|\\psi\\left(\\theta\\right)\\rangle}{\\partial\\theta^2} $\n",
    "3.  Gradient of sampling probabilities w.r.t. a state $|\\psi\\left(\\theta\\right)\\rangle$ parameter, i.e.\n",
    " $ \\frac{\\partial^2 p_i}{\\partial\\theta^2} = \\frac{\\partial^2\\langle\\psi\\left(\\theta\\right)|i\\rangle\\langle i|\\psi\\left(\\theta\\right)\\rangle}{\\partial\\theta^2} $\n",
    "4.  Gradient of an expectation value w.r.t. a state $|\\psi\\left(\\theta\\right)\\rangle$ parameter and a coefficient of the measurement operator respectively observable $\\hat{O}\\left(\\omega\\right)$, i.e.\n",
    " $ \\frac{\\partial^2\\langle\\psi\\left(\\theta\\right)|\\hat{O}\\left(\\omega\\right)|\\psi\\left(\\theta\\right)\\rangle}{\\partial\\theta\\partial\\omega} $"
   ]
  },
  {
   "cell_type": "code",
   "execution_count": 10,
   "metadata": {
    "slideshow": {
     "slide_type": "subslide"
    }
   },
   "outputs": [
    {
     "name": "stdout",
     "output_type": "stream",
     "text": [
      "Hessian \n",
      " [[ 0.         -1.41421356]\n",
      " [-1.41421356  0.70710678]]\n"
     ]
    }
   ],
   "source": [
    "# Instantiate the Hamiltonian observable\n",
    "coeff_0 = Parameter('c_0')\n",
    "coeff_1 = Parameter('c_1')\n",
    "H = coeff_0*coeff_1*coeff_1*X\n",
    "\n",
    "# Instantiate the quantum state with two parameters\n",
    "a = Parameter('a')\n",
    "b = Parameter('b')\n",
    "\n",
    "q = QuantumRegister(1)\n",
    "qc = QuantumCircuit(q)\n",
    "qc.h(q)\n",
    "qc.rz(a, q[0])\n",
    "qc.rx(b, q[0])\n",
    "\n",
    "# Combine the Hamiltonian observable and the state\n",
    "op = ~StateFn(H) @ CircuitStateFn(primitive=qc, coeff=1.)\n",
    "\n",
    "# Define the coefficient tuple w.r.t. which we want to compute the gradient\n",
    "hessian_coeffs = (coeff_0, coeff_1)\n",
    "\n",
    "# Convert the operator and the hessian target coefficients into the respective operator\n",
    "hessian = Hessian().convert(operator = op, \n",
    "                            params = [coeff_0, coeff_1])\n",
    "\n",
    "# Define the values to be assigned to the parameters\n",
    "value_dict = {coeff_0: 0.5, coeff_1: -1, a: np.pi / 4, b: np.pi/4}\n",
    "\n",
    "# Assign the parameters and evaluate the gradient\n",
    "hessian_result = hessian.assign_parameters(value_dict).eval()\n",
    "print('Hessian \\n', np.real(np.array(hessian_result)))"
   ]
  },
  {
   "cell_type": "code",
   "execution_count": 11,
   "metadata": {
    "slideshow": {
     "slide_type": "subslide"
    }
   },
   "outputs": [
    {
     "name": "stdout",
     "output_type": "stream",
     "text": [
      "Hessian computed using the parameter shift method\n",
      " [[-0.35355339  0.        ]\n",
      " [ 0.          0.        ]]\n",
      "Hessian computed with finite difference\n",
      " [[-0.35355339  0.        ]\n",
      " [ 0.          0.        ]]\n",
      "Hessian computed using the linear combination of unitaries method\n",
      " [[-0.35355339  0.        ]\n",
      " [ 0.          0.        ]]\n"
     ]
    }
   ],
   "source": [
    "params = [a,b]\n",
    "\n",
    "# Get the operator object representing the Hessian\n",
    "state_hess = Hessian(method='param_shift').convert(operator=op, params=params)\n",
    "# Assign the parameters and evaluate the Hessian\n",
    "hessian_result = state_hess.assign_parameters(value_dict).eval()\n",
    "\n",
    "# Get the operator object representing the Hessian using finite difference\n",
    "state_hess = Hessian(method='fin_diff').convert(operator=op, params=params)\n",
    "# Assign the parameters and evaluate the Hessian\n",
    "hessian_result = state_hess.assign_parameters(value_dict).eval()\n",
    "\n",
    "# Get the operator object representing the Hessian\n",
    "prob_hess = Hessian(method='lin_comb').convert(operator=op, params=params)\n",
    "# Assign the parameters and evaluate the Hessian\n",
    "hessian_result = prob_hess.assign_parameters(value_dict).eval()\n",
    "\n",
    "\n",
    "print('Hessian computed using the parameter shift method\\n', np.real(np.array(hessian_result)))\n",
    "print('Hessian computed with finite difference\\n', np.real(np.array(hessian_result)))\n",
    "print('Hessian computed using the linear combination of unitaries method\\n', np.real(np.array(hessian_result)))"
   ]
  },
  {
   "cell_type": "markdown",
   "metadata": {
    "slideshow": {
     "slide_type": "slide"
    }
   },
   "source": [
    "# QFI\n",
    "The Quantum Fisher Information is a metric tensor which is representative for the representation capacity of a \n",
    "parameterized quantum state $|\\psi\\left(\\theta\\right)\\rangle = V\\left(\\theta\\right)|\\psi\\rangle$ with input state $|\\psi\\rangle$, parametrized Ansatz $V\\left(\\theta\\right)$.\n",
    "\n",
    "The entries of the QFI for a pure state reads\n",
    "\n",
    "$$\n",
    "QFI_{kl} = 4 * \\text{Re}\\left[\\langle\\partial_k\\psi|\\partial_l|psi\\rangle-\\langle\\partial_k\\psi|\\psi\\rangle\\langle\\psi|\\partial_l\\psi\\rangle \\right].$$"
   ]
  },
  {
   "cell_type": "markdown",
   "metadata": {
    "slideshow": {
     "slide_type": "slide"
    }
   },
   "source": [
    "#### Full QFI\n",
    "To compute the full QFI, we use a working qubit as well as intercepting controlled gates. See e.g. [Variational ansatz-based quantum simulation of imaginary time evolution ](https://www.nature.com/articles/s41534-019-0187-2)."
   ]
  },
  {
   "cell_type": "code",
   "execution_count": 12,
   "metadata": {
    "slideshow": {
     "slide_type": "subslide"
    }
   },
   "outputs": [
    {
     "name": "stdout",
     "output_type": "stream",
     "text": [
      "full  QFI \n",
      " [[ 1.00000000e+00 -1.97989899e-17]\n",
      " [-1.97989899e-17  5.00000000e-01]]\n"
     ]
    }
   ],
   "source": [
    "# Wrap the quantum circuit into a CircuitStateFn\n",
    "state = CircuitStateFn(primitive=qc, coeff=1.)\n",
    "\n",
    "# Convert the state and the parameters into the operator object that represents the QFI \n",
    "qfi = QFI().convert(operator=state, params=params)\n",
    "# Define the values for which the QFI is to be computed\n",
    "values_dict = {a: np.pi / 4, b: 0.1}\n",
    "\n",
    "# Assign the parameters and evaluate the QFI\n",
    "qfi_result = qfi.assign_parameters(values_dict).eval()\n",
    "print('full  QFI \\n', np.real(np.array(qfi_result)))"
   ]
  },
  {
   "cell_type": "markdown",
   "metadata": {
    "slideshow": {
     "slide_type": "slide"
    }
   },
   "source": [
    "#### Block-diagonal and Diagonal Approximation\n",
    "A block-diagonal resp. diagonal approximation of the QFI can be computed without additional working qubits.\n",
    "This implementation requires the unrolling into Pauli rotations and unparameterized Gates."
   ]
  },
  {
   "cell_type": "code",
   "execution_count": 13,
   "metadata": {
    "slideshow": {
     "slide_type": "subslide"
    }
   },
   "outputs": [
    {
     "name": "stdout",
     "output_type": "stream",
     "text": [
      "Dlock-diagonal QFI \n",
      " [[1.  0. ]\n",
      " [0.  0.5]]\n",
      "Diagonal QFI \n",
      " [[1.  0. ]\n",
      " [0.  0.5]]\n"
     ]
    }
   ],
   "source": [
    "# Convert the state and the parameters into the operator object that represents the QFI \n",
    "# and set the approximation to 'block_diagonal'\n",
    "qfi = QFI('overlap').convert(operator=state, params=params)\n",
    "\n",
    "# Assign the parameters and evaluate the QFI\n",
    "qfi_result = qfi.assign_parameters(values_dict).eval()\n",
    "print('Dlock-diagonal QFI \\n', np.real(np.array(qfi_result)))\n",
    "\n",
    "# Convert the state and the parameters into the operator object that represents the QFI \n",
    "# and set the approximation to 'diagonal'\n",
    "qfi = QFI('overlap', 'diag').convert(operator=state, params=params)\n",
    "\n",
    "# Assign the parameters and evaluate the QFI\n",
    "qfi_result = qfi.assign_parameters(values_dict).eval()\n",
    "print('Diagonal QFI \\n', np.real(np.array(qfi_result)))"
   ]
  },
  {
   "cell_type": "markdown",
   "metadata": {
    "slideshow": {
     "slide_type": "slide"
    }
   },
   "source": [
    "### Application Examples"
   ]
  },
  {
   "cell_type": "markdown",
   "metadata": {
    "slideshow": {
     "slide_type": "slide"
    }
   },
   "source": [
    "#### VQE with first and second order gradient based optimization\n",
    "\n",
    "Note: The operator flow's eval method is used to evaluate the function, gradient and Hessian values but we could also use any Backend/QuantumInstance."
   ]
  },
  {
   "cell_type": "code",
   "execution_count": 14,
   "metadata": {
    "slideshow": {
     "slide_type": "subslide"
    }
   },
   "outputs": [],
   "source": [
    "from qiskit.aqua.operators import I, X, Z\n",
    "from qiskit.circuit import QuantumCircuit, ParameterVector\n",
    "from scipy.optimize import minimize\n",
    "\n",
    "h2_hamiltonian = -1.05 * (I ^ I) + 0.39 * (I ^ Z) - 0.39 * (Z ^ I) - 0.01 * (Z ^ Z) + 0.18 * (X ^ X)\n",
    "h2_energy = -1.85727503\n",
    "\n",
    "# Define the Ansatz\n",
    "wavefunction = QuantumCircuit(2)\n",
    "params = ParameterVector('theta', length=8)\n",
    "it = iter(params)\n",
    "wavefunction.ry(next(it), 0)\n",
    "wavefunction.ry(next(it), 1)\n",
    "wavefunction.rz(next(it), 0)\n",
    "wavefunction.rz(next(it), 1)\n",
    "wavefunction.cx(0, 1)\n",
    "wavefunction.ry(next(it), 0)\n",
    "wavefunction.ry(next(it), 1)\n",
    "wavefunction.rz(next(it), 0)\n",
    "wavefunction.rz(next(it), 1)\n",
    "\n",
    "op = ~StateFn(h2_hamiltonian) @ StateFn(wavefunction)"
   ]
  },
  {
   "cell_type": "code",
   "execution_count": 15,
   "metadata": {
    "slideshow": {
     "slide_type": "subslide"
    }
   },
   "outputs": [
    {
     "name": "stderr",
     "output_type": "stream",
     "text": [
      "/Users/brycefuller/anaconda3/envs/QiskitDevEnv/lib/python3.7/site-packages/scipy/optimize/linesearch.py:172: ComplexWarning: Casting complex values to real discards the imaginary part\n",
      "  amin, amax, isave, dsave)\n"
     ]
    },
    {
     "name": "stdout",
     "output_type": "stream",
     "text": [
      "VQE using the gradient and the Hessian: -1.8404998438468294 Reference: -1.85727503\n",
      "VQE using the gradient: -1.8404998438462055 Reference: -1.85727503\n"
     ]
    }
   ],
   "source": [
    "def fun(param_values):\n",
    "    param_dict = dict(zip(params, param_values)) \n",
    "    return op.assign_parameters(param_dict).eval()\n",
    "\n",
    "\n",
    "jac = Gradient(method = 'param_shift').gradient_wrapper(op, bind_params = params)\n",
    "# param_tuples = [[(param0, param1) for param0 in params] for param1 in params]\n",
    "hess = Hessian(method = 'param_shift').gradient_wrapper(op, bind_params = params)\n",
    "\n",
    "result = minimize(fun, np.random.rand(len(params)), method='Newton-CG', jac=jac, hess=hess, options={'maxiter': 10, 'xtol': 1e-8})\n",
    "print('VQE using the gradient and the Hessian:', result['fun'], 'Reference:', h2_energy)\n",
    "\n",
    "result = minimize(fun, np.random.rand(len(params)), method='Newton-CG', jac=jac, options={'maxiter': 10, 'xtol': 1e-8})\n",
    "print('VQE using the gradient:', result['fun'], 'Reference:', h2_energy)\n",
    "\n",
    "# result = minimize(fun, np.random.rand(len(params)), method='CG', options={'maxiter': 10, 'tol': 1e-8})\n",
    "\n",
    "# print('gradient-free VQE:', result['fun'], 'Reference:', h2_energy)"
   ]
  },
  {
   "cell_type": "code",
   "execution_count": 16,
   "metadata": {
    "slideshow": {
     "slide_type": "notes"
    }
   },
   "outputs": [
    {
     "ename": "ValueError",
     "evalue": "The truth value of an array with more than one element is ambiguous. Use a.any() or a.all()",
     "output_type": "error",
     "traceback": [
      "\u001b[0;31m------------------------------------------------------------------\u001b[0m",
      "\u001b[0;31mValueError\u001b[0m                       Traceback (most recent call last)",
      "\u001b[0;32m<ipython-input-16-960e8f201272>\u001b[0m in \u001b[0;36m<module>\u001b[0;34m\u001b[0m\n\u001b[1;32m     12\u001b[0m \u001b[0;34m\u001b[0m\u001b[0m\n\u001b[1;32m     13\u001b[0m result = minimize(fun, np.random.rand(len(params)), method='Newton-CG', jac=jac, hess=hess, \n\u001b[0;32m---> 14\u001b[0;31m                   options={'maxiter': 10, 'xtol': 1e-8})\n\u001b[0m\u001b[1;32m     15\u001b[0m \u001b[0;34m\u001b[0m\u001b[0m\n\u001b[1;32m     16\u001b[0m \u001b[0mprint\u001b[0m\u001b[0;34m(\u001b[0m\u001b[0;34m'VQE using the gradient and the Hessian:'\u001b[0m\u001b[0;34m,\u001b[0m \u001b[0mresult\u001b[0m\u001b[0;34m[\u001b[0m\u001b[0;34m'fun'\u001b[0m\u001b[0;34m]\u001b[0m\u001b[0;34m)\u001b[0m\u001b[0;34m\u001b[0m\u001b[0;34m\u001b[0m\u001b[0m\n",
      "\u001b[0;32m~/anaconda3/envs/QiskitDevEnv/lib/python3.7/site-packages/scipy/optimize/_minimize.py\u001b[0m in \u001b[0;36mminimize\u001b[0;34m(fun, x0, args, method, jac, hess, hessp, bounds, constraints, tol, callback, options)\u001b[0m\n\u001b[1;32m    605\u001b[0m     \u001b[0;32melif\u001b[0m \u001b[0mmeth\u001b[0m \u001b[0;34m==\u001b[0m \u001b[0;34m'newton-cg'\u001b[0m\u001b[0;34m:\u001b[0m\u001b[0;34m\u001b[0m\u001b[0;34m\u001b[0m\u001b[0m\n\u001b[1;32m    606\u001b[0m         return _minimize_newtoncg(fun, x0, args, jac, hess, hessp, callback,\n\u001b[0;32m--> 607\u001b[0;31m                                   **options)\n\u001b[0m\u001b[1;32m    608\u001b[0m     \u001b[0;32melif\u001b[0m \u001b[0mmeth\u001b[0m \u001b[0;34m==\u001b[0m \u001b[0;34m'l-bfgs-b'\u001b[0m\u001b[0;34m:\u001b[0m\u001b[0;34m\u001b[0m\u001b[0;34m\u001b[0m\u001b[0m\n\u001b[1;32m    609\u001b[0m         return _minimize_lbfgsb(fun, x0, args, jac, bounds,\n",
      "\u001b[0;32m~/anaconda3/envs/QiskitDevEnv/lib/python3.7/site-packages/scipy/optimize/optimize.py\u001b[0m in \u001b[0;36m_minimize_newtoncg\u001b[0;34m(fun, x0, args, jac, hess, hessp, callback, xtol, eps, maxiter, disp, return_all, **unknown_options)\u001b[0m\n\u001b[1;32m   1597\u001b[0m         \u001b[0mb\u001b[0m \u001b[0;34m=\u001b[0m \u001b[0;34m-\u001b[0m\u001b[0mfprime\u001b[0m\u001b[0;34m(\u001b[0m\u001b[0mxk\u001b[0m\u001b[0;34m)\u001b[0m\u001b[0;34m\u001b[0m\u001b[0;34m\u001b[0m\u001b[0m\n\u001b[1;32m   1598\u001b[0m         \u001b[0mmaggrad\u001b[0m \u001b[0;34m=\u001b[0m \u001b[0mnumpy\u001b[0m\u001b[0;34m.\u001b[0m\u001b[0madd\u001b[0m\u001b[0;34m.\u001b[0m\u001b[0mreduce\u001b[0m\u001b[0;34m(\u001b[0m\u001b[0mnumpy\u001b[0m\u001b[0;34m.\u001b[0m\u001b[0mabs\u001b[0m\u001b[0;34m(\u001b[0m\u001b[0mb\u001b[0m\u001b[0;34m)\u001b[0m\u001b[0;34m)\u001b[0m\u001b[0;34m\u001b[0m\u001b[0;34m\u001b[0m\u001b[0m\n\u001b[0;32m-> 1599\u001b[0;31m         \u001b[0meta\u001b[0m \u001b[0;34m=\u001b[0m \u001b[0mnumpy\u001b[0m\u001b[0;34m.\u001b[0m\u001b[0mmin\u001b[0m\u001b[0;34m(\u001b[0m\u001b[0;34m[\u001b[0m\u001b[0;36m0.5\u001b[0m\u001b[0;34m,\u001b[0m \u001b[0mnumpy\u001b[0m\u001b[0;34m.\u001b[0m\u001b[0msqrt\u001b[0m\u001b[0;34m(\u001b[0m\u001b[0mmaggrad\u001b[0m\u001b[0;34m)\u001b[0m\u001b[0;34m]\u001b[0m\u001b[0;34m)\u001b[0m\u001b[0;34m\u001b[0m\u001b[0;34m\u001b[0m\u001b[0m\n\u001b[0m\u001b[1;32m   1600\u001b[0m         \u001b[0mtermcond\u001b[0m \u001b[0;34m=\u001b[0m \u001b[0meta\u001b[0m \u001b[0;34m*\u001b[0m \u001b[0mmaggrad\u001b[0m\u001b[0;34m\u001b[0m\u001b[0;34m\u001b[0m\u001b[0m\n\u001b[1;32m   1601\u001b[0m         \u001b[0mxsupi\u001b[0m \u001b[0;34m=\u001b[0m \u001b[0mzeros\u001b[0m\u001b[0;34m(\u001b[0m\u001b[0mlen\u001b[0m\u001b[0;34m(\u001b[0m\u001b[0mx0\u001b[0m\u001b[0;34m)\u001b[0m\u001b[0;34m,\u001b[0m \u001b[0mdtype\u001b[0m\u001b[0;34m=\u001b[0m\u001b[0mx0\u001b[0m\u001b[0;34m.\u001b[0m\u001b[0mdtype\u001b[0m\u001b[0;34m)\u001b[0m\u001b[0;34m\u001b[0m\u001b[0;34m\u001b[0m\u001b[0m\n",
      "\u001b[0;32m<__array_function__ internals>\u001b[0m in \u001b[0;36mamin\u001b[0;34m(*args, **kwargs)\u001b[0m\n",
      "\u001b[0;32m~/anaconda3/envs/QiskitDevEnv/lib/python3.7/site-packages/numpy/core/fromnumeric.py\u001b[0m in \u001b[0;36mamin\u001b[0;34m(a, axis, out, keepdims, initial, where)\u001b[0m\n\u001b[1;32m   2791\u001b[0m     \"\"\"\n\u001b[1;32m   2792\u001b[0m     return _wrapreduction(a, np.minimum, 'min', axis, None, out,\n\u001b[0;32m-> 2793\u001b[0;31m                           keepdims=keepdims, initial=initial, where=where)\n\u001b[0m\u001b[1;32m   2794\u001b[0m \u001b[0;34m\u001b[0m\u001b[0m\n\u001b[1;32m   2795\u001b[0m \u001b[0;34m\u001b[0m\u001b[0m\n",
      "\u001b[0;32m~/anaconda3/envs/QiskitDevEnv/lib/python3.7/site-packages/numpy/core/fromnumeric.py\u001b[0m in \u001b[0;36m_wrapreduction\u001b[0;34m(obj, ufunc, method, axis, dtype, out, **kwargs)\u001b[0m\n\u001b[1;32m     88\u001b[0m                 \u001b[0;32mreturn\u001b[0m \u001b[0mreduction\u001b[0m\u001b[0;34m(\u001b[0m\u001b[0maxis\u001b[0m\u001b[0;34m=\u001b[0m\u001b[0maxis\u001b[0m\u001b[0;34m,\u001b[0m \u001b[0mout\u001b[0m\u001b[0;34m=\u001b[0m\u001b[0mout\u001b[0m\u001b[0;34m,\u001b[0m \u001b[0;34m**\u001b[0m\u001b[0mpasskwargs\u001b[0m\u001b[0;34m)\u001b[0m\u001b[0;34m\u001b[0m\u001b[0;34m\u001b[0m\u001b[0m\n\u001b[1;32m     89\u001b[0m \u001b[0;34m\u001b[0m\u001b[0m\n\u001b[0;32m---> 90\u001b[0;31m     \u001b[0;32mreturn\u001b[0m \u001b[0mufunc\u001b[0m\u001b[0;34m.\u001b[0m\u001b[0mreduce\u001b[0m\u001b[0;34m(\u001b[0m\u001b[0mobj\u001b[0m\u001b[0;34m,\u001b[0m \u001b[0maxis\u001b[0m\u001b[0;34m,\u001b[0m \u001b[0mdtype\u001b[0m\u001b[0;34m,\u001b[0m \u001b[0mout\u001b[0m\u001b[0;34m,\u001b[0m \u001b[0;34m**\u001b[0m\u001b[0mpasskwargs\u001b[0m\u001b[0;34m)\u001b[0m\u001b[0;34m\u001b[0m\u001b[0;34m\u001b[0m\u001b[0m\n\u001b[0m\u001b[1;32m     91\u001b[0m \u001b[0;34m\u001b[0m\u001b[0m\n\u001b[1;32m     92\u001b[0m \u001b[0;34m\u001b[0m\u001b[0m\n",
      "\u001b[0;31mValueError\u001b[0m: The truth value of an array with more than one element is ambiguous. Use a.any() or a.all()"
     ]
    }
   ],
   "source": [
    "from qiskit.aqua.operators import CircuitSampler\n",
    "from qiskit import Aer\n",
    "def fun(param_values):\n",
    "    param_dict = dict(zip(params, param_values))\n",
    "    param_dict = {k: [v] for k, v in param_dict.items()}\n",
    "    sampler = CircuitSampler(backend=Aer.get_backend('qasm_simulator')).convert(op, params=param_dict)\n",
    "    return sampler.eval()\n",
    "\n",
    "\n",
    "jac = Gradient(method = 'param_shift').gradient_wrapper(op, bind_params = params, backend=Aer.get_backend('qasm_simulator'))\n",
    "hess = Hessian(method = 'param_shift').gradient_wrapper(op, bind_params = params, backend=Aer.get_backend('qasm_simulator'))\n",
    "\n",
    "result = minimize(fun, np.random.rand(len(params)), method='Newton-CG', jac=jac, hess=hess, \n",
    "                  options={'maxiter': 10, 'xtol': 1e-8})\n",
    "\n",
    "print('VQE using the gradient and the Hessian:', result['fun'])\n",
    "\n",
    "result = minimize(fun, np.random.rand(len(params)), method='Newton-CG', jac=jac, options={'maxiter': 10, 'xtol': 1e-8})\n",
    "\n",
    "print('VQE using the gradient:', result['fun'])"
   ]
  },
  {
   "cell_type": "markdown",
   "metadata": {
    "slideshow": {
     "slide_type": "slide"
    }
   },
   "source": [
    "#### Gibbs state preparation using Variational Quantum Imaginary Time Evolution (VarQITE)"
   ]
  },
  {
   "cell_type": "code",
   "execution_count": null,
   "metadata": {
    "slideshow": {
     "slide_type": "subslide"
    }
   },
   "outputs": [],
   "source": [
    "from qiskit.circuit.library import RealAmplitudes\n",
    "\n",
    "# Temperature\n",
    "T = 5\n",
    "\n",
    "# Evolution time\n",
    "t =  1/(2*T)\n",
    "\n",
    "# Define the model Hamiltonian\n",
    "H = SummedOp([0.3 * Z^Z^ I^I, 0.2 * Z^I^ I^I, - 0.5 * I ^ Z^ I^I])\n",
    "\n",
    "# Instantiate the model ansatz\n",
    "depth = 1\n",
    "entangler_map = [[i+1, i] for i in range(H.num_qubits - 1)]\n",
    "ansatz = EfficientSU2(4, reps=depth, entanglement = entangler_map)\n",
    "qr = ansatz.qregs[0]\n",
    "for i in range(int(len(qr)/2)):\n",
    "    ansatz.cx(qr[i], qr[i+int(len(qr)/2)])\n",
    "    \n",
    "# Initialize the Ansatz parameters\n",
    "param_values_init = np.zeros(2* H.num_qubits * (depth + 1))\n",
    "for j in range(2 * H.num_qubits * depth, int(len(param_values_init) - H.num_qubits - 2)):\n",
    "    param_values_init[int(j)] = np.pi/2."
   ]
  },
  {
   "cell_type": "code",
   "execution_count": null,
   "metadata": {
    "slideshow": {
     "slide_type": "subslide"
    }
   },
   "outputs": [],
   "source": [
    "# Define the Hamiltonian as observable w.r.t. the wavefunction generated by the Ansatz    \n",
    "op = ~StateFn(H) @ CircuitStateFn(ansatz)\n",
    "\n",
    "# Define the discretization grid of the time steps\n",
    "num_time_steps = 10\n",
    "time_steps = np.linspace(0, t, num_time_steps)\n",
    "\n",
    "# Convert the operator that holds the Hamiltonian and ansatz into a NaturalGradient operator \n",
    "nat_grad = NaturalGradient(grad_method = 'lin_comb', regularization = 'ridge').convert(op, ansatz.ordered_parameters)\n",
    "\n",
    "param_values = param_values_init\n",
    "# Propagate the Ansatz parameters step by step according to the explicit Euler method\n",
    "for step in time_steps:\n",
    "    param_dict = dict(zip(ansatz.ordered_parameters, param_values))\n",
    "    nat_grad_result = np.real(nat_grad.assign_parameters(param_dict).eval())\n",
    "    param_values = list(np.subtract(param_values, t/num_time_steps * np.real(nat_grad_result)))\n",
    "\n",
    "param_dict_final = dict(zip(ansatz.ordered_parameters, param_values))"
   ]
  },
  {
   "cell_type": "code",
   "execution_count": null,
   "metadata": {
    "slideshow": {
     "slide_type": "subslide"
    }
   },
   "outputs": [],
   "source": [
    "print(CircuitStateFn(ansatz).assign_parameters(param_dict_final).eval().primitive.data)  "
   ]
  },
  {
   "cell_type": "code",
   "execution_count": null,
   "metadata": {
    "slideshow": {
     "slide_type": "notes"
    }
   },
   "outputs": [],
   "source": [
    "param_values"
   ]
  },
  {
   "cell_type": "code",
   "execution_count": null,
   "metadata": {
    "slideshow": {
     "slide_type": "notes"
    }
   },
   "outputs": [],
   "source": []
  }
 ],
 "metadata": {
  "celltoolbar": "Slideshow",
  "kernelspec": {
   "display_name": "Python 3",
   "language": "python",
   "name": "python3"
  },
  "language_info": {
   "codemirror_mode": {
    "name": "ipython",
    "version": 3
   },
   "file_extension": ".py",
   "mimetype": "text/x-python",
   "name": "python",
   "nbconvert_exporter": "python",
   "pygments_lexer": "ipython3",
   "version": "3.7.5"
  }
 },
 "nbformat": 4,
 "nbformat_minor": 1
}
