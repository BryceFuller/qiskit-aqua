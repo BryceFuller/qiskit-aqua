{
 "cells": [
  {
   "cell_type": "markdown",
   "metadata": {
    "collapsed": true,
    "slideshow": {
     "slide_type": "slide"
    }
   },
   "source": [
    "## Qiskit Gradient Framework\n",
    "\n",
    "The gradient framework enables the evaluation of quantum gradients as well as functions thereof.\n",
    "Besides standard first order gradients of expectation values of the form\n",
    "$$ \\langle\\psi\\left(\\theta\\right)|\\hat{O}\\left(\\omega\\right)|\\psi\\left(\\theta\\right)\\rangle $$\n",
    "<!--- $$ \\frac{\\partial\\langle\\psi\\left(\\theta\\right)|\\hat{O}\\left(\\omega\\right)|\\psi\\left(\\theta\\right)\\rangle}{\\partial\\theta} $$\n",
    "\n",
    "$$ \\frac{\\partial^2\\langle\\psi\\left(\\theta\\right)|\\hat{O}\\left(\\omega\\right)|\\psi\\left(\\theta\\right)\\rangle}{\\partial\\theta^2}, $$\n",
    "--->\n",
    "\n",
    "the gradient also supports the evaluation of second order gradients (Hessians), and the Quantum Fisher Information (QFI) of pure quantum states $|\\psi\\left(\\theta\\right)\\rangle$."
   ]
  },
  {
   "cell_type": "markdown",
   "metadata": {
    "slideshow": {
     "slide_type": "slide"
    }
   },
   "source": [
    "### First Order Gradients\n",
    "\n",
    "Three types of first order gradients are supported by the gradient framework.\n",
    "1. Gradient of an expectation value w.r.t. a coefficient of the measurement operator respectively observable $\\hat{O}\\left(\\omega\\right)$, i.e.\n",
    " $ \\frac{\\partial\\langle\\psi\\left(\\theta\\right)|\\hat{O}\\left(\\omega\\right)|\\psi\\left(\\theta\\right)\\rangle}{\\partial\\omega} $\n",
    "2.  Gradient of an expectation value w.r.t. a state $|\\psi\\left(\\theta\\right)\\rangle$ parameter, i.e.\n",
    " $ \\frac{\\partial\\langle\\psi\\left(\\theta\\right)|\\hat{O}\\left(\\omega\\right)|\\psi\\left(\\theta\\right)\\rangle}{\\partial\\theta} $\n",
    "3.  Gradient of sampling probabilities w.r.t. a state $|\\psi\\left(\\theta\\right)\\rangle$ parameter, i.e.\n",
    " $ \\frac{\\partial p_i}{\\partial\\theta} = \\frac{\\partial\\langle\\psi\\left(\\theta\\right)|i\\rangle\\langle i|\\psi\\left(\\theta\\right)\\rangle}{\\partial\\theta} $"
   ]
  },
  {
   "cell_type": "markdown",
   "metadata": {
    "slideshow": {
     "slide_type": "slide"
    }
   },
   "source": [
    "#### Gradients w.r.t. Measurement Operator Coefficients\n",
    "\n",
    "Given a parameterized quantum state $|\\psi\\left(\\theta\\right)\\rangle = V\\left(\\theta\\right)|\\psi\\rangle$ with input state $|\\psi\\rangle$, parametrized Ansatz $V\\left(\\theta\\right)$, and observable $\\hat{O}\\left(\\omega\\right)=\\sum_{i}\\omega_i\\hat{O}_i$, we want to compute \n",
    "$$ \\frac{\\partial\\langle\\psi\\left(\\theta\\right)|\\hat{O}\\left(\\omega\\right)|\\psi\\left(\\theta\\right)\\rangle}{\\partial\\omega_i} = \\langle\\psi\\left(\\theta\\right)|\\hat{O}_i\\left(\\omega\\right)|\\psi\\left(\\theta\\right)\\rangle. $$\n",
    "\n"
   ]
  },
  {
   "cell_type": "code",
   "execution_count": 1,
   "metadata": {
    "slideshow": {
     "slide_type": "subslide"
    }
   },
   "outputs": [],
   "source": [
    "import numpy as np\n",
    "from qiskit.aqua.operators import Z, X, I, StateFn, CircuitStateFn, SummedOp\n",
    "from qiskit.aqua.operators.gradients import Gradient, NaturalGradient, QFI, Hessian\n",
    "from qiskit.circuit import QuantumCircuit, QuantumRegister, Parameter, ParameterVector, ParameterExpression\n",
    "from qiskit.circuit.library import EfficientSU2"
   ]
  },
  {
   "cell_type": "code",
   "execution_count": 2,
   "metadata": {
    "slideshow": {
     "slide_type": "subslide"
    }
   },
   "outputs": [
    {
     "data": {
      "text/plain": [
       "<qiskit.circuit.instructionset.InstructionSet at 0x1931ba8d30>"
      ]
     },
     "execution_count": 2,
     "metadata": {},
     "output_type": "execute_result"
    }
   ],
   "source": [
    "a = Parameter('a')\n",
    "b = Parameter('b')\n",
    "q = QuantumRegister(1)\n",
    "qc = QuantumCircuit(q)\n",
    "qc.h(q)\n",
    "qc.rz(a, q[0])\n",
    "qc.rx(b, q[0])"
   ]
  },
  {
   "cell_type": "code",
   "execution_count": 3,
   "metadata": {
    "slideshow": {
     "slide_type": "subslide"
    }
   },
   "outputs": [
    {
     "name": "stdout",
     "output_type": "stream",
     "text": [
      "Gradient  [(0.7071067811865475+5.6e-17j), 0j]\n"
     ]
    }
   ],
   "source": [
    "# Instantiate the Hamiltonian observable\n",
    "coeff_0 = Parameter('c_0')\n",
    "coeff_1 = Parameter('c_1')\n",
    "H = coeff_0 * X + coeff_1 * Z\n",
    "\n",
    "# Combine the Hamiltonian observable and the state\n",
    "op = ~StateFn(H) @ CircuitStateFn(primitive=qc, coeff=1.)\n",
    "\n",
    "# Define the coefficients w.r.t. we want to compute the gradient\n",
    "gradient_coeffs = [coeff_0, coeff_1]\n",
    "\n",
    "# Convert the operator and the gradient target coefficients into the respective operator\n",
    "grad = Gradient().convert(operator = op, params = gradient_coeffs)\n",
    "\n",
    "# Define the values to be assigned to the parameters\n",
    "value_dict = {coeff_0: 0.5, coeff_1: -1, a: np.pi / 4, b: np.pi}\n",
    "\n",
    "# Assign the parameters and evaluate the gradient\n",
    "grad_result = grad.assign_parameters(value_dict).eval()\n",
    "print('Gradient ', grad_result)"
   ]
  },
  {
   "cell_type": "markdown",
   "metadata": {
    "slideshow": {
     "slide_type": "slide"
    }
   },
   "source": [
    "#### Gradients w.r.t. Measurement Quantum State Parameters\n",
    "\n",
    "Next we consider gradients w.r.t. $\\theta$, i.e., \n",
    " $ \\frac{\\partial\\langle\\psi\\left(\\theta\\right)|\\hat{O}\\left(\\omega\\right)|\\psi\\left(\\theta\\right)\\rangle}{\\partial\\theta}, $\n",
    " \n",
    " respectively,\n",
    " \n",
    "  $ \\frac{\\partial p_i}{\\partial\\theta} = \\frac{\\partial\\langle\\psi\\left(\\theta\\right)|i\\rangle\\langle i|\\psi\\left(\\theta\\right)\\rangle}{\\partial\\theta}. $\n",
    "\n",
    "Notably, the latter case does not use $2^n$ projective operators but is based on sampled values from adaptions of $|\\psi\\left(\\theta\\right)\\rangle$. "
   ]
  },
  {
   "cell_type": "markdown",
   "metadata": {
    "slideshow": {
     "slide_type": "subslide"
    }
   },
   "source": [
    "There are several ways to compute this type of gradient.\n",
    "* Parameter shifts: This method does not require additional working qubits but the evaluation of multiple expectation values.\n",
    "* Finite difference: This method compute a numerical approximation rather than an analytic gradient. Equivalently, to the parameter shifting this method does not require additional working qubits but the evaluation of multiple expectation values.\n",
    "* Linear combination of unitaries: This method requires a single circuit to compute the gradient but uses one additional working qubit and intercepting controlled quantum gates."
   ]
  },
  {
   "cell_type": "markdown",
   "metadata": {
    "slideshow": {
     "slide_type": "slide"
    }
   },
   "source": [
    "##### Parameter Shift Gradients\n",
    "<a id='param_shift_grad'></a>\n",
    "Given a Hermitian operator $g$ with two unique eigenvalues $\\pm r$ which acts as generator for a parameterized quantum gate $$G(\\theta)= e^{-i\\theta g}.$$\n",
    "Then, quantum gradients can be computed by using eigenvalue $r$ dependent shifts to parameters. All [standard, parameterized qiskit gates](https://github.com/Qiskit/qiskit-terra/tree/master/qiskit/circuit/library/standard_gates) can be shifted with $\\pi/2$, i.e.,\n",
    " $ \\frac{\\partial\\langle\\psi\\left(\\theta\\right)|\\hat{O}\\left(\\omega\\right)|\\psi\\left(\\theta\\right)\\rangle}{\\partial\\theta} = 2 \\left(\\langle\\psi\\left(\\theta+\\pi/2\\right)|\\hat{O}\\left(\\omega\\right)|\\psi\\left(\\theta+\\pi/2\\right)\\rangle - \\right.$\n",
    " $\\left.\\partial\\langle\\psi\\left(\\theta-\\pi/2\\right)|\\hat{O}\\left(\\omega\\right)|\\psi\\left(\\theta-\\pi/2\\right)\\rangle\\right).$\n",
    " Probability gradients are computed equivalently."
   ]
  },
  {
   "cell_type": "code",
   "execution_count": 4,
   "metadata": {
    "slideshow": {
     "slide_type": "subslide"
    }
   },
   "outputs": [],
   "source": [
    "# Define the Hamiltonian with fixed coefficients\n",
    "H = 0.5 * X - 1 * Z\n",
    "# Define the parameters w.r.t. we want to compute the gradients\n",
    "params = [a, b]"
   ]
  },
  {
   "cell_type": "code",
   "execution_count": 5,
   "metadata": {
    "slideshow": {
     "slide_type": "subslide"
    }
   },
   "outputs": [
    {
     "name": "stdout",
     "output_type": "stream",
     "text": [
      "State gradient computed with parameter shift [(-0.35355339059327373-4.175e-17j), (0.7071067811865475+4.15e-17j)]\n"
     ]
    }
   ],
   "source": [
    "# Define the values to be assigned to the parameters\n",
    "value_dict = { a: np.pi / 4, b: np.pi}\n",
    "\n",
    "# Combine the Hamiltonian observable and the state\n",
    "state_grad_op = ~StateFn(H) @ CircuitStateFn(primitive=qc, coeff=1.)\n",
    "state_grad = Gradient(method='param_shift').convert(operator=state_grad_op, params=params)\n",
    "# Assign the parameters and evaluate the gradient\n",
    "state_grad_result = state_grad.assign_parameters(value_dict).eval()\n",
    "print('State gradient computed with parameter shift', state_grad_result)"
   ]
  },
  {
   "cell_type": "markdown",
   "metadata": {
    "slideshow": {
     "slide_type": "slide"
    }
   },
   "source": [
    "##### Finite Difference Gradients\n",
    "\n",
    "<a id='fin_diff_grad'></a>\n",
    "\n",
    "Unlike the other methods, finite difference gradients are numerical estimations rather than analytical values.\n",
    "This implementation employs a central difference approach with $\\epsilon << 1$\n",
    " $ \\frac{\\partial\\langle\\psi\\left(\\theta\\right)|\\hat{O}\\left(\\omega\\right)|\\psi\\left(\\theta\\right)\\rangle}{\\partial\\theta} \\approx \\frac{1}{2\\epsilon} \\left(\\langle\\psi\\left(\\theta+\\epsilon\\right)|\\hat{O}\\left(\\omega\\right)|\\psi\\left(\\theta+\\epsilon\\right)\\rangle - \\partial\\langle\\psi\\left(\\theta-\\epsilon\\right)|\\hat{O}\\left(\\omega\\right)|\\psi\\left(\\theta-\\epsilon\\right)\\rangle\\right).$\n",
    " Probability gradients are computed equivalently."
   ]
  },
  {
   "cell_type": "code",
   "execution_count": 6,
   "metadata": {
    "slideshow": {
     "slide_type": "subslide"
    }
   },
   "outputs": [
    {
     "name": "stdout",
     "output_type": "stream",
     "text": [
      "State gradient computed with finite difference [(-0.3535533905669581-2.775e-11j), (0.7071067812098961+2.7749999999999998e-11j)]\n"
     ]
    }
   ],
   "source": [
    "# Define the values to be assigned to the parameters\n",
    "value_dict = { a: np.pi / 4, b: np.pi}\n",
    "\n",
    "# Combine the Hamiltonian observable and the state\n",
    "state_grad_op = ~StateFn(H) @ CircuitStateFn(primitive=qc, coeff=1.)\n",
    "state_grad = Gradient(method='fin_diff').convert(operator=state_grad_op, params=params)\n",
    "# Assign the parameters and evaluate the gradient\n",
    "state_grad_result = state_grad.assign_parameters(value_dict).eval()\n",
    "print('State gradient computed with finite difference', state_grad_result)"
   ]
  },
  {
   "cell_type": "markdown",
   "metadata": {
    "slideshow": {
     "slide_type": "slide"
    }
   },
   "source": [
    "##### Linear Combination of Unitaries Gradients\n",
    "<a id='lin_comb_grad'></a>\n",
    "Unitaries can be written as $U\\left(\\omega\\right) = e^{iM\\left(\\omega\\right)}$, where $M\\left(\\omega\\right)$ denotes a parameterized Hermitian matrix. \n",
    "Further, Hermitian matrices can be decomposed into weighted sums of Pauli terms, i.e., $M\\left(\\omega\\right) = \\sum_pm_p\\left(\\omega\\right)h_p$ with $m_p\\left(\\omega\\right)\\in\\mathbb{R}$ and $h_p=\\bigotimes\\limits_{j=0}^{n-1}\\sigma_{j, p}$ for $\\sigma_{j, p}\\in\\left\\{I, X, Y, Z\\right\\}$ acting on the $j^{\\text{th}}$ qubit. Thus, the gradients of \n",
    "$U_k\\left(\\omega_k\\right)$ are given by\n",
    "\\begin{equation*}\n",
    "\\frac{\\partial U_k\\left(\\omega_k\\right)}{\\partial\\omega_k} = \\sum\\limits_pi \\frac{\\partial m_{k,p}\\left(\\omega_k\\right)}{\\partial\\omega_k}U_k\\left(\\omega_k\\right)h_{k_p}.\n",
    "\\end{equation*}"
   ]
  },
  {
   "cell_type": "markdown",
   "metadata": {
    "slideshow": {
     "slide_type": "subslide"
    }
   },
   "source": [
    "Combining this observation with a circuit structure presented in [Simulating physical phenomena by quantum networks](https://journals.aps.org/pra/abstract/10.1103/PhysRevA.65.042323) allows us to compute the gradient with the evaluation of a single quantum circuit."
   ]
  },
  {
   "cell_type": "code",
   "execution_count": 7,
   "metadata": {
    "slideshow": {
     "slide_type": "subslide"
    }
   },
   "outputs": [
    {
     "name": "stdout",
     "output_type": "stream",
     "text": [
      "Probability gradient computed with linear combination of unitaries [[(1.6653345369377348e-16+0j), (-1.6653345369377348e-16+0j)], [(-0.35355339059327373+0j), (0.3535533905932737+0j)]]\n"
     ]
    }
   ],
   "source": [
    "# Define the values to be assigned to the parameters\n",
    "value_dict = {a: np.pi / 4, b: np.pi}\n",
    "# Define the state as operator flow class type\n",
    "prob_grad_op = CircuitStateFn(primitive=qc, coeff=1.)\n",
    "prob_grad = Gradient(method='lin_comb').convert(operator=prob_grad_op, params=params)\n",
    "# Assign the parameters and evaluate the gradient\n",
    "prob_grad_result = prob_grad.assign_parameters(value_dict).eval()\n",
    "print('Probability gradient computed with linear combination of unitaries', prob_grad_result)"
   ]
  },
  {
   "cell_type": "markdown",
   "metadata": {
    "slideshow": {
     "slide_type": "slide"
    }
   },
   "source": [
    "#### Natural Gradient\n",
    "\n",
    "A special type of first order gradient is the natural gradient which has proven itself useful in classical machine learning and is already being studied in the quantum context. This quantity represents a gradient that is 'rescaled' with the inverse Quantum Fisher Information matrix\n",
    "$$ QFI ^{-1} \\frac{\\partial\\langle\\psi\\left(\\theta\\right)|\\hat{O}\\left(\\omega\\right)|\\psi\\left(\\theta\\right)\\rangle}{\\partial\\theta}.$$"
   ]
  },
  {
   "cell_type": "markdown",
   "metadata": {
    "slideshow": {
     "slide_type": "subslide"
    }
   },
   "source": [
    "Instead of inverting the QFI, one can also use a least-square solver with or without regularization to solve\n",
    "\n",
    "$$ QFI x = \\frac{\\partial\\langle\\psi\\left(\\theta\\right)|\\hat{O}\\left(\\omega\\right)|\\psi\\left(\\theta\\right)\\rangle}{\\partial\\theta}.$$\n",
    "\n",
    "The implementation supports ridge and lasso regularization with automatic search for a good parameter using [L-curve corner search](https://arxiv.org/pdf/1608.04571.pdf) as well as two types of perturbations of the diagonal elements of the QFI.\n",
    "\n",
    "The natural gradient can be used instead of the standard gradient with any gradient-based optimizer and/or ODE solver."
   ]
  },
  {
   "cell_type": "code",
   "execution_count": 8,
   "metadata": {
    "slideshow": {
     "slide_type": "subslide"
    }
   },
   "outputs": [
    {
     "name": "stdout",
     "output_type": "stream",
     "text": [
      "Natural gradient computed with linear combination of unitaries [-2.17418416  1.90241114]\n"
     ]
    }
   ],
   "source": [
    "# Define the values to be assigned to the parameters\n",
    "value_dict = { a: np.pi / 4, b: np.pi}\n",
    "\n",
    "# Combine the Hamiltonian observable and the state\n",
    "op = ~StateFn(H) @ CircuitStateFn(primitive=qc, coeff=1.)\n",
    "# A regularization method can be chosen, e.g. ridge or lasso with automatic \n",
    "# parameter search\n",
    "nat_grad = NaturalGradient(grad_method='lin_comb', regularization='ridge').convert(\n",
    "    operator=op, params=params)\n",
    "# Assign the parameters and evaluate the gradient\n",
    "nat_grad_result = nat_grad.assign_parameters(value_dict).eval()\n",
    "print('Natural gradient computed with linear combination of unitaries', nat_grad_result)"
   ]
  },
  {
   "cell_type": "markdown",
   "metadata": {
    "slideshow": {
     "slide_type": "slide"
    }
   },
   "source": [
    "### Second Order Gradients\n",
    "\n",
    "Four types of second order gradients are supported by the gradient framework.\n",
    "1. Gradient of an expectation value w.r.t. a coefficient of the measurement operator respectively observable $\\hat{O}\\left(\\omega\\right)$, i.e.\n",
    " $ \\frac{\\partial^2\\langle\\psi\\left(\\theta\\right)|\\hat{O}\\left(\\omega\\right)|\\psi\\left(\\theta\\right)\\rangle}{\\partial\\omega^2} $\n",
    "2.  Gradient of an expectation value w.r.t. a state $|\\psi\\left(\\theta\\right)\\rangle$ parameter, i.e.\n",
    " $ \\frac{\\partial^2\\langle\\psi\\left(\\theta\\right)|\\hat{O}\\left(\\omega\\right)|\\psi\\left(\\theta\\right)\\rangle}{\\partial\\theta^2} $\n",
    "3.  Gradient of sampling probabilities w.r.t. a state $|\\psi\\left(\\theta\\right)\\rangle$ parameter, i.e.\n",
    " $ \\frac{\\partial^2 p_i}{\\partial\\theta^2} = \\frac{\\partial^2\\langle\\psi\\left(\\theta\\right)|i\\rangle\\langle i|\\psi\\left(\\theta\\right)\\rangle}{\\partial\\theta^2} $\n",
    "4.  Gradient of an expectation value w.r.t. a state $|\\psi\\left(\\theta\\right)\\rangle$ parameter and a coefficient of the measurement operator respectively observable $\\hat{O}\\left(\\omega\\right)$, i.e.\n",
    " $ \\frac{\\partial^2\\langle\\psi\\left(\\theta\\right)|\\hat{O}\\left(\\omega\\right)|\\psi\\left(\\theta\\right)\\rangle}{\\partial\\theta\\partial\\omega} $"
   ]
  },
  {
   "cell_type": "markdown",
   "metadata": {
    "slideshow": {
     "slide_type": "slide"
    }
   },
   "source": [
    "#### Hessians w.r.t. Measurement Operator Coefficients\n",
    "\n",
    "Given a parameterized quantum state $|\\psi\\left(\\theta\\right)\\rangle = V\\left(\\theta\\right)|\\psi\\rangle$ with input state $|\\psi\\rangle$, parametrized Ansatz $V\\left(\\theta\\right)$, and observable $\\hat{O}\\left(\\omega\\right)=\\sum_{ij}\\omega_i\\omega_j\\hat{O}_{ij}$, we want to compute \n",
    "$$ \\frac{\\partial^2\\langle\\psi\\left(\\theta\\right)|\\hat{O}\\left(\\omega\\right)|\\psi\\left(\\theta\\right)\\rangle}{\\partial\\omega_i\\partial\\omega_j} = \\langle\\psi\\left(\\theta\\right)|\\hat{O}_{ij}\\left(\\omega\\right)|\\psi\\left(\\theta\\right)\\rangle. $$"
   ]
  },
  {
   "cell_type": "code",
   "execution_count": 9,
   "metadata": {
    "slideshow": {
     "slide_type": "subslide"
    }
   },
   "outputs": [
    {
     "name": "stdout",
     "output_type": "stream",
     "text": [
      "Hessian  (1+1.22e-16j)\n"
     ]
    }
   ],
   "source": [
    "# Instantiate the Hamiltonian observable\n",
    "coeff_0 = Parameter('c_0')\n",
    "coeff_1 = Parameter('c_1')\n",
    "H = coeff_0*coeff_1 * X\n",
    "\n",
    "q = QuantumRegister(1)\n",
    "qc = QuantumCircuit(q)\n",
    "qc.h(q)\n",
    "\n",
    "# Combine the Hamiltonian observable and the state\n",
    "op = ~StateFn(H) @ CircuitStateFn(primitive=qc, coeff=1.)\n",
    "\n",
    "# Define the coefficient tuple w.r.t. which we want to compute the gradient\n",
    "hessian_coeffs = (coeff_0, coeff_1)\n",
    "\n",
    "# Convert the operator and the hessian target coefficients into the respective operator\n",
    "hessian = Hessian().convert(operator = op, params = hessian_coeffs)\n",
    "\n",
    "# Define the values to be assigned to the parameters\n",
    "value_dict = {coeff_0: 0.5, coeff_1: -1}\n",
    "\n",
    "# Assign the parameters and evaluate the gradient\n",
    "hessian_result = hessian.assign_parameters(value_dict).eval()\n",
    "print('Hessian ', hessian_result)"
   ]
  },
  {
   "cell_type": "markdown",
   "metadata": {
    "slideshow": {
     "slide_type": "slide"
    }
   },
   "source": [
    "#### Hessians w.r.t. Measurement Quantum State Parameters\n",
    "The supported Hessians w.r.t. $\\theta$ are\n",
    " $$ \\frac{\\partial^2\\langle\\psi\\left(\\theta\\right)|\\hat{O}\\left(\\omega\\right)|\\psi\\left(\\theta\\right)\\rangle}{\\partial\\theta^2}, $$\n",
    " \n",
    "and\n",
    " \n",
    "  $$ \\frac{\\partial^2 p_i}{\\partial\\theta} = \\frac{\\partial\\langle\\psi\\left(\\theta\\right)|i\\rangle\\langle i|\\psi\\left(\\theta\\right)\\rangle}{\\partial\\theta^2}. $$\n",
    "\n",
    "Notably, the latter case does not use $2^n$ projective operators but is based on sampled values from adaptions of $|\\psi\\left(\\theta\\right)\\rangle$. "
   ]
  },
  {
   "cell_type": "markdown",
   "metadata": {
    "slideshow": {
     "slide_type": "subslide"
    }
   },
   "source": [
    "Just as for gradients these Hessians can be computed with:\n",
    "* Parameter shifts: This method does not require additional working qubits but the evaluation of multiple expectation values.\n",
    "* Finite difference: This method compute a numerical approximation rather than an analytic gradient. Equivalently, to the parameter shifting this method does not require additional working qubits but the evaluation of multiple expectation values.\n",
    "* Linear combination of unitaries: This method requires a single circuit to compute the gradient but uses additional working qubits and intercepting controlled quantum gates."
   ]
  },
  {
   "cell_type": "markdown",
   "metadata": {
    "slideshow": {
     "slide_type": "slide"
    }
   },
   "source": [
    "##### Parameter Shift Hessians\n",
    "\n",
    "We consider the same setting as for [Parameter Shift Gradients](#param_shift_grad).\n",
    "\n",
    "For second order gradients, we only need to convolute two $\\pi/2$-shifts, i.e.,\n",
    " $$ \\frac{\\partial^2\\langle\\psi\\left(\\theta\\right)|\\hat{O}\\left(\\omega\\right)|\\psi\\left(\\theta\\right)\\rangle}{\\partial\\theta_i\\partial\\theta_j} = 4 \\left(\\langle\\psi\\left(\\theta_i+\\pi/2,\\theta_j+\\pi/2\\right)|\\hat{O}\\left(\\omega\\right)|\\psi\\left(\\theta_i+\\pi/2,\\theta_j+\\pi/2\\right)\\rangle - \n",
    " \\langle\\psi\\left(\\theta_i+\\pi/2,\\theta_j-\\pi/2\\right)|\\hat{O}\\left(\\omega\\right)|\\psi\\left(\\theta_i+\\pi/2,\\theta_j-\\pi/2\\right)\\rangle -\n",
    " \\langle\\psi\\left(\\theta_i-\\pi/2,\\theta_j+\\pi/2\\right)|\\hat{O}\\left(\\omega\\right)|\\psi\\left(\\theta_i-\\pi/2,\\theta_j+\\pi/2\\right)\\rangle\n",
    " +\n",
    " \\langle\\psi\\left(\\theta_i-\\pi/2,\\theta_j-\\pi/2\\right)|\\hat{O}\\left(\\omega\\right)|\\psi\\left(\\theta_i-\\pi/2,\\theta_j-\\pi/2\\right)\\rangle\\right).$$\n",
    " Probability gradients are computed equivalently."
   ]
  },
  {
   "cell_type": "code",
   "execution_count": 10,
   "metadata": {
    "slideshow": {
     "slide_type": "subslide"
    }
   },
   "outputs": [
    {
     "name": "stdout",
     "output_type": "stream",
     "text": [
      "Hessian computed using the parameter shift method [(0.14644660940672616+4.8625e-17j), (-0.49999999999999994-1.0425e-16j), (0.5+5.55e-17j)]\n"
     ]
    }
   ],
   "source": [
    "# Instantiate a Hamiltonian observable with fixed coefficient values\n",
    "H = 0.5 * X - 1 * Z\n",
    "\n",
    "# Instantiate the quantum state with two parameters\n",
    "a = Parameter('a')\n",
    "b = Parameter('b')\n",
    "\n",
    "q = QuantumRegister(1)\n",
    "qc = QuantumCircuit(q)\n",
    "qc.h(q)\n",
    "qc.rz(a, q[0])\n",
    "qc.rx(b, q[0])\n",
    "\n",
    "# Define the parameters for which we aim to compute the Hessian\n",
    "params = [(a,a),(a, b),(b,b)]\n",
    "\n",
    "# Combine the observable and the state to a ComposedOp\n",
    "op = ~StateFn(H) @ CircuitStateFn(primitive=qc, coeff=1.)\n",
    "\n",
    "# Get the operator object representing the Hessian\n",
    "state_hess = Hessian(method='param_shift').convert(operator=op, params=params)\n",
    "values_dict = {a: np.pi / 4, b: np.pi/4}\n",
    "\n",
    "# Assign the parameters and evaluate the Hessian\n",
    "hessian_result = state_hess.assign_parameters(values_dict).eval()\n",
    "print('Hessian computed using the parameter shift method', hessian_result)"
   ]
  },
  {
   "cell_type": "markdown",
   "metadata": {
    "slideshow": {
     "slide_type": "slide"
    }
   },
   "source": [
    "##### Finite Difference Hessians\n",
    "\n",
    "We consider the same setting as for [Finite Difference Gradients](#fin_diff_grad).\n",
    "For second order gradients, we only need to convolute two $\\epsilon$-shifts, i.e.,\n",
    " $$ \\frac{\\partial^2\\langle\\psi\\left(\\theta\\right)|\\hat{O}\\left(\\omega\\right)|\\psi\\left(\\theta\\right)\\rangle}{\\partial\\theta_i\\partial\\theta_j} = \\frac{1}{4\\epsilon^2} \\left(\\langle\\psi\\left(\\theta_i+\\epsilon,\\theta_j+\\epsilon\\right)|\\hat{O}\\left(\\omega\\right)|\\psi\\left(\\theta_i+\\epsilon,\\theta_j+\\epsilon\\right)\\rangle - \n",
    " \\langle\\psi\\left(\\theta_i+\\epsilon,\\theta_j-\\epsilon\\right)|\\hat{O}\\left(\\omega\\right)|\\psi\\left(\\theta_i+\\epsilon,\\theta_j-\\epsilon\\right)\\rangle -\n",
    " \\langle\\psi\\left(\\theta_i-\\epsilon,\\theta_j+\\epsilon\\right)|\\hat{O}\\left(\\omega\\right)|\\psi\\left(\\theta_i-\\epsilon,\\theta_j+\\epsilon\\right)\\rangle\n",
    " +\n",
    " \\langle\\psi\\left(\\theta_i-\\epsilon,\\theta_j-\\epsilon\\right)|\\hat{O}\\left(\\omega\\right)|\\psi\\left(\\theta_i-\\epsilon,\\theta_j-\\epsilon\\right)\\rangle\\right).$$\n",
    "\n",
    "\n",
    " Probability gradients are computed equivalently."
   ]
  },
  {
   "cell_type": "code",
   "execution_count": 11,
   "metadata": {
    "slideshow": {
     "slide_type": "subslide"
    }
   },
   "outputs": [
    {
     "name": "stdout",
     "output_type": "stream",
     "text": [
      "Hessian computed with finite difference [(0.1463470458984375+4.1750000000000005e-05j), (-0.4999542236328125-2.499999999999993e-07j), (0.499969482421875+2.7875e-05j)]\n"
     ]
    }
   ],
   "source": [
    "# Get the operator object representing the Hessian using finite difference\n",
    "state_hess = Hessian(method='fin_diff').convert(operator=op, params=params)\n",
    "values_dict = {a: np.pi / 4, b: np.pi/4}\n",
    "\n",
    "# Assign the parameters and evaluate the Hessian\n",
    "hessian_result = state_hess.assign_parameters(values_dict).eval()\n",
    "print('Hessian computed with finite difference', hessian_result)"
   ]
  },
  {
   "cell_type": "markdown",
   "metadata": {
    "slideshow": {
     "slide_type": "slide"
    }
   },
   "source": [
    "##### Linear Combination of Unitaries Hessians\n",
    "We consider the same setting as for [Linear Combination of Unitaries Gradients](#lin_comb_grad).\n",
    "Now, second order gradients require two additional working qubits as described in the following [paper](https://arxiv.org/abs/1804.08641)."
   ]
  },
  {
   "cell_type": "code",
   "execution_count": 12,
   "metadata": {
    "slideshow": {
     "slide_type": "subslide"
    }
   },
   "outputs": [
    {
     "name": "stdout",
     "output_type": "stream",
     "text": [
      "Hessian computed using the linear combination of unitaries method [(0.1464466094067261+1.7e-16j), (-0.5-4.76e-16j), (0.5+2.92e-16j)]\n"
     ]
    }
   ],
   "source": [
    "# Get the operator object representing the Hessian\n",
    "prob_hess = Hessian(method='lin_comb').convert(operator=op, params=params)\n",
    "values_dict = {a: np.pi / 4, b: np.pi/4}\n",
    "\n",
    "# Assign the parameters and evaluate the Hessian\n",
    "hessian_result = prob_hess.assign_parameters(values_dict).eval()\n",
    "print('Hessian computed using the linear combination of unitaries method', hessian_result)"
   ]
  },
  {
   "cell_type": "markdown",
   "metadata": {
    "slideshow": {
     "slide_type": "slide"
    }
   },
   "source": [
    "#### Hessians w.r.t. Measurement Operator Coefficients and Quantum State Parameters\n",
    "\n",
    "To compute a Hessian with one parameter from the measurement operator $\\hat{O}\\left(\\omega\\right)=\\sum_{i}\\omega_i\\hat{O}_i$ and one parameter from the quantum state $|\\psi\\left(\\theta\\right)\\rangle$ a gradient w.r.t. a measurement operator coefficient is combined with gradient w.r.t. a state parameter, i.e.,\n",
    " $$ \\frac{\\partial^2\\langle\\psi\\left(\\theta\\right)|\\hat{O}\\left(\\omega\\right)|\\psi\\left(\\theta\\right)\\rangle}{\\partial\\theta\\partial\\omega} = \\frac{\\partial\\langle\\psi\\left(\\theta\\right)|\\hat{O}_i\\left(\\omega\\right)|\\psi\\left(\\theta\\right)\\rangle}{\\partial\\theta},$$\n",
    " whereby the gradient w.r.t. the state parameter may be computed with either the [parameter shifting](#param_shift_grad), [finite difference](#fin_diff_grad), or the [linear combination of unitaries](#lin_comb_grad)."
   ]
  },
  {
   "cell_type": "code",
   "execution_count": 13,
   "metadata": {
    "slideshow": {
     "slide_type": "subslide"
    }
   },
   "outputs": [
    {
     "name": "stdout",
     "output_type": "stream",
     "text": [
      "Hessian computed using the parameter shift method (-0.7071067811865475-1.945e-16j)\n"
     ]
    }
   ],
   "source": [
    "# Instantiate a Hamiltonian observable with a variable coefficient\n",
    "coeff_0 = Parameter('c_0')\n",
    "H = coeff_0 * X\n",
    "\n",
    "# Instantiate the quantum state with one parameters\n",
    "a = Parameter('a')\n",
    "\n",
    "q = QuantumRegister(1)\n",
    "qc = QuantumCircuit(q)\n",
    "qc.h(q)\n",
    "qc.rz(a, q[0])\n",
    "\n",
    "# Define the parameters for which we aim to compute the Hessian\n",
    "params = (coeff_0, a)\n",
    "\n",
    "# Combine the observable and the state to a ComposedOp\n",
    "op = ~StateFn(H) @ CircuitStateFn(primitive=qc, coeff=1.)\n",
    "\n",
    "# Get the operator object representing the Hessian\n",
    "state_hess = Hessian(method='param_shift').convert(operator=op, params=params)\n",
    "values_dict = {a: np.pi / 4, coeff_0: np.pi/2}\n",
    "\n",
    "# Assign the parameters and evaluate the Hessian\n",
    "hessian_result = state_hess.assign_parameters(values_dict).eval()\n",
    "print('Hessian computed using the parameter shift method', hessian_result)"
   ]
  },
  {
   "cell_type": "markdown",
   "metadata": {
    "slideshow": {
     "slide_type": "slide"
    }
   },
   "source": [
    "### QFI\n",
    "The Quantum Fisher Information is a metric tensor which is representative for the representation capacity of a \n",
    "parameterized quantum state $|\\psi\\left(\\theta\\right)\\rangle = V\\left(\\theta\\right)|\\psi\\rangle$ with input state $|\\psi\\rangle$, parametrized Ansatz $V\\left(\\theta\\right)$.\n",
    "\n",
    "The entries of the QFI for a pure state reads\n",
    "\n",
    "$$\n",
    "QFI_{kl} = 4 * \\text{Re}\\left[\\langle\\partial_k\\psi|\\partial_l|psi\\rangle-\\langle\\partial_k\\psi|\\psi\\rangle\\langle\\psi|\\partial_l\\psi\\rangle \\right].$$"
   ]
  },
  {
   "cell_type": "markdown",
   "metadata": {
    "slideshow": {
     "slide_type": "slide"
    }
   },
   "source": [
    "#### Full QFI\n",
    "To compute the full QFI, we use a working qubit as well as intercepting controlled gates. See e.g. [Variational ansatz-based quantum simulation of imaginary time evolution ](https://www.nature.com/articles/s41534-019-0187-2)."
   ]
  },
  {
   "cell_type": "code",
   "execution_count": 14,
   "metadata": {
    "slideshow": {
     "slide_type": "subslide"
    }
   },
   "outputs": [
    {
     "name": "stdout",
     "output_type": "stream",
     "text": [
      "full  QFI  [[(0.9999999999999999+9.18e-16j), (-1.9798989873223362e-17+0j)], [(-1.9798989873223362e-17+0j), (0.49999999999999967+4.59e-16j)]]\n"
     ]
    }
   ],
   "source": [
    "# Instantiate the quantum state with two parameters\n",
    "a = Parameter('a')    \n",
    "b = Parameter('b')\n",
    "\n",
    "q = QuantumRegister(1)\n",
    "qc = QuantumCircuit(q)\n",
    "qc.h(q)\n",
    "qc.rz(a, q[0])\n",
    "qc.rx(b, q[0])\n",
    "\n",
    "# Define the parameters for which we want to get the QFI\n",
    "params = [a, b]\n",
    "\n",
    "# Wrap the quantum circuit into a CircuitStateFn\n",
    "state = CircuitStateFn(primitive=qc, coeff=1.)\n",
    "\n",
    "# Convert the state and the parameters into the operator object that represents the QFI \n",
    "qfi = QFI().convert(operator=state, params=params)\n",
    "# Define the values for which the QFI is to be computed\n",
    "values_dict = {params[0]: np.pi / 4, params[1]: 0.1}\n",
    "\n",
    "# Assign the parameters and evaluate the QFI\n",
    "qfi_result = qfi.assign_parameters(values_dict).eval()\n",
    "print('full  QFI ', qfi_result)"
   ]
  },
  {
   "cell_type": "markdown",
   "metadata": {
    "slideshow": {
     "slide_type": "slide"
    }
   },
   "source": [
    "#### Block-diagonal and Diagonal Approximation\n",
    "A block-diagonal resp. diagonal approximation of the QFI can be computed without additional working qubits.\n",
    "This implementation requires the unrolling into Pauli rotations and unparameterized Gates."
   ]
  },
  {
   "cell_type": "code",
   "execution_count": 15,
   "metadata": {
    "slideshow": {
     "slide_type": "subslide"
    }
   },
   "outputs": [
    {
     "name": "stdout",
     "output_type": "stream",
     "text": [
      "block-diagonal QFI  [[1.  0. ]\n",
      " [0.  0.5]]\n",
      "diagonal QFI  [[1.  0. ]\n",
      " [0.  0.5]]\n"
     ]
    }
   ],
   "source": [
    "# Convert the state and the parameters into the operator object that represents the QFI \n",
    "# and set the approximation to 'block_diagonal'\n",
    "qfi = QFI('block_diag').convert(operator=state, params=params)\n",
    "\n",
    "# Assign the parameters and evaluate the QFI\n",
    "qfi_result = qfi.assign_parameters(values_dict).eval()\n",
    "print('block-diagonal QFI ', qfi_result)\n",
    "\n",
    "# Convert the state and the parameters into the operator object that represents the QFI \n",
    "# and set the approximation to 'diagonal'\n",
    "qfi = QFI('diag').convert(operator=state, params=params)\n",
    "\n",
    "# Assign the parameters and evaluate the QFI\n",
    "qfi_result = qfi.assign_parameters(values_dict).eval()\n",
    "print('diagonal QFI ', qfi_result)"
   ]
  },
  {
   "cell_type": "markdown",
   "metadata": {
    "slideshow": {
     "slide_type": "slide"
    }
   },
   "source": [
    "### Application Examples"
   ]
  },
  {
   "cell_type": "markdown",
   "metadata": {
    "slideshow": {
     "slide_type": "slide"
    }
   },
   "source": [
    "#### VQE with first and second order gradient based optimization\n",
    "\n",
    "Note: The operator flow's eval method is used to evaluate the function, gradient and Hessian values but we could also use any Backend/QuantumInstance."
   ]
  },
  {
   "cell_type": "code",
   "execution_count": 16,
   "metadata": {
    "slideshow": {
     "slide_type": "subslide"
    }
   },
   "outputs": [],
   "source": [
    "from qiskit.aqua.operators import I, X, Z\n",
    "from qiskit.circuit import QuantumCircuit, ParameterVector\n",
    "from scipy.optimize import minimize\n",
    "\n",
    "h2_hamiltonian = -1.05 * (I ^ I) + 0.39 * (I ^ Z) - 0.39 * (Z ^ I) - 0.01 * (Z ^ Z) + 0.18 * (X ^ X)\n",
    "h2_energy = -1.85727503\n",
    "\n",
    "# Define the Ansatz\n",
    "wavefunction = QuantumCircuit(2)\n",
    "params = ParameterVector('theta', length=8)\n",
    "it = iter(params)\n",
    "wavefunction.ry(next(it), 0)\n",
    "wavefunction.ry(next(it), 1)\n",
    "wavefunction.rz(next(it), 0)\n",
    "wavefunction.rz(next(it), 1)\n",
    "wavefunction.cx(0, 1)\n",
    "wavefunction.ry(next(it), 0)\n",
    "wavefunction.ry(next(it), 1)\n",
    "wavefunction.rz(next(it), 0)\n",
    "wavefunction.rz(next(it), 1)\n",
    "\n",
    "op = ~StateFn(h2_hamiltonian) @ StateFn(wavefunction)"
   ]
  },
  {
   "cell_type": "code",
   "execution_count": 17,
   "metadata": {
    "slideshow": {
     "slide_type": "subslide"
    }
   },
   "outputs": [
    {
     "name": "stderr",
     "output_type": "stream",
     "text": [
      "/Users/ouf/anaconda3/envs/QiskitDevenv/lib/python3.7/site-packages/scipy/optimize/linesearch.py:169: ComplexWarning: Casting complex values to real discards the imaginary part\n",
      "  amin, amax, isave, dsave)\n",
      "/Users/ouf/anaconda3/envs/QiskitDevenv/lib/python3.7/site-packages/scipy/optimize/_differentiable_functions.py:158: ComplexWarning: Casting complex values to real discards the imaginary part\n",
      "  self.x = np.atleast_1d(x).astype(float)\n"
     ]
    },
    {
     "name": "stdout",
     "output_type": "stream",
     "text": [
      "VQE using the gradient and the Hessian: -1.8404995618042734 Reference: -1.85727503\n",
      "VQE using the gradient: -1.840499843846824 Reference: -1.85727503\n"
     ]
    }
   ],
   "source": [
    "def fun(param_values):\n",
    "    param_dict = dict(zip(params, param_values)) \n",
    "    return op.assign_parameters(param_dict).eval()\n",
    "\n",
    "\n",
    "jac = Gradient(method = 'param_shift').gradient_wrapper(op, bind_params = params)\n",
    "# param_tuples = [[(param0, param1) for param0 in params] for param1 in params]\n",
    "hess = Hessian(method = 'param_shift').gradient_wrapper(op, bind_params = params)\n",
    "\n",
    "result = minimize(fun, np.random.rand(len(params)), method='Newton-CG', jac=jac, hess=hess, options={'maxiter': 10, 'xtol': 1e-8})\n",
    "\n",
    "print('VQE using the gradient and the Hessian:', result['fun'], 'Reference:', h2_energy)\n",
    "\n",
    "result = minimize(fun, np.random.rand(len(params)), method='Newton-CG', jac=jac, options={'maxiter': 10, 'xtol': 1e-8})\n",
    "\n",
    "print('VQE using the gradient:', result['fun'], 'Reference:', h2_energy)\n",
    "\n",
    "# result = minimize(fun, np.random.rand(len(params)), method='CG', options={'maxiter': 10, 'tol': 1e-8})\n",
    "\n",
    "# print('gradient-free VQE:', result['fun'], 'Reference:', h2_energy)"
   ]
  },
  {
   "cell_type": "code",
   "execution_count": 18,
   "metadata": {
    "slideshow": {
     "slide_type": "notes"
    }
   },
   "outputs": [
    {
     "ename": "TypeError",
     "evalue": "unsupported operand type(s) for *: 'complex' and 'ParameterExpression'",
     "output_type": "error",
     "traceback": [
      "\u001b[0;31m---------------------------------------------------------------------------\u001b[0m",
      "\u001b[0;31mTypeError\u001b[0m                                 Traceback (most recent call last)",
      "\u001b[0;32m<ipython-input-18-75f02fb12099>\u001b[0m in \u001b[0;36m<module>\u001b[0;34m\u001b[0m\n\u001b[1;32m     14\u001b[0m \u001b[0;34m\u001b[0m\u001b[0m\n\u001b[1;32m     15\u001b[0m result = minimize(fun, np.random.rand(len(params)), method='Newton-CG', jac=jac, hess=hess, \n\u001b[0;32m---> 16\u001b[0;31m                   options={'maxiter': 10, 'xtol': 1e-8})\n\u001b[0m\u001b[1;32m     17\u001b[0m \u001b[0;34m\u001b[0m\u001b[0m\n\u001b[1;32m     18\u001b[0m \u001b[0mprint\u001b[0m\u001b[0;34m(\u001b[0m\u001b[0;34m'VQE using the gradient and the Hessian:'\u001b[0m\u001b[0;34m,\u001b[0m \u001b[0mresult\u001b[0m\u001b[0;34m[\u001b[0m\u001b[0;34m'fun'\u001b[0m\u001b[0;34m]\u001b[0m\u001b[0;34m)\u001b[0m\u001b[0;34m\u001b[0m\u001b[0;34m\u001b[0m\u001b[0m\n",
      "\u001b[0;32m~/anaconda3/envs/QiskitDevenv/lib/python3.7/site-packages/scipy/optimize/_minimize.py\u001b[0m in \u001b[0;36mminimize\u001b[0;34m(fun, x0, args, method, jac, hess, hessp, bounds, constraints, tol, callback, options)\u001b[0m\n\u001b[1;32m    613\u001b[0m     \u001b[0;32melif\u001b[0m \u001b[0mmeth\u001b[0m \u001b[0;34m==\u001b[0m \u001b[0;34m'newton-cg'\u001b[0m\u001b[0;34m:\u001b[0m\u001b[0;34m\u001b[0m\u001b[0;34m\u001b[0m\u001b[0m\n\u001b[1;32m    614\u001b[0m         return _minimize_newtoncg(fun, x0, args, jac, hess, hessp, callback,\n\u001b[0;32m--> 615\u001b[0;31m                                   **options)\n\u001b[0m\u001b[1;32m    616\u001b[0m     \u001b[0;32melif\u001b[0m \u001b[0mmeth\u001b[0m \u001b[0;34m==\u001b[0m \u001b[0;34m'l-bfgs-b'\u001b[0m\u001b[0;34m:\u001b[0m\u001b[0;34m\u001b[0m\u001b[0;34m\u001b[0m\u001b[0m\n\u001b[1;32m    617\u001b[0m         return _minimize_lbfgsb(fun, x0, args, jac, bounds,\n",
      "\u001b[0;32m~/anaconda3/envs/QiskitDevenv/lib/python3.7/site-packages/scipy/optimize/optimize.py\u001b[0m in \u001b[0;36m_minimize_newtoncg\u001b[0;34m(fun, x0, args, jac, hess, hessp, callback, xtol, eps, maxiter, disp, return_all, **unknown_options)\u001b[0m\n\u001b[1;32m   1683\u001b[0m     \u001b[0;31m# TODO: allow hess to be approximated by FD?\u001b[0m\u001b[0;34m\u001b[0m\u001b[0;34m\u001b[0m\u001b[0;34m\u001b[0m\u001b[0m\n\u001b[1;32m   1684\u001b[0m     \u001b[0;31m# TODO: add hessp (callable or FD) to ScalarFunction?\u001b[0m\u001b[0;34m\u001b[0m\u001b[0;34m\u001b[0m\u001b[0;34m\u001b[0m\u001b[0m\n\u001b[0;32m-> 1685\u001b[0;31m     \u001b[0msf\u001b[0m \u001b[0;34m=\u001b[0m \u001b[0m_prepare_scalar_function\u001b[0m\u001b[0;34m(\u001b[0m\u001b[0mfun\u001b[0m\u001b[0;34m,\u001b[0m \u001b[0mx0\u001b[0m\u001b[0;34m,\u001b[0m \u001b[0mjac\u001b[0m\u001b[0;34m,\u001b[0m \u001b[0margs\u001b[0m\u001b[0;34m=\u001b[0m\u001b[0margs\u001b[0m\u001b[0;34m,\u001b[0m \u001b[0mepsilon\u001b[0m\u001b[0;34m=\u001b[0m\u001b[0meps\u001b[0m\u001b[0;34m,\u001b[0m \u001b[0mhess\u001b[0m\u001b[0;34m=\u001b[0m\u001b[0mfhess\u001b[0m\u001b[0;34m)\u001b[0m\u001b[0;34m\u001b[0m\u001b[0;34m\u001b[0m\u001b[0m\n\u001b[0m\u001b[1;32m   1686\u001b[0m     \u001b[0mf\u001b[0m \u001b[0;34m=\u001b[0m \u001b[0msf\u001b[0m\u001b[0;34m.\u001b[0m\u001b[0mfun\u001b[0m\u001b[0;34m\u001b[0m\u001b[0;34m\u001b[0m\u001b[0m\n\u001b[1;32m   1687\u001b[0m     \u001b[0mfprime\u001b[0m \u001b[0;34m=\u001b[0m \u001b[0msf\u001b[0m\u001b[0;34m.\u001b[0m\u001b[0mgrad\u001b[0m\u001b[0;34m\u001b[0m\u001b[0;34m\u001b[0m\u001b[0m\n",
      "\u001b[0;32m~/anaconda3/envs/QiskitDevenv/lib/python3.7/site-packages/scipy/optimize/optimize.py\u001b[0m in \u001b[0;36m_prepare_scalar_function\u001b[0;34m(fun, x0, jac, args, bounds, epsilon, finite_diff_rel_step, hess)\u001b[0m\n\u001b[1;32m    260\u001b[0m     \u001b[0;31m# calculation reduces overall function evaluations.\u001b[0m\u001b[0;34m\u001b[0m\u001b[0;34m\u001b[0m\u001b[0;34m\u001b[0m\u001b[0m\n\u001b[1;32m    261\u001b[0m     sf = ScalarFunction(fun, x0, args, grad, hess,\n\u001b[0;32m--> 262\u001b[0;31m                         finite_diff_rel_step, bounds, epsilon=epsilon)\n\u001b[0m\u001b[1;32m    263\u001b[0m \u001b[0;34m\u001b[0m\u001b[0m\n\u001b[1;32m    264\u001b[0m     \u001b[0;32mreturn\u001b[0m \u001b[0msf\u001b[0m\u001b[0;34m\u001b[0m\u001b[0;34m\u001b[0m\u001b[0m\n",
      "\u001b[0;32m~/anaconda3/envs/QiskitDevenv/lib/python3.7/site-packages/scipy/optimize/_differentiable_functions.py\u001b[0m in \u001b[0;36m__init__\u001b[0;34m(self, fun, x0, args, grad, hess, finite_diff_rel_step, finite_diff_bounds, epsilon)\u001b[0m\n\u001b[1;32m     97\u001b[0m         \u001b[0;31m# Hessian Evaluation\u001b[0m\u001b[0;34m\u001b[0m\u001b[0;34m\u001b[0m\u001b[0;34m\u001b[0m\u001b[0m\n\u001b[1;32m     98\u001b[0m         \u001b[0;32mif\u001b[0m \u001b[0mcallable\u001b[0m\u001b[0;34m(\u001b[0m\u001b[0mhess\u001b[0m\u001b[0;34m)\u001b[0m\u001b[0;34m:\u001b[0m\u001b[0;34m\u001b[0m\u001b[0;34m\u001b[0m\u001b[0m\n\u001b[0;32m---> 99\u001b[0;31m             \u001b[0mself\u001b[0m\u001b[0;34m.\u001b[0m\u001b[0mH\u001b[0m \u001b[0;34m=\u001b[0m \u001b[0mhess\u001b[0m\u001b[0;34m(\u001b[0m\u001b[0mx0\u001b[0m\u001b[0;34m,\u001b[0m \u001b[0;34m*\u001b[0m\u001b[0margs\u001b[0m\u001b[0;34m)\u001b[0m\u001b[0;34m\u001b[0m\u001b[0;34m\u001b[0m\u001b[0m\n\u001b[0m\u001b[1;32m    100\u001b[0m             \u001b[0mself\u001b[0m\u001b[0;34m.\u001b[0m\u001b[0mH_updated\u001b[0m \u001b[0;34m=\u001b[0m \u001b[0;32mTrue\u001b[0m\u001b[0;34m\u001b[0m\u001b[0;34m\u001b[0m\u001b[0m\n\u001b[1;32m    101\u001b[0m             \u001b[0mself\u001b[0m\u001b[0;34m.\u001b[0m\u001b[0mnhev\u001b[0m \u001b[0;34m+=\u001b[0m \u001b[0;36m1\u001b[0m\u001b[0;34m\u001b[0m\u001b[0;34m\u001b[0m\u001b[0m\n",
      "\u001b[0;32m~/Documents/GitHub/qiskit-aqua-grad/qiskit/aqua/operators/gradients/derivatives_base.py\u001b[0m in \u001b[0;36mgradient_fn\u001b[0;34m(p_values)\u001b[0m\n\u001b[1;32m    120\u001b[0m                         converter = CircuitSampler(backend=backend).convert(\n\u001b[1;32m    121\u001b[0m                             self.convert(operator, grad_params), p_values_dict)\n\u001b[0;32m--> 122\u001b[0;31m             \u001b[0;32mreturn\u001b[0m \u001b[0mconverter\u001b[0m\u001b[0;34m.\u001b[0m\u001b[0meval\u001b[0m\u001b[0;34m(\u001b[0m\u001b[0;34m)\u001b[0m\u001b[0;34m\u001b[0m\u001b[0;34m\u001b[0m\u001b[0m\n\u001b[0m\u001b[1;32m    123\u001b[0m \u001b[0;34m\u001b[0m\u001b[0m\n\u001b[1;32m    124\u001b[0m         \u001b[0;32mreturn\u001b[0m \u001b[0mgradient_fn\u001b[0m\u001b[0;34m\u001b[0m\u001b[0;34m\u001b[0m\u001b[0m\n",
      "\u001b[0;32m~/Documents/GitHub/qiskit-aqua-grad/qiskit/aqua/operators/list_ops/list_op.py\u001b[0m in \u001b[0;36meval\u001b[0;34m(self, front)\u001b[0m\n\u001b[1;32m    311\u001b[0m             raise NotImplementedError(r'ListOp\\'s eval function is only defined for distributive '\n\u001b[1;32m    312\u001b[0m                                       r'Listops.')\n\u001b[0;32m--> 313\u001b[0;31m         \u001b[0mevals\u001b[0m \u001b[0;34m=\u001b[0m \u001b[0;34m[\u001b[0m\u001b[0;34m(\u001b[0m\u001b[0mself\u001b[0m\u001b[0;34m.\u001b[0m\u001b[0mcoeff\u001b[0m \u001b[0;34m*\u001b[0m \u001b[0mop\u001b[0m\u001b[0;34m)\u001b[0m\u001b[0;34m.\u001b[0m\u001b[0meval\u001b[0m\u001b[0;34m(\u001b[0m\u001b[0mfront\u001b[0m\u001b[0;34m)\u001b[0m \u001b[0;32mfor\u001b[0m \u001b[0mop\u001b[0m \u001b[0;32min\u001b[0m \u001b[0mself\u001b[0m\u001b[0;34m.\u001b[0m\u001b[0moplist\u001b[0m\u001b[0;34m]\u001b[0m  \u001b[0;31m# type: ignore\u001b[0m\u001b[0;34m\u001b[0m\u001b[0;34m\u001b[0m\u001b[0m\n\u001b[0m\u001b[1;32m    314\u001b[0m \u001b[0;34m\u001b[0m\u001b[0m\n\u001b[1;32m    315\u001b[0m         \u001b[0;31m# Handle application of combo_fn for {Dict,Vector}StateFns\u001b[0m\u001b[0;34m\u001b[0m\u001b[0;34m\u001b[0m\u001b[0;34m\u001b[0m\u001b[0m\n",
      "\u001b[0;32m~/Documents/GitHub/qiskit-aqua-grad/qiskit/aqua/operators/list_ops/list_op.py\u001b[0m in \u001b[0;36m<listcomp>\u001b[0;34m(.0)\u001b[0m\n\u001b[1;32m    311\u001b[0m             raise NotImplementedError(r'ListOp\\'s eval function is only defined for distributive '\n\u001b[1;32m    312\u001b[0m                                       r'Listops.')\n\u001b[0;32m--> 313\u001b[0;31m         \u001b[0mevals\u001b[0m \u001b[0;34m=\u001b[0m \u001b[0;34m[\u001b[0m\u001b[0;34m(\u001b[0m\u001b[0mself\u001b[0m\u001b[0;34m.\u001b[0m\u001b[0mcoeff\u001b[0m \u001b[0;34m*\u001b[0m \u001b[0mop\u001b[0m\u001b[0;34m)\u001b[0m\u001b[0;34m.\u001b[0m\u001b[0meval\u001b[0m\u001b[0;34m(\u001b[0m\u001b[0mfront\u001b[0m\u001b[0;34m)\u001b[0m \u001b[0;32mfor\u001b[0m \u001b[0mop\u001b[0m \u001b[0;32min\u001b[0m \u001b[0mself\u001b[0m\u001b[0;34m.\u001b[0m\u001b[0moplist\u001b[0m\u001b[0;34m]\u001b[0m  \u001b[0;31m# type: ignore\u001b[0m\u001b[0;34m\u001b[0m\u001b[0;34m\u001b[0m\u001b[0m\n\u001b[0m\u001b[1;32m    314\u001b[0m \u001b[0;34m\u001b[0m\u001b[0m\n\u001b[1;32m    315\u001b[0m         \u001b[0;31m# Handle application of combo_fn for {Dict,Vector}StateFns\u001b[0m\u001b[0;34m\u001b[0m\u001b[0;34m\u001b[0m\u001b[0;34m\u001b[0m\u001b[0m\n",
      "\u001b[0;32m~/Documents/GitHub/qiskit-aqua-grad/qiskit/aqua/operators/list_ops/list_op.py\u001b[0m in \u001b[0;36meval\u001b[0;34m(self, front)\u001b[0m\n\u001b[1;32m    311\u001b[0m             raise NotImplementedError(r'ListOp\\'s eval function is only defined for distributive '\n\u001b[1;32m    312\u001b[0m                                       r'Listops.')\n\u001b[0;32m--> 313\u001b[0;31m         \u001b[0mevals\u001b[0m \u001b[0;34m=\u001b[0m \u001b[0;34m[\u001b[0m\u001b[0;34m(\u001b[0m\u001b[0mself\u001b[0m\u001b[0;34m.\u001b[0m\u001b[0mcoeff\u001b[0m \u001b[0;34m*\u001b[0m \u001b[0mop\u001b[0m\u001b[0;34m)\u001b[0m\u001b[0;34m.\u001b[0m\u001b[0meval\u001b[0m\u001b[0;34m(\u001b[0m\u001b[0mfront\u001b[0m\u001b[0;34m)\u001b[0m \u001b[0;32mfor\u001b[0m \u001b[0mop\u001b[0m \u001b[0;32min\u001b[0m \u001b[0mself\u001b[0m\u001b[0;34m.\u001b[0m\u001b[0moplist\u001b[0m\u001b[0;34m]\u001b[0m  \u001b[0;31m# type: ignore\u001b[0m\u001b[0;34m\u001b[0m\u001b[0;34m\u001b[0m\u001b[0m\n\u001b[0m\u001b[1;32m    314\u001b[0m \u001b[0;34m\u001b[0m\u001b[0m\n\u001b[1;32m    315\u001b[0m         \u001b[0;31m# Handle application of combo_fn for {Dict,Vector}StateFns\u001b[0m\u001b[0;34m\u001b[0m\u001b[0;34m\u001b[0m\u001b[0;34m\u001b[0m\u001b[0m\n",
      "\u001b[0;32m~/Documents/GitHub/qiskit-aqua-grad/qiskit/aqua/operators/list_ops/list_op.py\u001b[0m in \u001b[0;36m<listcomp>\u001b[0;34m(.0)\u001b[0m\n\u001b[1;32m    311\u001b[0m             raise NotImplementedError(r'ListOp\\'s eval function is only defined for distributive '\n\u001b[1;32m    312\u001b[0m                                       r'Listops.')\n\u001b[0;32m--> 313\u001b[0;31m         \u001b[0mevals\u001b[0m \u001b[0;34m=\u001b[0m \u001b[0;34m[\u001b[0m\u001b[0;34m(\u001b[0m\u001b[0mself\u001b[0m\u001b[0;34m.\u001b[0m\u001b[0mcoeff\u001b[0m \u001b[0;34m*\u001b[0m \u001b[0mop\u001b[0m\u001b[0;34m)\u001b[0m\u001b[0;34m.\u001b[0m\u001b[0meval\u001b[0m\u001b[0;34m(\u001b[0m\u001b[0mfront\u001b[0m\u001b[0;34m)\u001b[0m \u001b[0;32mfor\u001b[0m \u001b[0mop\u001b[0m \u001b[0;32min\u001b[0m \u001b[0mself\u001b[0m\u001b[0;34m.\u001b[0m\u001b[0moplist\u001b[0m\u001b[0;34m]\u001b[0m  \u001b[0;31m# type: ignore\u001b[0m\u001b[0;34m\u001b[0m\u001b[0;34m\u001b[0m\u001b[0m\n\u001b[0m\u001b[1;32m    314\u001b[0m \u001b[0;34m\u001b[0m\u001b[0m\n\u001b[1;32m    315\u001b[0m         \u001b[0;31m# Handle application of combo_fn for {Dict,Vector}StateFns\u001b[0m\u001b[0;34m\u001b[0m\u001b[0;34m\u001b[0m\u001b[0;34m\u001b[0m\u001b[0m\n",
      "\u001b[0;32m~/Documents/GitHub/qiskit-aqua-grad/qiskit/aqua/operators/list_ops/list_op.py\u001b[0m in \u001b[0;36meval\u001b[0;34m(self, front)\u001b[0m\n\u001b[1;32m    311\u001b[0m             raise NotImplementedError(r'ListOp\\'s eval function is only defined for distributive '\n\u001b[1;32m    312\u001b[0m                                       r'Listops.')\n\u001b[0;32m--> 313\u001b[0;31m         \u001b[0mevals\u001b[0m \u001b[0;34m=\u001b[0m \u001b[0;34m[\u001b[0m\u001b[0;34m(\u001b[0m\u001b[0mself\u001b[0m\u001b[0;34m.\u001b[0m\u001b[0mcoeff\u001b[0m \u001b[0;34m*\u001b[0m \u001b[0mop\u001b[0m\u001b[0;34m)\u001b[0m\u001b[0;34m.\u001b[0m\u001b[0meval\u001b[0m\u001b[0;34m(\u001b[0m\u001b[0mfront\u001b[0m\u001b[0;34m)\u001b[0m \u001b[0;32mfor\u001b[0m \u001b[0mop\u001b[0m \u001b[0;32min\u001b[0m \u001b[0mself\u001b[0m\u001b[0;34m.\u001b[0m\u001b[0moplist\u001b[0m\u001b[0;34m]\u001b[0m  \u001b[0;31m# type: ignore\u001b[0m\u001b[0;34m\u001b[0m\u001b[0;34m\u001b[0m\u001b[0m\n\u001b[0m\u001b[1;32m    314\u001b[0m \u001b[0;34m\u001b[0m\u001b[0m\n\u001b[1;32m    315\u001b[0m         \u001b[0;31m# Handle application of combo_fn for {Dict,Vector}StateFns\u001b[0m\u001b[0;34m\u001b[0m\u001b[0;34m\u001b[0m\u001b[0;34m\u001b[0m\u001b[0m\n",
      "\u001b[0;32m~/Documents/GitHub/qiskit-aqua-grad/qiskit/aqua/operators/list_ops/list_op.py\u001b[0m in \u001b[0;36m<listcomp>\u001b[0;34m(.0)\u001b[0m\n\u001b[1;32m    311\u001b[0m             raise NotImplementedError(r'ListOp\\'s eval function is only defined for distributive '\n\u001b[1;32m    312\u001b[0m                                       r'Listops.')\n\u001b[0;32m--> 313\u001b[0;31m         \u001b[0mevals\u001b[0m \u001b[0;34m=\u001b[0m \u001b[0;34m[\u001b[0m\u001b[0;34m(\u001b[0m\u001b[0mself\u001b[0m\u001b[0;34m.\u001b[0m\u001b[0mcoeff\u001b[0m \u001b[0;34m*\u001b[0m \u001b[0mop\u001b[0m\u001b[0;34m)\u001b[0m\u001b[0;34m.\u001b[0m\u001b[0meval\u001b[0m\u001b[0;34m(\u001b[0m\u001b[0mfront\u001b[0m\u001b[0;34m)\u001b[0m \u001b[0;32mfor\u001b[0m \u001b[0mop\u001b[0m \u001b[0;32min\u001b[0m \u001b[0mself\u001b[0m\u001b[0;34m.\u001b[0m\u001b[0moplist\u001b[0m\u001b[0;34m]\u001b[0m  \u001b[0;31m# type: ignore\u001b[0m\u001b[0;34m\u001b[0m\u001b[0;34m\u001b[0m\u001b[0m\n\u001b[0m\u001b[1;32m    314\u001b[0m \u001b[0;34m\u001b[0m\u001b[0m\n\u001b[1;32m    315\u001b[0m         \u001b[0;31m# Handle application of combo_fn for {Dict,Vector}StateFns\u001b[0m\u001b[0;34m\u001b[0m\u001b[0;34m\u001b[0m\u001b[0;34m\u001b[0m\u001b[0m\n",
      "\u001b[0;32m~/Documents/GitHub/qiskit-aqua-grad/qiskit/aqua/operators/list_ops/list_op.py\u001b[0m in \u001b[0;36meval\u001b[0;34m(self, front)\u001b[0m\n\u001b[1;32m    311\u001b[0m             raise NotImplementedError(r'ListOp\\'s eval function is only defined for distributive '\n\u001b[1;32m    312\u001b[0m                                       r'Listops.')\n\u001b[0;32m--> 313\u001b[0;31m         \u001b[0mevals\u001b[0m \u001b[0;34m=\u001b[0m \u001b[0;34m[\u001b[0m\u001b[0;34m(\u001b[0m\u001b[0mself\u001b[0m\u001b[0;34m.\u001b[0m\u001b[0mcoeff\u001b[0m \u001b[0;34m*\u001b[0m \u001b[0mop\u001b[0m\u001b[0;34m)\u001b[0m\u001b[0;34m.\u001b[0m\u001b[0meval\u001b[0m\u001b[0;34m(\u001b[0m\u001b[0mfront\u001b[0m\u001b[0;34m)\u001b[0m \u001b[0;32mfor\u001b[0m \u001b[0mop\u001b[0m \u001b[0;32min\u001b[0m \u001b[0mself\u001b[0m\u001b[0;34m.\u001b[0m\u001b[0moplist\u001b[0m\u001b[0;34m]\u001b[0m  \u001b[0;31m# type: ignore\u001b[0m\u001b[0;34m\u001b[0m\u001b[0;34m\u001b[0m\u001b[0m\n\u001b[0m\u001b[1;32m    314\u001b[0m \u001b[0;34m\u001b[0m\u001b[0m\n\u001b[1;32m    315\u001b[0m         \u001b[0;31m# Handle application of combo_fn for {Dict,Vector}StateFns\u001b[0m\u001b[0;34m\u001b[0m\u001b[0;34m\u001b[0m\u001b[0;34m\u001b[0m\u001b[0m\n",
      "\u001b[0;32m~/Documents/GitHub/qiskit-aqua-grad/qiskit/aqua/operators/list_ops/list_op.py\u001b[0m in \u001b[0;36m<listcomp>\u001b[0;34m(.0)\u001b[0m\n\u001b[1;32m    311\u001b[0m             raise NotImplementedError(r'ListOp\\'s eval function is only defined for distributive '\n\u001b[1;32m    312\u001b[0m                                       r'Listops.')\n\u001b[0;32m--> 313\u001b[0;31m         \u001b[0mevals\u001b[0m \u001b[0;34m=\u001b[0m \u001b[0;34m[\u001b[0m\u001b[0;34m(\u001b[0m\u001b[0mself\u001b[0m\u001b[0;34m.\u001b[0m\u001b[0mcoeff\u001b[0m \u001b[0;34m*\u001b[0m \u001b[0mop\u001b[0m\u001b[0;34m)\u001b[0m\u001b[0;34m.\u001b[0m\u001b[0meval\u001b[0m\u001b[0;34m(\u001b[0m\u001b[0mfront\u001b[0m\u001b[0;34m)\u001b[0m \u001b[0;32mfor\u001b[0m \u001b[0mop\u001b[0m \u001b[0;32min\u001b[0m \u001b[0mself\u001b[0m\u001b[0;34m.\u001b[0m\u001b[0moplist\u001b[0m\u001b[0;34m]\u001b[0m  \u001b[0;31m# type: ignore\u001b[0m\u001b[0;34m\u001b[0m\u001b[0;34m\u001b[0m\u001b[0m\n\u001b[0m\u001b[1;32m    314\u001b[0m \u001b[0;34m\u001b[0m\u001b[0m\n\u001b[1;32m    315\u001b[0m         \u001b[0;31m# Handle application of combo_fn for {Dict,Vector}StateFns\u001b[0m\u001b[0;34m\u001b[0m\u001b[0;34m\u001b[0m\u001b[0;34m\u001b[0m\u001b[0m\n",
      "\u001b[0;32m~/Documents/GitHub/qiskit-aqua-grad/qiskit/aqua/operators/list_ops/composed_op.py\u001b[0m in \u001b[0;36meval\u001b[0;34m(self, front)\u001b[0m\n\u001b[1;32m    119\u001b[0m             \u001b[0meval_list\u001b[0m \u001b[0;34m=\u001b[0m \u001b[0;34m[\u001b[0m\u001b[0mStateFn\u001b[0m\u001b[0;34m(\u001b[0m\u001b[0mfront\u001b[0m\u001b[0;34m,\u001b[0m \u001b[0mis_measurement\u001b[0m\u001b[0;34m=\u001b[0m\u001b[0;32mTrue\u001b[0m\u001b[0;34m)\u001b[0m\u001b[0;34m]\u001b[0m \u001b[0;34m+\u001b[0m \u001b[0meval_list\u001b[0m  \u001b[0;31m# type: ignore\u001b[0m\u001b[0;34m\u001b[0m\u001b[0;34m\u001b[0m\u001b[0m\n\u001b[1;32m    120\u001b[0m \u001b[0;34m\u001b[0m\u001b[0m\n\u001b[0;32m--> 121\u001b[0;31m         \u001b[0;32mreturn\u001b[0m \u001b[0mreduce\u001b[0m\u001b[0;34m(\u001b[0m\u001b[0mtree_recursive_eval\u001b[0m\u001b[0;34m,\u001b[0m \u001b[0mreversed\u001b[0m\u001b[0;34m(\u001b[0m\u001b[0meval_list\u001b[0m\u001b[0;34m)\u001b[0m\u001b[0;34m)\u001b[0m\u001b[0;34m\u001b[0m\u001b[0;34m\u001b[0m\u001b[0m\n\u001b[0m\u001b[1;32m    122\u001b[0m \u001b[0;34m\u001b[0m\u001b[0m\n\u001b[1;32m    123\u001b[0m     \u001b[0;31m# Try collapsing list or trees of compositions into a single <Measurement | Op | State>.\u001b[0m\u001b[0;34m\u001b[0m\u001b[0;34m\u001b[0m\u001b[0;34m\u001b[0m\u001b[0m\n",
      "\u001b[0;32m~/Documents/GitHub/qiskit-aqua-grad/qiskit/aqua/operators/list_ops/composed_op.py\u001b[0m in \u001b[0;36mtree_recursive_eval\u001b[0;34m(r, l)\u001b[0m\n\u001b[1;32m    109\u001b[0m                 \u001b[0;32mreturn\u001b[0m \u001b[0;34m[\u001b[0m\u001b[0mtree_recursive_eval\u001b[0m\u001b[0;34m(\u001b[0m\u001b[0mr_op\u001b[0m\u001b[0;34m,\u001b[0m \u001b[0ml\u001b[0m\u001b[0;34m)\u001b[0m \u001b[0;32mfor\u001b[0m \u001b[0mr_op\u001b[0m \u001b[0;32min\u001b[0m \u001b[0mr\u001b[0m\u001b[0;34m]\u001b[0m\u001b[0;34m\u001b[0m\u001b[0;34m\u001b[0m\u001b[0m\n\u001b[1;32m    110\u001b[0m             \u001b[0;32melse\u001b[0m\u001b[0;34m:\u001b[0m\u001b[0;34m\u001b[0m\u001b[0;34m\u001b[0m\u001b[0m\n\u001b[0;32m--> 111\u001b[0;31m                 \u001b[0;32mreturn\u001b[0m \u001b[0ml\u001b[0m\u001b[0;34m.\u001b[0m\u001b[0meval\u001b[0m\u001b[0;34m(\u001b[0m\u001b[0mr\u001b[0m\u001b[0;34m)\u001b[0m\u001b[0;34m\u001b[0m\u001b[0;34m\u001b[0m\u001b[0m\n\u001b[0m\u001b[1;32m    112\u001b[0m \u001b[0;34m\u001b[0m\u001b[0m\n\u001b[1;32m    113\u001b[0m         \u001b[0meval_list\u001b[0m \u001b[0;34m=\u001b[0m \u001b[0mself\u001b[0m\u001b[0;34m.\u001b[0m\u001b[0moplist\u001b[0m\u001b[0;34m.\u001b[0m\u001b[0mcopy\u001b[0m\u001b[0;34m(\u001b[0m\u001b[0;34m)\u001b[0m\u001b[0;34m\u001b[0m\u001b[0;34m\u001b[0m\u001b[0m\n",
      "\u001b[0;32m~/Documents/GitHub/qiskit-aqua-grad/qiskit/aqua/operators/state_fns/operator_state_fn.py\u001b[0m in \u001b[0;36meval\u001b[0;34m(self, front)\u001b[0m\n\u001b[1;32m    207\u001b[0m                                    for front_elem in front.oplist])  # type: ignore\n\u001b[1;32m    208\u001b[0m \u001b[0;34m\u001b[0m\u001b[0m\n\u001b[0;32m--> 209\u001b[0;31m         \u001b[0;32mreturn\u001b[0m \u001b[0mfront\u001b[0m\u001b[0;34m.\u001b[0m\u001b[0madjoint\u001b[0m\u001b[0;34m(\u001b[0m\u001b[0;34m)\u001b[0m\u001b[0;34m.\u001b[0m\u001b[0meval\u001b[0m\u001b[0;34m(\u001b[0m\u001b[0mself\u001b[0m\u001b[0;34m.\u001b[0m\u001b[0mprimitive\u001b[0m\u001b[0;34m.\u001b[0m\u001b[0meval\u001b[0m\u001b[0;34m(\u001b[0m\u001b[0mfront\u001b[0m\u001b[0;34m)\u001b[0m\u001b[0;34m)\u001b[0m \u001b[0;34m*\u001b[0m \u001b[0mself\u001b[0m\u001b[0;34m.\u001b[0m\u001b[0mcoeff\u001b[0m  \u001b[0;31m# type: ignore\u001b[0m\u001b[0;34m\u001b[0m\u001b[0;34m\u001b[0m\u001b[0m\n\u001b[0m\u001b[1;32m    210\u001b[0m \u001b[0;34m\u001b[0m\u001b[0m\n\u001b[1;32m    211\u001b[0m     def sample(self,\n",
      "\u001b[0;31mTypeError\u001b[0m: unsupported operand type(s) for *: 'complex' and 'ParameterExpression'"
     ]
    }
   ],
   "source": [
    "from qiskit.aqua.operators import CircuitSampler\n",
    "from qiskit import Aer\n",
    "def fun(param_values):\n",
    "    param_dict = dict(zip(params, param_values))\n",
    "    param_dict = {k: [v] for k, v in param_dict.items()}\n",
    "    sampler = CircuitSampler(backend=Aer.get_backend('qasm_simulator')).convert(op, params=param_dict)\n",
    "    return sampler.eval()\n",
    "\n",
    "\n",
    "jac = Gradient(method = 'param_shift').gradient_wrapper(op, bind_params = params, backend=Aer.get_backend('qasm_simulator'))\n",
    "hess = Hessian(method = 'param_shift').gradient_wrapper(op, bind_params = params, backend=Aer.get_backend('qasm_simulator'))\n",
    "\n",
    "result = minimize(fun, np.random.rand(len(params)), method='Newton-CG', jac=jac, hess=hess, \n",
    "                  options={'maxiter': 10, 'xtol': 1e-8})\n",
    "\n",
    "print('VQE using the gradient and the Hessian:', result['fun'])\n",
    "\n",
    "result = minimize(fun, np.random.rand(len(params)), method='Newton-CG', jac=jac, options={'maxiter': 10, 'xtol': 1e-8})\n",
    "\n",
    "print('VQE using the gradient:', result['fun'])"
   ]
  },
  {
   "cell_type": "markdown",
   "metadata": {
    "slideshow": {
     "slide_type": "slide"
    }
   },
   "source": [
    "#### Gibbs state preparation using Variational Quantum Imaginary Time Evolution (VarQITE)"
   ]
  },
  {
   "cell_type": "code",
   "execution_count": 19,
   "metadata": {
    "slideshow": {
     "slide_type": "subslide"
    }
   },
   "outputs": [],
   "source": [
    "from qiskit.circuit.library import RealAmplitudes\n",
    "\n",
    "# Temperature\n",
    "T = 5\n",
    "\n",
    "# Evolution time\n",
    "t =  1/(2*T)\n",
    "\n",
    "# Define the model Hamiltonian\n",
    "H = SummedOp([0.3 * Z^Z^ I^I, 0.2 * Z^I^ I^I, - 0.5 * I ^ Z^ I^I])\n",
    "\n",
    "# Instantiate the model ansatz\n",
    "depth = 1\n",
    "entangler_map = [[i+1, i] for i in range(H.num_qubits - 1)]\n",
    "ansatz = EfficientSU2(4, reps=depth, entanglement = entangler_map)\n",
    "qr = ansatz.qregs[0]\n",
    "for i in range(int(len(qr)/2)):\n",
    "    ansatz.cx(qr[i], qr[i+int(len(qr)/2)])\n",
    "    \n",
    "# Initialize the Ansatz parameters\n",
    "param_values_init = np.zeros(2* H.num_qubits * (depth + 1))\n",
    "for j in range(2 * H.num_qubits * depth, int(len(param_values_init) - H.num_qubits - 2)):\n",
    "    param_values_init[int(j)] = np.pi/2."
   ]
  },
  {
   "cell_type": "code",
   "execution_count": 20,
   "metadata": {
    "slideshow": {
     "slide_type": "subslide"
    }
   },
   "outputs": [],
   "source": [
    "# Define the Hamiltonian as observable w.r.t. the wavefunction generated by the Ansatz    \n",
    "op = ~StateFn(H) @ CircuitStateFn(ansatz)\n",
    "\n",
    "# Define the discretization grid of the time steps\n",
    "num_time_steps = 10\n",
    "time_steps = np.linspace(0, t, num_time_steps)\n",
    "\n",
    "# Convert the operator that holds the Hamiltonian and ansatz into a NaturalGradient operator \n",
    "nat_grad = NaturalGradient(grad_method = 'lin_comb', regularization = 'ridge').convert(op, ansatz.ordered_parameters)\n",
    "\n",
    "param_values = param_values_init\n",
    "# Propagate the Ansatz parameters step by step according to the explicit Euler method\n",
    "for step in time_steps:\n",
    "    param_dict = dict(zip(ansatz.ordered_parameters, param_values))\n",
    "    nat_grad_result = np.real(nat_grad.assign_parameters(param_dict).eval())\n",
    "    param_values = list(np.subtract(param_values, t/num_time_steps * np.real(nat_grad_result)))\n",
    "\n",
    "param_dict_final = dict(zip(ansatz.ordered_parameters, param_values))"
   ]
  },
  {
   "cell_type": "code",
   "execution_count": 21,
   "metadata": {
    "slideshow": {
     "slide_type": "subslide"
    }
   },
   "outputs": [
    {
     "name": "stdout",
     "output_type": "stream",
     "text": [
      "[ 4.92868498e-01-2.61001663e-05j -1.62370068e-04-1.44421499e-05j\n",
      "  4.15139078e-03+7.81872493e-05j  3.16061558e-03+1.22911048e-04j\n",
      " -2.43681368e-04-1.39611042e-05j  4.52932096e-01+6.24231089e-03j\n",
      "  4.16299040e-03+1.07035747e-04j  3.15210261e-03+1.00883243e-04j\n",
      "  3.41253168e-03+1.13545538e-05j  3.14409875e-03+7.58834253e-05j\n",
      "  5.91397045e-01+9.08177619e-03j  5.94607883e-03+1.99581333e-04j\n",
      "  3.42133743e-03+3.52270766e-05j  3.13629899e-03+5.38329907e-05j\n",
      "  7.89773889e-03+1.61416301e-04j  4.49112028e-01+1.28116228e-02j]\n"
     ]
    }
   ],
   "source": [
    "print(CircuitStateFn(ansatz).assign_parameters(param_dict_final).eval().primitive.data)  "
   ]
  },
  {
   "cell_type": "code",
   "execution_count": 22,
   "metadata": {
    "slideshow": {
     "slide_type": "notes"
    }
   },
   "outputs": [
    {
     "data": {
      "text/plain": [
       "[-0.09564177243626364,\n",
       " -0.09353485735472458,\n",
       " 0.013672606137439283,\n",
       " 0.013891660369470694,\n",
       " 0.002906980252854886,\n",
       " 0.0034908675343405,\n",
       " 0.0034579839251094634,\n",
       " 0.003458019638009921,\n",
       " 1.47920223770568,\n",
       " 1.6661896560514293,\n",
       " 0.014281853263955466,\n",
       " 0.01405207464086822,\n",
       " 0.01375221342713279,\n",
       " 0.015101461806087934,\n",
       " 0.0034585748930048175,\n",
       " 0.003457901839173946]"
      ]
     },
     "execution_count": 22,
     "metadata": {},
     "output_type": "execute_result"
    }
   ],
   "source": [
    "param_values"
   ]
  },
  {
   "cell_type": "code",
   "execution_count": null,
   "metadata": {
    "slideshow": {
     "slide_type": "notes"
    }
   },
   "outputs": [],
   "source": []
  }
 ],
 "metadata": {
  "celltoolbar": "Slideshow",
  "kernelspec": {
   "display_name": "QiskitDevenv",
   "language": "python",
   "name": "qiskitdevenv"
  },
  "language_info": {
   "codemirror_mode": {
    "name": "ipython",
    "version": 3
   },
   "file_extension": ".py",
   "mimetype": "text/x-python",
   "name": "python",
   "nbconvert_exporter": "python",
   "pygments_lexer": "ipython3",
   "version": "3.7.3"
  }
 },
 "nbformat": 4,
 "nbformat_minor": 1
}
