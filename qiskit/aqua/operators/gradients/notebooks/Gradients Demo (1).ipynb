{
 "cells": [
  {
   "cell_type": "code",
   "execution_count": null,
   "metadata": {
    "slideshow": {
     "slide_type": "slide"
    }
   },
   "outputs": [],
   "source": [
    "import numpy as np\n",
    "import qiskit\n",
    "import os\n",
    "import sys\n",
    "import copy\n",
    "\n",
    "from qiskit import Aer, QuantumCircuit, QuantumRegister, ClassicalRegister\n",
    "\n",
    "import sympy as sym\n",
    "import jax.numpy as jnp\n",
    "from jax import grad, jit, vmap\n",
    "from functools import partial, reduce\n",
    "from typing import Optional, Callable, Union, List, Dict\n",
    "from collections.abc import Iterable\n",
    "from qiskit.aqua import QuantumInstance\n",
    "\n",
    "\n",
    "from qiskit.aqua.operators import (I,X,Y,Z, ListOp, PauliOp, Zero, DictStateFn, SummedOp, ComposedOp, TensoredOp,\n",
    "                                  OperatorBase, CircuitOp, CircuitStateFn, CircuitSampler,\n",
    "                                  StateFn, PrimitiveOp, PauliExpectation,  One, Zero, OperatorStateFn)\n",
    "from qiskit.circuit import ParameterVector, Parameter, ParameterExpression\n",
    "from qiskit.circuit.library import RealAmplitudes, EfficientSU2\n",
    "\n",
    "from qiskit.aqua.operators.gradients import GradientBase, Gradient, Hessian, QFI \n",
    "from qiskit.aqua.operators.gradients.gradient import GradientLinComb, GradientParamShift\n"
   ]
  },
  {
   "cell_type": "markdown",
   "metadata": {
    "slideshow": {
     "slide_type": "slide"
    }
   },
   "source": [
    "# Defining an expectation value in Opflow\n",
    "For more details regarding Opflow, see [this notebook made by it's creator](https://github.com/dongreenberg/aqua_talks/blob/master/Understanding%20Aqua's%20Operator%20Flow.ipynb)"
   ]
  },
  {
   "cell_type": "code",
   "execution_count": 18,
   "metadata": {
    "slideshow": {
     "slide_type": "slide"
    }
   },
   "outputs": [
    {
     "name": "stdout",
     "output_type": "stream",
     "text": [
      "Ansatz parameters  [Parameter(θ[0]), Parameter(θ[1]), Parameter(θ[2]), Parameter(θ[3]), Parameter(θ[4]), Parameter(θ[5])]\n"
     ]
    }
   ],
   "source": [
    "#Define an Ansatz circuit\n",
    "num_qubits = 3\n",
    "circ = RealAmplitudes(num_qubits, reps=1)\n",
    "\n",
    "#Wrap the Ansatz into a circuit operator object\n",
    "circ_op = CircuitOp(circ)\n",
    "\n",
    "#Print the Ansatz parameters\n",
    "print('Ansatz parameters ', circ.ordered_parameters)"
   ]
  },
  {
   "cell_type": "code",
   "execution_count": 19,
   "metadata": {
    "slideshow": {
     "slide_type": "slide"
    }
   },
   "outputs": [
    {
     "name": "stdout",
     "output_type": "stream",
     "text": [
      "     ┌──────────┐          ┌──────────┐            \n",
      "q_0: ┤ RY(θ[0]) ├──■────■──┤ RY(θ[3]) ├────────────\n",
      "     ├──────────┤┌─┴─┐  │  └──────────┘┌──────────┐\n",
      "q_1: ┤ RY(θ[1]) ├┤ X ├──┼───────■──────┤ RY(θ[4]) ├\n",
      "     ├──────────┤└───┘┌─┴─┐   ┌─┴─┐    ├──────────┤\n",
      "q_2: ┤ RY(θ[2]) ├─────┤ X ├───┤ X ├────┤ RY(θ[5]) ├\n",
      "     └──────────┘     └───┘   └───┘    └──────────┘\n"
     ]
    }
   ],
   "source": [
    "\n",
    "\n",
    "print(circ_op)"
   ]
  },
  {
   "cell_type": "code",
   "execution_count": 20,
   "metadata": {
    "slideshow": {
     "slide_type": "slide"
    }
   },
   "outputs": [
    {
     "name": "stdout",
     "output_type": "stream",
     "text": [
      "Cost function operator  ComposedOp([\n",
      "  OperatorMeasurement(SummedOp([\n",
      "    3.0 * IZZ,\n",
      "    4.0 * ZIX\n",
      "  ])),\n",
      "  CircuitStateFn(\n",
      "       ┌──────────┐          ┌──────────┐            \n",
      "  q_0: ┤ RY(θ[0]) ├──■────■──┤ RY(θ[3]) ├────────────\n",
      "       ├──────────┤┌─┴─┐  │  └──────────┘┌──────────┐\n",
      "  q_1: ┤ RY(θ[1]) ├┤ X ├──┼───────■──────┤ RY(θ[4]) ├\n",
      "       ├──────────┤└───┘┌─┴─┐   ┌─┴─┐    ├──────────┤\n",
      "  q_2: ┤ RY(θ[2]) ├─────┤ X ├───┤ X ├────┤ RY(θ[5]) ├\n",
      "       └──────────┘     └───┘   └───┘    └──────────┘\n",
      "  )\n",
      "])\n"
     ]
    }
   ],
   "source": [
    "#Define the Hamiltonian\n",
    "H = 3*(I^Z^Z) + (4*(Z^I^X))\n",
    "\n",
    "#Convert the Hamiltonian into an observable\n",
    "H_op = ~StateFn(H)\n",
    "\n",
    "#Combine the operator objects into the cost function object\n",
    "E_op = H_op @ circ_op @ Zero\n",
    "print('Cost function operator ', E_op)"
   ]
  },
  {
   "cell_type": "code",
   "execution_count": 36,
   "metadata": {
    "slideshow": {
     "slide_type": "slide"
    }
   },
   "outputs": [
    {
     "name": "stdout",
     "output_type": "stream",
     "text": [
      "Parameter shift [ 0.132+0.j -2.321-0.j -0.908+0.j  2.431+0.j -2.08 -0.j -1.042+0.j]\n"
     ]
    }
   ],
   "source": [
    "#Initialize random parameters for the Ansatz\n",
    "param_values = dict(zip(circ.ordered_parameters, \n",
    "                        np.random.rand(len(circ.ordered_parameters))))\n",
    "\n",
    "#Convert into a gradient operator using either the parameter shift...\n",
    "E_grad_op = Gradient(method='param_shift').convert(E_op, circ.ordered_parameters)\n",
    "\n",
    "#Evaluate the cost function's gradients\n",
    "E_grad = E_grad_op.assign_parameters(param_values).eval()\n",
    "print('Parameter shift', np.around(E_grad, 3))"
   ]
  },
  {
   "cell_type": "code",
   "execution_count": 39,
   "metadata": {
    "slideshow": {
     "slide_type": "slide"
    }
   },
   "outputs": [
    {
     "name": "stdout",
     "output_type": "stream",
     "text": [
      "Linear combination [ 0.132+0.j -2.321-0.j -0.908+0.j  2.431+0.j -2.08 -0.j -1.042+0.j]\n"
     ]
    }
   ],
   "source": [
    "#... or the linear combination method, ...\n",
    "E_grad_op = Gradient(method='lin_comb').convert(E_op, circ.ordered_parameters)\n",
    "\n",
    "#Evaluate the cost function's gradients\n",
    "E_grad = E_grad_op.assign_parameters(param_values).eval()\n",
    "print('Linear combination', np.around(E_grad, 3))"
   ]
  },
  {
   "cell_type": "code",
   "execution_count": 40,
   "metadata": {
    "slideshow": {
     "slide_type": "slide"
    }
   },
   "outputs": [
    {
     "name": "stdout",
     "output_type": "stream",
     "text": [
      "Finite difference  [ 0.126+0.j -2.225-0.j -0.871+0.j  2.331+0.j -1.994-0.j -0.999+0.j]\n"
     ]
    }
   ],
   "source": [
    "#... or a numerical finite-difference method.\n",
    "E_grad_op = Gradient(method='fin_diff').convert(E_op, circ.ordered_parameters)\n",
    "\n",
    "#Evaluate the cost function's gradients\n",
    "E_grad = E_grad_op.assign_parameters(param_values).eval()\n",
    "print('Finite difference ', np.around(E_grad, 3))"
   ]
  },
  {
   "cell_type": "code",
   "execution_count": 24,
   "metadata": {
    "slideshow": {
     "slide_type": "slide"
    }
   },
   "outputs": [
    {
     "name": "stdout",
     "output_type": "stream",
     "text": [
      "{'optimal_parameters': {Parameter(θ[0]): -1.2138300918228029, Parameter(θ[1]): -1.2690875327484805, Parameter(θ[2]): 2.0482032986552436, Parameter(θ[3]): 1.3430215798371643, Parameter(θ[4]): 2.482642991231282, Parameter(θ[5]): -0.6267399205912261}, 'optimal_point': [-1.2138300918228029, -1.2690875327484805, 2.0482032986552436, 1.3430215798371643, 2.482642991231282, -0.6267399205912261], 'optimal_value': -0.6801716312180073, 'optimizer_evals': 1, 'optimizer_time': 0.013243913650512695, 'eigenvalue': (-0.6801716312180073+0j), 'eigenstate': array([2.06782192e-01+0.j, 7.21008762e-01+0.j, 1.27816408e-01+0.j,\n",
      "       3.55278061e-01+0.j, 5.73767133e-04+0.j, 3.94930831e-01+0.j,\n",
      "       3.05473596e-01+0.j, 2.13408402e-01+0.j]), 'cost_function_evals': 1}\n"
     ]
    }
   ],
   "source": [
    "\n",
    "from qiskit.aqua import QuantumInstance\n",
    "from qiskit.aqua.algorithms import VQE\n",
    "from qiskit.aqua.components.optimizers import CG\n",
    "\n",
    "qi_sv = QuantumInstance(Aer.get_backend('statevector_simulator'),\n",
    "                                             shots=1,\n",
    "                                             seed_simulator=2,\n",
    "                                             seed_transpiler=2)\n",
    "\n",
    "wavefunction = circ\n",
    "#Conjugate Gradient algorithm\n",
    "optimizer = CG(maxiter=50)\n",
    "\n",
    "E_grad_fn = Gradient().gradient_wrapper(E_op, circ.ordered_parameters, method='lin_comb', backend = qi_sv)\n",
    "\n",
    "# Gradient callable\n",
    "vqe = VQE(H, wavefunction, optimizer=optimizer, gradient_fn = E_grad_fn)\n",
    "# vqe = VQE(H, wavefunction, optimizer=optimizer)\n",
    "result = vqe.run(qi_sv)\n",
    "print(result)"
   ]
  },
  {
   "cell_type": "code",
   "execution_count": 25,
   "metadata": {},
   "outputs": [],
   "source": [
    "from qiskit.aqua import QuantumInstance\n",
    "from qiskit.aqua.algorithms import VQE\n",
    "from qiskit.aqua.components.optimizers import CG\n",
    "\n",
    "#Backend\n",
    "qi_sv = QuantumInstance(Aer.get_backend('statevector_simulator'), shots=1, seed_simulator=2, seed_transpiler=2)\n",
    "\n"
   ]
  },
  {
   "cell_type": "code",
   "execution_count": 42,
   "metadata": {
    "slideshow": {
     "slide_type": "slide"
    }
   },
   "outputs": [],
   "source": [
    "#Conjugate Gradient\n",
    "optimizer = CG(maxiter=50)\n",
    "\n",
    "#Gradient\n",
    "grad = Gradient(method='param_shift')\n",
    "\n",
    "#VQE\n",
    "vqe_grad = VQE(circ, optimizer=optimizer, gradient=grad, quantum_instance=qi_sv)"
   ]
  },
  {
   "cell_type": "code",
   "execution_count": 50,
   "metadata": {
    "slideshow": {
     "slide_type": "slide"
    }
   },
   "outputs": [
    {
     "name": "stdout",
     "output_type": "stream",
     "text": [
      "Evaluated parameters: {Parameter(θ[0]): 2.548092176237614, Parameter(θ[1]): 0.7781613330485069, Parameter(θ[2]): -1.5707944090106967, Parameter(θ[3]): 0.6173396989642901, Parameter(θ[4]): -3.3956030681023326, Parameter(θ[5]): 1.5707954702259457}\n",
      "\n",
      "Evaluated ground state energy: -4.999999999995852\n"
     ]
    }
   ],
   "source": [
    "#Results\n",
    "result_grad = vqe_grad.compute_minimum_eigenvalue(H)\n",
    "print('Evaluated parameters:', result_grad['optimal_parameters'])\n",
    "print('\\nEvaluated ground state energy:', result_grad['optimal_value'])"
   ]
  },
  {
   "cell_type": "code",
   "execution_count": 28,
   "metadata": {
    "slideshow": {
     "slide_type": "slide"
    }
   },
   "outputs": [
    {
     "ename": "NameError",
     "evalue": "name 'θ' is not defined",
     "traceback": [
      "\u001b[0;31m---------------------------------------------------------------------------\u001b[0m",
      "\u001b[0;31mNameError\u001b[0m                                 Traceback (most recent call last)",
      "\u001b[0;32m<ipython-input-28-48343bf0f107>\u001b[0m in \u001b[0;36m<module>\u001b[0;34m\u001b[0m\n\u001b[0;32m----> 1\u001b[0;31m {'optimal_parameters': {Parameter(θ[0]): 4.161104709858437, Parameter(θ[1]): -3.9794435770040395, Parameter(θ[2]): -7.853980686234145, Parameter(θ[3]): -6.744118187995095, Parameter(θ[4]): 6.2327671120955594, Parameter(θ[5]): 4.712388685956566}, 'optimal_point': [4.161104709858437, -3.9794435770040395, -7.853980686234145, -6.744118187995095, 6.2327671120955594, 4.712388685956566], 'optimal_value': -4.9999999999976925, 'optimizer_evals': 42, 'optimizer_time': 14.205756902694702, 'eigenvalue': (-4.9999999999976925+0j), 'eigenstate': array([-4.38620963e-08+0.j, -5.01242223e-07+0.j,  2.44228445e-07+0.j,\n\u001b[0m\u001b[1;32m      2\u001b[0m        \u001b[0;34m-\u001b[0m\u001b[0;36m1.63577740e-07\u001b[0m\u001b[0;34m+\u001b[0m\u001b[0;36m0.j\u001b[0m\u001b[0;34m,\u001b[0m \u001b[0;34m-\u001b[0m\u001b[0;36m3.62290401e-01\u001b[0m\u001b[0;34m+\u001b[0m\u001b[0;36m0.j\u001b[0m\u001b[0;34m,\u001b[0m \u001b[0;34m-\u001b[0m\u001b[0;36m7.24580197e-01\u001b[0m\u001b[0;34m+\u001b[0m\u001b[0;36m0.j\u001b[0m\u001b[0;34m,\u001b[0m\u001b[0;34m\u001b[0m\u001b[0;34m\u001b[0m\u001b[0m\n\u001b[1;32m      3\u001b[0m         5.24388429e-01+0.j,  2.62194544e-01+0.j]), 'cost_function_evals': 42}\n",
      "\u001b[0;31mNameError\u001b[0m: name 'θ' is not defined"
     ],
     "output_type": "error"
    }
   ],
   "source": [
    "# {'optimal_parameters': {Parameter(θ[0]): 4.161104709858437, Parameter(θ[1]): -3.9794435770040395, Parameter(θ[2]): -7.853980686234145, Parameter(θ[3]): -6.744118187995095, Parameter(θ[4]): 6.2327671120955594, Parameter(θ[5]): 4.712388685956566}, 'optimal_point': [4.161104709858437, -3.9794435770040395, -7.853980686234145, -6.744118187995095, 6.2327671120955594, 4.712388685956566], 'optimal_value': -4.9999999999976925, 'optimizer_evals': 42, 'optimizer_time': 14.205756902694702, 'eigenvalue': (-4.9999999999976925+0j), 'eigenstate': array([-4.38620963e-08+0.j, -5.01242223e-07+0.j,  2.44228445e-07+0.j,\n",
    "#        -1.63577740e-07+0.j, -3.62290401e-01+0.j, -7.24580197e-01+0.j,\n",
    "#         5.24388429e-01+0.j,  2.62194544e-01+0.j]), 'cost_function_evals': 42}"
   ]
  },
  {
   "cell_type": "code",
   "execution_count": null,
   "metadata": {
    "slideshow": {
     "slide_type": "slide"
    }
   },
   "outputs": [],
   "source": [
    "#Define a circuit that prepares our state\n",
    "circ = RealAmplitudes(3, reps=1)\n",
    "#Wrap the Ansatz into a circuit operator object\n",
    "circ_op = CircuitOp(circ)\n",
    "\n",
    "\n",
    "p = Parameter('p0')\n",
    "\n",
    "#Define the observables we wish to measure\n",
    "meas_bases = 3*(I^Z^Z) + (4*(Z^I^X))\n",
    "meas_op = ~StateFn(meas_bases)\n",
    "\n",
    "#Compose these opflow objects\n",
    "expec_op = meas_op @ circ_op @ Zero\n",
    "print(expec_op)"
   ]
  },
  {
   "cell_type": "markdown",
   "metadata": {},
   "source": [
    "# Massage this operator into a form that we know how to evaluate"
   ]
  },
  {
   "cell_type": "code",
   "execution_count": null,
   "metadata": {},
   "outputs": [],
   "source": [
    "converted_op = PauliExpectation().convert(expec_op)\n",
    "print(converted_op)\n",
    "\n",
    "params = circ.ordered_parameters\n",
    "param_bindings = {param: 1 for param in params}\n",
    "#print(param_bindings)\n",
    "\n",
    "\n",
    "bound_op = expec_op.bind_parameters(param_bindings)\n",
    "#print(bound_op)\n",
    "#print(\"\\nexpectation value = \",np.real(bound_op.eval()))"
   ]
  },
  {
   "cell_type": "markdown",
   "metadata": {},
   "source": [
    "# Taking the gradient of this expectation value"
   ]
  },
  {
   "cell_type": "code",
   "execution_count": null,
   "metadata": {
    "scrolled": false
   },
   "outputs": [],
   "source": [
    "grad_op = Gradient().convert(expec_op, params, method='param_shift')\n",
    "print(grad_op[0])\n",
    "\n",
    "bound_grad_op = grad_op.bind_parameters(param_bindings)\n",
    "#print(bound_grad_op)\n",
    "gradients = np.real(bound_grad_op.eval())\n",
    "print(\"Gradients = \\n\", gradients)"
   ]
  },
  {
   "cell_type": "markdown",
   "metadata": {},
   "source": [
    "# How to extend this to Natural Gradients\n",
    "\n",
    "Note: In practice we will need to do some more sophisticated processing in order to ensure this matrix inversion is well-behaved."
   ]
  },
  {
   "cell_type": "code",
   "execution_count": null,
   "metadata": {},
   "outputs": [],
   "source": [
    "#Get the operator which will evaluate to the Quantum Fisher Information Metrix tensor\n",
    "# or an approximation of it\n",
    "qfi_op = QFI().convert(circ_op@Zero, params, approx=None)\n",
    "#print(qfi_op)\n",
    "qfi = np.real(qfi_op.bind_parameters(param_bindings).eval())\n",
    "print(qfi)"
   ]
  },
  {
   "cell_type": "code",
   "execution_count": null,
   "metadata": {},
   "outputs": [],
   "source": [
    "# Multiply the gradients by the inverse of the QFI\n",
    "qfi_inv = np.linalg.inv(qfi)\n",
    "nat_grad = np.matmul(qfi_inv, gradients)\n",
    "print(nat_grad)"
   ]
  },
  {
   "cell_type": "code",
   "execution_count": null,
   "metadata": {},
   "outputs": [],
   "source": [
    "# Multiply the gradients by the inverse of the QFI\n",
    "qfi_inv = np.linalg.inv(qfi)\n",
    "nat_grad = np.matmul(qfi_inv, gradients)\n",
    "print(nat_grad)"
   ]
  },
  {
   "cell_type": "markdown",
   "metadata": {},
   "source": [
    "# Everything below here is scratch work"
   ]
  },
  {
   "cell_type": "code",
   "execution_count": null,
   "metadata": {},
   "outputs": [],
   "source": [
    "a = Parameter('a')\n",
    "b = Parameter('b')\n",
    "q = QuantumRegister(1)\n",
    "qc = QuantumCircuit(q)\n",
    "qc.h(q)\n",
    "qc.rz(a, q[0])\n",
    "qc.rx(b, q[0])\n",
    "\n",
    "coeff_0 = Parameter('c_0')\n",
    "coeff_1 = Parameter('c_1')\n",
    "H = coeff_0*coeff_0 * X + coeff_1*coeff_0 * Z\n",
    "op = ~StateFn(H) @ CircuitStateFn(primitive=qc, coeff=1.)\n",
    "gradient_coeffs = [(coeff_0, coeff_0), (coeff_0, coeff_1), (coeff_1, coeff_1)]\n",
    "coeff_grad = Hessian().convert(op, gradient_coeffs)\n",
    "values_dict = [{coeff_0: 0.5, coeff_1: -1, a: np.pi / 4, b: np.pi},\n",
    "               {coeff_0: 0.5, coeff_1: -1, a: np.pi / 4, b: np.pi / 4}]\n",
    "\n",
    "correct_values = [[2*np.sqrt(2), 0, 0], [2 * np.sqrt(2), 2, 0]]\n",
    "\n",
    "for i, value_dict in enumerate(values_dict):\n",
    "    np.testing.assert_array_almost_equal(coeff_grad.assign_parameters(value_dict).eval(), correct_values[i],\n",
    "                                         decimal=4)"
   ]
  },
  {
   "cell_type": "code",
   "execution_count": null,
   "metadata": {},
   "outputs": [],
   "source": [
    "H = 0.5 * X - 1 * Z\n",
    "a = Parameter('a')\n",
    "b = Parameter('b')\n",
    "params = [(a, a), (a, b), (b, b)]\n",
    "\n",
    "q = QuantumRegister(1)\n",
    "qc = QuantumCircuit(q)\n",
    "qc.h(q)\n",
    "qc.rz(a, q[0])\n",
    "qc.rx(b, q[0])\n",
    "\n",
    "op = ~StateFn(H) @ CircuitStateFn(primitive=qc, coeff=1.)\n",
    "state_hess = Hessian().convert(operator=op, params=params, method='param_shift')\n",
    "# state_hess = HessianLinComb().convert(operator=op, params=params)\n",
    "values_dict = [{a: np.pi / 4, b: np.pi}, {a: np.pi / 4, b: np.pi / 4},\n",
    "               {a: np.pi / 2, b: np.pi / 4}]\n",
    "correct_values = [[-0.5 / np.sqrt(2), 1 / np.sqrt(2), 0],\n",
    "                  [-0.5 / np.sqrt(2) + 0.5, -1 / 2., 0.5],\n",
    "                  [1 / np.sqrt(2), 0, 1 / np.sqrt(2)]]\n",
    "\n",
    "for i, value_dict in enumerate(values_dict):\n",
    "    np.testing.assert_array_almost_equal(state_hess.assign_parameters(value_dict).eval(), correct_values[i])"
   ]
  },
  {
   "cell_type": "code",
   "execution_count": null,
   "metadata": {},
   "outputs": [],
   "source": [
    "-0.5 / np.sqrt(2)"
   ]
  },
  {
   "cell_type": "code",
   "execution_count": null,
   "metadata": {},
   "outputs": [],
   "source": [
    "a = Parameter('a')\n",
    "b = Parameter('b')\n",
    "q = QuantumRegister(1)\n",
    "qc = QuantumCircuit(q)\n",
    "qc.h(q)\n",
    "qc.rz(a, q[0])\n",
    "qc.rx(b, q[0])\n",
    "\n",
    "c0 = Parameter('c_0')\n",
    "c1 = Parameter('c_1')\n",
    "H = c0*c0 * X + c1*c0 * Z\n",
    "coeffs = [(c0, c0), (c0, c1), (c1, c1)]\n",
    "op = ~StateFn(H) @ CircuitStateFn(primitive=qc, coeff=1.)\n",
    "g = Hessian().convert(op, coeffs)\n",
    "print('original_op\\n----------\\n', op)\n",
    "print('\\ngrad_op\\n----------\\n', g)"
   ]
  },
  {
   "cell_type": "markdown",
   "metadata": {},
   "source": [
    "# You can see that the gradient code works here. "
   ]
  },
  {
   "cell_type": "code",
   "execution_count": null,
   "metadata": {},
   "outputs": [],
   "source": [
    "value_dict = {c0: 0.5, c1: -1, a: np.pi / 4, b: np.pi/4}\n",
    "g_bound = g.assign_parameters(value_dict)"
   ]
  },
  {
   "cell_type": "code",
   "execution_count": null,
   "metadata": {},
   "outputs": [],
   "source": [
    "print(g_bound)\n",
    "g_bound.eval()"
   ]
  },
  {
   "cell_type": "code",
   "execution_count": null,
   "metadata": {},
   "outputs": [],
   "source": [
    "cs = CircuitSampler(backend=Aer.get_backend('statevector_simulator'))"
   ]
  },
  {
   "cell_type": "code",
   "execution_count": null,
   "metadata": {},
   "outputs": [],
   "source": [
    "sampled_g = cs.convert(g_bound)"
   ]
  },
  {
   "cell_type": "code",
   "execution_count": null,
   "metadata": {},
   "outputs": [],
   "source": [
    "print(sampled_g)"
   ]
  },
  {
   "cell_type": "code",
   "execution_count": null,
   "metadata": {},
   "outputs": [],
   "source": [
    "print(coeff_grad)"
   ]
  },
  {
   "cell_type": "code",
   "execution_count": null,
   "metadata": {},
   "outputs": [],
   "source": [
    "print(g.reduce())"
   ]
  },
  {
   "cell_type": "code",
   "execution_count": null,
   "metadata": {},
   "outputs": [],
   "source": [
    "print(op)\n",
    "print('----')\n",
    "print(d_g)\n",
    "print('----')\n",
    "print(dd_g)"
   ]
  },
  {
   "cell_type": "code",
   "execution_count": null,
   "metadata": {},
   "outputs": [],
   "source": [
    "value_dict = {coeff_0: 0.5, coeff_1: -1, a: np.pi / 4, b: np.pi / 4}\n",
    "correct_values = [2 * np.sqrt(2), 2, 0]\n",
    "\n",
    "\n",
    "np.testing.assert_array_almost_equal(g.assign_parameters(value_dict).eval(), correct_values,\n",
    "                                     decimal=4)"
   ]
  },
  {
   "cell_type": "code",
   "execution_count": null,
   "metadata": {},
   "outputs": [],
   "source": [
    "value_dict = values_dict[0]\n",
    "correct_values[0]"
   ]
  },
  {
   "cell_type": "code",
   "execution_count": null,
   "metadata": {},
   "outputs": [],
   "source": [
    "co = PauliExpectation().convert(op)\n",
    "print(co[0])"
   ]
  },
  {
   "cell_type": "code",
   "execution_count": null,
   "metadata": {},
   "outputs": [],
   "source": [
    "sg = Gradient().convert(operator=co[0], params=params[0], method=method)\n"
   ]
  },
  {
   "cell_type": "code",
   "execution_count": null,
   "metadata": {},
   "outputs": [],
   "source": [
    "print(sg)"
   ]
  },
  {
   "cell_type": "code",
   "execution_count": null,
   "metadata": {},
   "outputs": [],
   "source": [
    "op0 = (sg[0].bind_parameters(value_dict).eval())\n",
    "op1 = (sg[1].bind_parameters(value_dict).eval())"
   ]
  },
  {
   "cell_type": "code",
   "execution_count": null,
   "metadata": {},
   "outputs": [],
   "source": [
    "lo = ListOp(oplist=[op0, op1], combo_fn = sg.combo_fn)"
   ]
  },
  {
   "cell_type": "code",
   "execution_count": null,
   "metadata": {},
   "outputs": [],
   "source": [
    "sg.combo_fn([op0, op1])"
   ]
  },
  {
   "cell_type": "code",
   "execution_count": null,
   "metadata": {},
   "outputs": [],
   "source": [
    "print(co[0])"
   ]
  },
  {
   "cell_type": "code",
   "execution_count": null,
   "metadata": {},
   "outputs": [],
   "source": [
    "break"
   ]
  },
  {
   "cell_type": "code",
   "execution_count": null,
   "metadata": {},
   "outputs": [],
   "source": [
    "go = sg.bind_parameters(value_dict)\n",
    "\n",
    "print(go.eval())"
   ]
  },
  {
   "cell_type": "code",
   "execution_count": null,
   "metadata": {
    "scrolled": false
   },
   "outputs": [],
   "source": [
    "#Define a circuit that prepares our state\n",
    "circ = RealAmplitudes(3, reps=1)\n",
    "circ_op = CircuitOp(circ)\n",
    "#print(circ_op)\n",
    "params = circ.ordered_parameters\n",
    "\n",
    "p = Parameter('p0')\n",
    "\n",
    "#Define the observables we wish to measure\n",
    "meas_bases = 2*p*(I^Z^Z) + (p*p + 5*p)*(Z^I^Z)\n",
    "meas_op = ~StateFn(meas_bases)\n",
    "\n",
    "#Compose these opflow objects\n",
    "expec_op = meas_op @ circ_op @ Zero\n",
    "prob_op = circ_op @ Zero\n",
    "\n",
    "#grad_op = expec_op.autograd(p, 'param_shift')\n",
    "grad_op = expec_op.autograd((params[0],params[1]), 'param_shift')\n",
    "\n",
    "#grad_op = expec_op.autograd(p, 'param_shift')\n",
    "#old_grad = Gradient().convert(expec_op, params[0], 'param_shift')"
   ]
  },
  {
   "cell_type": "code",
   "execution_count": null,
   "metadata": {},
   "outputs": [],
   "source": [
    "print(expec_op)"
   ]
  },
  {
   "cell_type": "code",
   "execution_count": null,
   "metadata": {},
   "outputs": [],
   "source": [
    "print(expec_op.autograd(params[0], 'fin_diff').reduce())"
   ]
  },
  {
   "cell_type": "code",
   "execution_count": null,
   "metadata": {},
   "outputs": [],
   "source": [
    "print(prob_op.autograd(params[0], 'fin_diff'))"
   ]
  },
  {
   "cell_type": "markdown",
   "metadata": {},
   "source": [
    "# LinComb Sketch"
   ]
  },
  {
   "cell_type": "code",
   "execution_count": null,
   "metadata": {},
   "outputs": [],
   "source": [
    "eo = PauliExpectation(group_paulis=False).convert(expec_op)\n",
    "print(eo)"
   ]
  },
  {
   "cell_type": "code",
   "execution_count": null,
   "metadata": {},
   "outputs": [],
   "source": [
    "grad_op = GradientLinComb().convert(eo, params[0])"
   ]
  },
  {
   "cell_type": "code",
   "execution_count": null,
   "metadata": {},
   "outputs": [],
   "source": [
    "grad_op = GradientLinComb().convert(eo, params[0])"
   ]
  },
  {
   "cell_type": "code",
   "execution_count": null,
   "metadata": {},
   "outputs": [],
   "source": [
    "grad_op = GradientLinComb().convert(expec_op, params[0])"
   ]
  },
  {
   "cell_type": "code",
   "execution_count": null,
   "metadata": {},
   "outputs": [],
   "source": [
    "print(grad_op)"
   ]
  },
  {
   "cell_type": "code",
   "execution_count": null,
   "metadata": {},
   "outputs": [],
   "source": [
    "grad_op = prob_op.autograd(params[0], 'lin_comb')\n",
    "print(grad_op)"
   ]
  },
  {
   "cell_type": "code",
   "execution_count": null,
   "metadata": {},
   "outputs": [],
   "source": [
    "print(grad_op)\n",
    "#print(old_grad)"
   ]
  },
  {
   "cell_type": "code",
   "execution_count": null,
   "metadata": {},
   "outputs": [],
   "source": []
  },
  {
   "cell_type": "code",
   "execution_count": null,
   "metadata": {},
   "outputs": [],
   "source": []
  }
 ],
 "metadata": {
  "celltoolbar": "Slideshow",
  "kernelspec": {
   "display_name": "QiskitDevenv",
   "language": "python",
   "name": "qiskitdevenv"
  },
  "language_info": {
   "codemirror_mode": {
    "name": "ipython",
    "version": 3
   },
   "file_extension": ".py",
   "mimetype": "text/x-python",
   "name": "python",
   "nbconvert_exporter": "python",
   "pygments_lexer": "ipython3",
   "version": "3.7.3"
  }
 },
 "nbformat": 4,
 "nbformat_minor": 4
}
