{
 "cells": [
  {
   "cell_type": "markdown",
   "metadata": {
    "collapsed": true
   },
   "source": [
    "## Qiskit Aqua Gradient Framework"
   ]
  },
  {
   "cell_type": "code",
   "execution_count": null,
   "metadata": {},
   "outputs": [],
   "source": [
    "import numpy as np\n",
    "from qiskit.aqua.operators import X, I \n",
    "from qiskit.aqua.operators.gradients import Gradient, NaturalGradient, QFI, Hessian"
   ]
  },
  {
   "cell_type": "markdown",
   "metadata": {},
   "source": [
    "### First Order Gradients"
   ]
  },
  {
   "cell_type": "code",
   "execution_count": null,
   "metadata": {},
   "outputs": [],
   "source": [
    "a = Parameter('a')\n",
    "b = Parameter('b')\n",
    "q = QuantumRegister(1)\n",
    "qc = QuantumCircuit(q)\n",
    "qc.h(q)\n",
    "qc.rz(a, q[0])\n",
    "qc.rx(b, q[0])"
   ]
  },
  {
   "cell_type": "markdown",
   "metadata": {},
   "source": [
    "#### Gradients w.r.t. Measurement Operator Coefficients\n",
    "\n",
    "Given a parameterized quantum state `|ψ(θ)〉 = V(θ)|ψ〉` with input state `|ψ〉` and parametrized Ansatz `V(θ)`, and an Operator `O(ω)` we want to compute \n",
    "```math\n",
    "d⟨ψ(θ)|O(ω)|ψ(θ)〉/ dω.\n",
    "```"
   ]
  },
  {
   "cell_type": "code",
   "execution_count": null,
   "metadata": {},
   "outputs": [],
   "source": [
    "# Instantiate the Hamiltonian observable\n",
    "coeff_0 = Parameter('c_0')\n",
    "coeff_1 = Parameter('c_1')\n",
    "H = coeff_0 * X + coeff_1 * Z\n",
    "# Combine the Hamiltonian observable and the state\n",
    "op = ~StateFn(H) @ CircuitStateFn(primitive=qc, coeff=1.)\n",
    "# Define the coefficients w.r.t. we want to compute the gradient\n",
    "gradient_coeffs = [coeff_0, coeff_1]\n",
    "# Convert the operator and the gradient target coefficients into the respective operator\n",
    "grad = Gradient.convert(op, gradient_coeffs)\n",
    "# Define the values to be assigned to the parameters\n",
    "value_dict = {coeff_0: 0.5, coeff_1: -1, a: np.pi / 4, b: np.pi}\n",
    "# Assign the parameters and evaluate the gradient\n",
    "grad_result = grad.assign_parameters(value_dict).eval()\n",
    "print('Gradient ', grad_result)"
   ]
  },
  {
   "cell_type": "markdown",
   "metadata": {},
   "source": [
    "#### Gradients w.r.t. Measurement Quantum State Parameters\n",
    "\n",
    "Given a parameterized quantum state `|ψ(θ)〉 = V(θ)|ψ〉` with input state `|ψ〉` and parametrized Ansatz `V(θ)`, and an Operator `O(ω)` we want to compute \n",
    "``` math\n",
    "d⟨ψ(θ)|O(ω)|ψ(θ)〉/ dθ,\n",
    "```\n",
    "respectively, the gradient w.r.t. the probabilities of observing an output state `|i〉`\n",
    "``` math\n",
    "dp(|i〉) = d⟨ψ(θ)|i〉⟨i|ψ(θ)〉/ dθ = d|⟨i|ψ(θ)〉|^2 / dθ \n",
    "```\n",
    "Here, the operators are set to `O_i = |i〉⟨i|`.\n",
    "To simplify this computation, we measure the state `|ψ(θ)〉` and evaluate the gradients for the observed states `|i〉` (the rest is set to 0) instead of evaluating all `2^n` possible projectors. "
   ]
  },
  {
   "cell_type": "code",
   "execution_count": 16,
   "metadata": {},
   "outputs": [
    {
     "ename": "NameError",
     "evalue": "name 'X' is not defined",
     "output_type": "error",
     "traceback": [
      "\u001b[0;31m---------------------------------------------------------------------------\u001b[0m",
      "\u001b[0;31mNameError\u001b[0m                                 Traceback (most recent call last)",
      "\u001b[0;32m<ipython-input-16-c39322bdd20c>\u001b[0m in \u001b[0;36m<module>\u001b[0;34m\u001b[0m\n\u001b[1;32m      1\u001b[0m \u001b[0;31m# Define the Hamiltonian with fixed coefficients\u001b[0m\u001b[0;34m\u001b[0m\u001b[0;34m\u001b[0m\u001b[0;34m\u001b[0m\u001b[0m\n\u001b[0;32m----> 2\u001b[0;31m \u001b[0mH\u001b[0m \u001b[0;34m=\u001b[0m \u001b[0;36m0.5\u001b[0m \u001b[0;34m*\u001b[0m \u001b[0mX\u001b[0m \u001b[0;34m-\u001b[0m \u001b[0;36m1\u001b[0m \u001b[0;34m*\u001b[0m \u001b[0mZ\u001b[0m\u001b[0;34m\u001b[0m\u001b[0;34m\u001b[0m\u001b[0m\n\u001b[0m\u001b[1;32m      3\u001b[0m \u001b[0;31m# Define the parameters w.r.t. we want to compute the gradients\u001b[0m\u001b[0;34m\u001b[0m\u001b[0;34m\u001b[0m\u001b[0;34m\u001b[0m\u001b[0m\n\u001b[1;32m      4\u001b[0m \u001b[0mparams\u001b[0m \u001b[0;34m=\u001b[0m \u001b[0;34m[\u001b[0m\u001b[0ma\u001b[0m\u001b[0;34m,\u001b[0m \u001b[0mb\u001b[0m\u001b[0;34m]\u001b[0m\u001b[0;34m\u001b[0m\u001b[0;34m\u001b[0m\u001b[0m\n",
      "\u001b[0;31mNameError\u001b[0m: name 'X' is not defined"
     ]
    }
   ],
   "source": [
    "# Define the Hamiltonian with fixed coefficients\n",
    "H = 0.5 * X - 1 * Z\n",
    "# Define the parameters w.r.t. we want to compute the gradients\n",
    "params = [a, b]"
   ]
  },
  {
   "cell_type": "markdown",
   "metadata": {},
   "source": [
    "##### Parameter Shift Parameters\n",
    "Given a Hermitian operator $g$ with two unique eigenvalues $\\pm r$ which acts as generator for a parameterized quantum gate $$G(\\theta)= e^{-i\\theta g}$$. Then, quantum gradients can be computed by using eigenvalue $r$ dependent shifts to parameters. All parameterized qiskit gates from ---TODO--- can be shifted with $\\pi/2$\n",
    ",\n",
    "``` math\n",
    "d⟨ψ(θ)|O(ω)|ψ(θ)〉/ dθ ≈  (⟨ψ(θ+π/2)|O(ω)|ψ(θ+π/2)〉 - ⟨ψ(θ-π/2)|O(ω)|ψ(θ-π/2))*2\n",
    "```"
   ]
  },
  {
   "cell_type": "code",
   "execution_count": null,
   "metadata": {},
   "outputs": [],
   "source": [
    "# Define the values to be assigned to the parameters\n",
    "value_dict = { a: np.pi / 4, b: np.pi}\n",
    "\n",
    "# Combine the Hamiltonian observable and the state\n",
    "state_grad_op = ~StateFn(H) @ CircuitStateFn(primitive=qc, coeff=1.)\n",
    "state_grad = Gradient().convert(operator=state_grad_op, params=params, method='param_shift')\n",
    "# Assign the parameters and evaluate the gradient\n",
    "state_grad_result = state_grad.assign_parameters(value_dict).eval()\n",
    "print('State gradient computed with parameter shift', state_grad_result)\n",
    "\n",
    "prob_grad_op = CircuitStateFn(primitive=qc, coeff=1.)\n",
    "prob_grad = Gradient().convert(operator=prob_grad_op, params=params, method='param_shift')\n",
    "# Assign the parameters and evaluate the gradient\n",
    "prob_grad_result = prob_grad.assign_parameters(value_dict).eval()\n",
    "print('Probability gradient computed with parameter shift', prob_grad_result)"
   ]
  },
  {
   "cell_type": "markdown",
   "metadata": {},
   "source": [
    "##### Finite Difference Parameters\n",
    "\n",
    "Unlike the other methods, finite difference gradients are numerical estimations rather than analytical values.\n",
    "This implementation employs a central difference approach.\n",
    "``` math\n",
    "d⟨ψ(θ)|O(ω)|ψ(θ)〉/ dθ ≈  (⟨ψ(θ+ε)|O(ω)|ψ(θ+ε)〉 - ⟨ψ(θ-ε)|O(ω)|ψ(θ-ε))/2ε,\n",
    "```"
   ]
  },
  {
   "cell_type": "code",
   "execution_count": 14,
   "metadata": {},
   "outputs": [
    {
     "ename": "NameError",
     "evalue": "name 'Gradient' is not defined",
     "output_type": "error",
     "traceback": [
      "\u001b[0;31m---------------------------------------------------------------------------\u001b[0m",
      "\u001b[0;31mNameError\u001b[0m                                 Traceback (most recent call last)",
      "\u001b[0;32m<ipython-input-14-750220a09e2a>\u001b[0m in \u001b[0;36m<module>\u001b[0;34m\u001b[0m\n\u001b[0;32m----> 1\u001b[0;31m \u001b[0mstate_grad\u001b[0m \u001b[0;34m=\u001b[0m \u001b[0mGradient\u001b[0m\u001b[0;34m(\u001b[0m\u001b[0;34m)\u001b[0m\u001b[0;34m.\u001b[0m\u001b[0mconvert\u001b[0m\u001b[0;34m(\u001b[0m\u001b[0moperator\u001b[0m\u001b[0;34m=\u001b[0m\u001b[0mop\u001b[0m\u001b[0;34m,\u001b[0m \u001b[0mparams\u001b[0m\u001b[0;34m=\u001b[0m\u001b[0mparams\u001b[0m\u001b[0;34m,\u001b[0m \u001b[0mmethod\u001b[0m\u001b[0;34m=\u001b[0m\u001b[0;34m'finite_diff'\u001b[0m\u001b[0;34m)\u001b[0m\u001b[0;34m\u001b[0m\u001b[0;34m\u001b[0m\u001b[0m\n\u001b[0m",
      "\u001b[0;31mNameError\u001b[0m: name 'Gradient' is not defined"
     ]
    }
   ],
   "source": [
    "# Define the values to be assigned to the parameters\n",
    "value_dict = { a: np.pi / 4, b: np.pi}\n",
    "\n",
    "# Combine the Hamiltonian observable and the state\n",
    "state_grad_op = ~StateFn(H) @ CircuitStateFn(primitive=qc, coeff=1.)\n",
    "state_grad = Gradient().convert(operator=state_grad_op, params=params, method='finite_diff')\n",
    "# Assign the parameters and evaluate the gradient\n",
    "state_grad_result = state_grad.assign_parameters(value_dict).eval()\n",
    "print('State gradient computed with finite difference', state_grad_result)\n",
    "\n",
    "prob_grad_op = CircuitStateFn(primitive=qc, coeff=1.)\n",
    "prob_grad = Gradient().convert(operator=prob_grad_op, params=params, method='finite_diff')\n",
    "# Assign the parameters and evaluate the gradient\n",
    "prob_grad_result = prob_grad.assign_parameters(value_dict).eval()\n",
    "print('Probability gradient computed with finite difference', prob_grad_result)"
   ]
  },
  {
   "cell_type": "markdown",
   "metadata": {},
   "source": [
    "##### Linear Combination of Unitaries Parameters\n",
    "Variance linear combination, fewer circuits add qubit"
   ]
  },
  {
   "cell_type": "code",
   "execution_count": null,
   "metadata": {},
   "outputs": [],
   "source": [
    "# Define the values to be assigned to the parameters\n",
    "value_dict = { a: np.pi / 4, b: np.pi}\n",
    "\n",
    "# Combine the Hamiltonian observable and the state\n",
    "state_grad_op = ~StateFn(H) @ CircuitStateFn(primitive=qc, coeff=1.)\n",
    "state_grad = Gradient().convert(operator=state_grad_op, params=params, method='lin_comb')\n",
    "# Assign the parameters and evaluate the gradient\n",
    "state_grad_result = state_grad.assign_parameters(value_dict).eval()\n",
    "print('State gradient computed with linear combination of unitaries', state_grad_result)\n",
    "\n",
    "prob_grad_op = CircuitStateFn(primitive=qc, coeff=1.)\n",
    "prob_grad = Gradient().convert(operator=prob_grad_op, params=params, method='lin_comb')\n",
    "# Assign the parameters and evaluate the gradient\n",
    "prob_grad_result = prob_grad.assign_parameters(value_dict).eval()\n",
    "print('Probability gradient computed with linear combination of unitaries', prob_grad_result)"
   ]
  },
  {
   "cell_type": "markdown",
   "metadata": {},
   "source": [
    "#### Natural Gradient\n",
    "\n"
   ]
  },
  {
   "cell_type": "code",
   "execution_count": null,
   "metadata": {},
   "outputs": [],
   "source": [
    "# Define the values to be assigned to the parameters\n",
    "value_dict = { a: np.pi / 4, b: np.pi}\n",
    "\n",
    "# Combine the Hamiltonian observable and the state\n",
    "op = ~StateFn(H) @ CircuitStateFn(primitive=qc, coeff=1.)\n",
    "# A regularization method can be chosen, e.g. ridge or lasso with automatic parameter search\n",
    "nat_grad = NaturalGradient().convert(operator=op, params=params, method='lin_comb', regularization='ridge')\n",
    "# Assign the parameters and evaluate the gradient\n",
    "nat)grad_result = nat_grad.assign_parameters(value_dict).eval()\n",
    "print('Natural gradient computed with linear combination of unitaries', nat_grad_result)"
   ]
  },
  {
   "cell_type": "markdown",
   "metadata": {},
   "source": [
    "### Second Order Gradients"
   ]
  },
  {
   "cell_type": "markdown",
   "metadata": {},
   "source": [
    "#### Gradients w.r.t. Measurement Operator Coefficients"
   ]
  },
  {
   "cell_type": "markdown",
   "metadata": {},
   "source": [
    "#### Gradients w.r.t. Measurement Quantum State Parameters"
   ]
  },
  {
   "cell_type": "markdown",
   "metadata": {},
   "source": [
    "##### Parameter Shift Parameters"
   ]
  },
  {
   "cell_type": "markdown",
   "metadata": {},
   "source": [
    "##### Linear Combination of Unitaries Parameters"
   ]
  },
  {
   "cell_type": "markdown",
   "metadata": {},
   "source": [
    "### QFI"
   ]
  },
  {
   "cell_type": "markdown",
   "metadata": {},
   "source": [
    "#### Full QFI\n",
    "Using linear combination of unitaries"
   ]
  },
  {
   "cell_type": "markdown",
   "metadata": {},
   "source": [
    "#### Block-diagonal Approximation\n",
    "Without working qubits\n",
    "Requires unrolling into Pauli rotations and unparameterized Gates"
   ]
  },
  {
   "cell_type": "markdown",
   "metadata": {},
   "source": [
    "#### Diagonal Approximation\n",
    "Without working qubits\n",
    "Requires unrolling into Pauli rotations and unparameterized Gates"
   ]
  },
  {
   "cell_type": "markdown",
   "metadata": {},
   "source": [
    "### Application Examples"
   ]
  },
  {
   "cell_type": "markdown",
   "metadata": {},
   "source": [
    "#### VQE with first and second order gradient based optimization"
   ]
  },
  {
   "cell_type": "code",
   "execution_count": null,
   "metadata": {},
   "outputs": [],
   "source": [
    "from qiskit.aqua.operators import I, X, Z\n",
    "from qiskit.circuit import QuantumCircuit, ParameterVector\n",
    "from scipy.optimize import minimize\n",
    "\n",
    "h2_hamiltonian = -1.05 * (I ^ I) + 0.39 * (I ^ Z) - 0.39 * (Z ^ I) - 0.01 * (Z ^ Z) + 0.18 * (X ^ X)\n",
    "h2_energy = -1.85727503\n",
    "\n",
    "\n",
    "# Define the Ansatz\n",
    "wavefunction = QuantumCircuit(2)\n",
    "params = ParameterVector('theta', length=8)\n",
    "it = iter(params)\n",
    "wavefunction.ry(next(it), 0)\n",
    "wavefunction.ry(next(it), 1)\n",
    "wavefunction.rz(next(it), 0)\n",
    "wavefunction.rz(next(it), 1)\n",
    "wavefunction.cx(0, 1)\n",
    "wavefunction.ry(next(it), 0)\n",
    "wavefunction.ry(next(it), 1)\n",
    "wavefunction.rz(next(it), 0)\n",
    "wavefunction.rz(next(it), 1)\n",
    "\n",
    "def fun(params):\n",
    "    param_dict = dict(zip(wavefunction.parameters, params)) @ wavefunction\n",
    "    op = ~StateFn(h2_hamiltonian) \n",
    "    return op.assign_parameters(param_dict).eval()\n",
    "\n",
    "# TODO jac and hessian getting callable\n",
    "result = minimize(fun, x0, , method='dogleg', jac=None, hess=None)\n",
    "\n",
    "print('VQE:', result, 'Reference:', h2_energy)"
   ]
  },
  {
   "cell_type": "markdown",
   "metadata": {},
   "source": [
    "#### Gibbs state preparation using Variational Quantum Imaginary Time Evolution (VarQITE)\n"
   ]
  },
  {
   "cell_type": "code",
   "execution_count": 17,
   "metadata": {},
   "outputs": [
    {
     "ename": "SyntaxError",
     "evalue": "invalid syntax (<ipython-input-17-9c499b9d403f>, line 8)",
     "output_type": "error",
     "traceback": [
      "\u001b[0;36m  File \u001b[0;32m\"<ipython-input-17-9c499b9d403f>\"\u001b[0;36m, line \u001b[0;32m8\u001b[0m\n\u001b[0;31m    param_values -= t/num_time_steps * nat_grad.assign_parameter(param_dict).eval()\u001b[0m\n\u001b[0m               ^\u001b[0m\n\u001b[0;31mSyntaxError\u001b[0m\u001b[0;31m:\u001b[0m invalid syntax\n"
     ]
    }
   ],
   "source": [
    "from qiskit.circuit.library import RealAmplitudes\n",
    "\n",
    "# Temperature\n",
    "T = 5\n",
    "\n",
    "# Evolution time\n",
    "t =  1/(2*T)\n",
    "\n",
    "# Define the model Hamiltonian\n",
    "H = (0.3 * Z^Z + 0.2 * Z^I - 0.5 * I ^ Z) ^ I^I\n",
    "# Instantiate the model ansatz\n",
    "depth = 1\n",
    "ansatz = RealAmplitudes(4, reps=depth, entanglement = 'sca')\n",
    "qr = ansatz.qregs[0]\n",
    "for i in range(int(len(qr)/2)):\n",
    "    ansatz.cx(qr[i], qr[i+int(len(qr)/2)])\n",
    "    \n",
    "# Define the Hamiltonian as observable w.r.t. the wavefunction generated by the Ansatz    \n",
    "op = ~StateFn(H) @ ansatz\n",
    "\n",
    "# Define the discretization grid of the time steps\n",
    "num_time_steps = 100\n",
    "time_steps = np.linspace(0, t, num_time_steps)\n",
    "\n",
    "# Initialize the Ansatz parameters\n",
    "param_values = np.zeros(2 * H.num_qubits * 2 * (depth + 1))\n",
    "for j in range(2 * H.num_qubits * 2 * depth, int(len(param_values) - 2 * H.num_qubits -1), 2):\n",
    "    param_values[j] = np.pi / 2.\n",
    "\n",
    "# Convert the operator that holds the Hamiltonian and ansatz into a NaturalGradient operator \n",
    "nat_grad = NaturalGradient.convert(op, ansatz.ordered_parameters)\n",
    "\n",
    "# Propagate the Ansatz parameters step by step according to the explicit Euler method\n",
    "for step in time_steps:\n",
    "    param_dict = dict(zip(ansatz.ordered_parameters, param_values)\n",
    "    param_values -= t/num_time_steps * nat_grad.assign_parameter(param_dict).eval()\n",
    "  "
   ]
  },
  {
   "cell_type": "markdown",
   "metadata": {},
   "source": [
    "#### QBMs? - see if time allows"
   ]
  },
  {
   "cell_type": "code",
   "execution_count": null,
   "metadata": {},
   "outputs": [],
   "source": []
  }
 ],
 "metadata": {
  "kernelspec": {
   "display_name": "QiskitDevenv",
   "language": "python",
   "name": "qiskitdevenv"
  },
  "language_info": {
   "codemirror_mode": {
    "name": "ipython",
    "version": 3
   },
   "file_extension": ".py",
   "mimetype": "text/x-python",
   "name": "python",
   "nbconvert_exporter": "python",
   "pygments_lexer": "ipython3",
   "version": "3.7.3"
  }
 },
 "nbformat": 4,
 "nbformat_minor": 1
}
